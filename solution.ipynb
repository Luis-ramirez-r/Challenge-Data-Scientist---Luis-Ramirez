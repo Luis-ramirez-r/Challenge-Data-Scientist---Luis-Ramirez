{
 "cells": [
  {
   "cell_type": "code",
   "execution_count": 1,
   "metadata": {},
   "outputs": [],
   "source": [
    "%load_ext autoreload\n",
    "%autoreload 2"
   ]
  },
  {
   "cell_type": "code",
   "execution_count": 2,
   "metadata": {},
   "outputs": [
    {
     "name": "stderr",
     "output_type": "stream",
     "text": [
      "/home/codespace/.python/current/lib/python3.10/site-packages/tqdm/auto.py:22: TqdmWarning: IProgress not found. Please update jupyter and ipywidgets. See https://ipywidgets.readthedocs.io/en/stable/user_install.html\n",
      "  from .autonotebook import tqdm as notebook_tqdm\n"
     ]
    }
   ],
   "source": [
    "import pandas as pd \n",
    "from pathlib import Path\n",
    "import matplotlib.pyplot as plt\n",
    "import seaborn as sns\n",
    "import numpy as np\n",
    "from collections import defaultdict\n",
    "import json\n",
    "import pickle\n",
    "\n",
    "from sklearn.model_selection import train_test_split\n",
    "from sklearn.linear_model import LogisticRegression\n",
    "from sklearn.metrics import accuracy_score, f1_score, precision_score, recall_score, classification_report, confusion_matrix\n",
    "from sklearn.metrics import confusion_matrix\n",
    "from sklearn.model_selection import StratifiedShuffleSplit\n",
    "\n",
    "from lightgbm import LGBMClassifier\n",
    "\n",
    "\n",
    "from sklearn.model_selection import RandomizedSearchCV\n",
    "from scipy.stats import randint as sp_randint\n",
    "from scipy.stats import uniform as sp_uniform\n",
    "\n",
    "import category_encoders as ce\n",
    "import sweetviz as sv\n",
    "\n",
    "import warnings\n",
    "warnings.filterwarnings('ignore', category=FutureWarning)\n"
   ]
  },
  {
   "cell_type": "code",
   "execution_count": 3,
   "metadata": {},
   "outputs": [],
   "source": [
    "# import custom functions \n",
    "from utils.utils import make_bar_plot, get_high_season, train_base_model, plot_feature_importance "
   ]
  },
  {
   "cell_type": "code",
   "execution_count": 4,
   "metadata": {},
   "outputs": [],
   "source": [
    "base_color = '#3B3B3B'"
   ]
  },
  {
   "cell_type": "code",
   "execution_count": 5,
   "metadata": {},
   "outputs": [],
   "source": [
    "# Load the data\n",
    "data_dir = 'data/raw/'\n",
    "data_file = 'dataset_SCL.csv'\n",
    "\n",
    "# use pathlib to create a path to the data file \n",
    "data_path = Path(data_dir + data_file)"
   ]
  },
  {
   "cell_type": "code",
   "execution_count": 44,
   "metadata": {},
   "outputs": [
    {
     "data": {
      "text/html": [
       "<div>\n",
       "<style scoped>\n",
       "    .dataframe tbody tr th:only-of-type {\n",
       "        vertical-align: middle;\n",
       "    }\n",
       "\n",
       "    .dataframe tbody tr th {\n",
       "        vertical-align: top;\n",
       "    }\n",
       "\n",
       "    .dataframe thead th {\n",
       "        text-align: right;\n",
       "    }\n",
       "</style>\n",
       "<table border=\"1\" class=\"dataframe\">\n",
       "  <thead>\n",
       "    <tr style=\"text-align: right;\">\n",
       "      <th></th>\n",
       "      <th>Fecha-I</th>\n",
       "      <th>Vlo-I</th>\n",
       "      <th>Ori-I</th>\n",
       "      <th>Des-I</th>\n",
       "      <th>Emp-I</th>\n",
       "      <th>Fecha-O</th>\n",
       "      <th>Vlo-O</th>\n",
       "      <th>Ori-O</th>\n",
       "      <th>Des-O</th>\n",
       "      <th>Emp-O</th>\n",
       "      <th>DIA</th>\n",
       "      <th>MES</th>\n",
       "      <th>AÑO</th>\n",
       "      <th>DIANOM</th>\n",
       "      <th>TIPOVUELO</th>\n",
       "      <th>OPERA</th>\n",
       "      <th>SIGLAORI</th>\n",
       "      <th>SIGLADES</th>\n",
       "    </tr>\n",
       "  </thead>\n",
       "  <tbody>\n",
       "    <tr>\n",
       "      <th>0</th>\n",
       "      <td>2017-01-01 23:30:00</td>\n",
       "      <td>226</td>\n",
       "      <td>SCEL</td>\n",
       "      <td>KMIA</td>\n",
       "      <td>AAL</td>\n",
       "      <td>2017-01-01 23:33:00</td>\n",
       "      <td>226</td>\n",
       "      <td>SCEL</td>\n",
       "      <td>KMIA</td>\n",
       "      <td>AAL</td>\n",
       "      <td>1</td>\n",
       "      <td>1</td>\n",
       "      <td>2017</td>\n",
       "      <td>Domingo</td>\n",
       "      <td>I</td>\n",
       "      <td>American Airlines</td>\n",
       "      <td>Santiago</td>\n",
       "      <td>Miami</td>\n",
       "    </tr>\n",
       "    <tr>\n",
       "      <th>1</th>\n",
       "      <td>2017-01-02 23:30:00</td>\n",
       "      <td>226</td>\n",
       "      <td>SCEL</td>\n",
       "      <td>KMIA</td>\n",
       "      <td>AAL</td>\n",
       "      <td>2017-01-02 23:39:00</td>\n",
       "      <td>226</td>\n",
       "      <td>SCEL</td>\n",
       "      <td>KMIA</td>\n",
       "      <td>AAL</td>\n",
       "      <td>2</td>\n",
       "      <td>1</td>\n",
       "      <td>2017</td>\n",
       "      <td>Lunes</td>\n",
       "      <td>I</td>\n",
       "      <td>American Airlines</td>\n",
       "      <td>Santiago</td>\n",
       "      <td>Miami</td>\n",
       "    </tr>\n",
       "    <tr>\n",
       "      <th>2</th>\n",
       "      <td>2017-01-03 23:30:00</td>\n",
       "      <td>226</td>\n",
       "      <td>SCEL</td>\n",
       "      <td>KMIA</td>\n",
       "      <td>AAL</td>\n",
       "      <td>2017-01-03 23:39:00</td>\n",
       "      <td>226</td>\n",
       "      <td>SCEL</td>\n",
       "      <td>KMIA</td>\n",
       "      <td>AAL</td>\n",
       "      <td>3</td>\n",
       "      <td>1</td>\n",
       "      <td>2017</td>\n",
       "      <td>Martes</td>\n",
       "      <td>I</td>\n",
       "      <td>American Airlines</td>\n",
       "      <td>Santiago</td>\n",
       "      <td>Miami</td>\n",
       "    </tr>\n",
       "    <tr>\n",
       "      <th>3</th>\n",
       "      <td>2017-01-04 23:30:00</td>\n",
       "      <td>226</td>\n",
       "      <td>SCEL</td>\n",
       "      <td>KMIA</td>\n",
       "      <td>AAL</td>\n",
       "      <td>2017-01-04 23:33:00</td>\n",
       "      <td>226</td>\n",
       "      <td>SCEL</td>\n",
       "      <td>KMIA</td>\n",
       "      <td>AAL</td>\n",
       "      <td>4</td>\n",
       "      <td>1</td>\n",
       "      <td>2017</td>\n",
       "      <td>Miercoles</td>\n",
       "      <td>I</td>\n",
       "      <td>American Airlines</td>\n",
       "      <td>Santiago</td>\n",
       "      <td>Miami</td>\n",
       "    </tr>\n",
       "    <tr>\n",
       "      <th>4</th>\n",
       "      <td>2017-01-05 23:30:00</td>\n",
       "      <td>226</td>\n",
       "      <td>SCEL</td>\n",
       "      <td>KMIA</td>\n",
       "      <td>AAL</td>\n",
       "      <td>2017-01-05 23:28:00</td>\n",
       "      <td>226</td>\n",
       "      <td>SCEL</td>\n",
       "      <td>KMIA</td>\n",
       "      <td>AAL</td>\n",
       "      <td>5</td>\n",
       "      <td>1</td>\n",
       "      <td>2017</td>\n",
       "      <td>Jueves</td>\n",
       "      <td>I</td>\n",
       "      <td>American Airlines</td>\n",
       "      <td>Santiago</td>\n",
       "      <td>Miami</td>\n",
       "    </tr>\n",
       "  </tbody>\n",
       "</table>\n",
       "</div>"
      ],
      "text/plain": [
       "               Fecha-I Vlo-I Ori-I Des-I Emp-I              Fecha-O Vlo-O  \\\n",
       "0  2017-01-01 23:30:00   226  SCEL  KMIA   AAL  2017-01-01 23:33:00   226   \n",
       "1  2017-01-02 23:30:00   226  SCEL  KMIA   AAL  2017-01-02 23:39:00   226   \n",
       "2  2017-01-03 23:30:00   226  SCEL  KMIA   AAL  2017-01-03 23:39:00   226   \n",
       "3  2017-01-04 23:30:00   226  SCEL  KMIA   AAL  2017-01-04 23:33:00   226   \n",
       "4  2017-01-05 23:30:00   226  SCEL  KMIA   AAL  2017-01-05 23:28:00   226   \n",
       "\n",
       "  Ori-O Des-O Emp-O  DIA  MES   AÑO     DIANOM TIPOVUELO              OPERA  \\\n",
       "0  SCEL  KMIA   AAL    1    1  2017    Domingo         I  American Airlines   \n",
       "1  SCEL  KMIA   AAL    2    1  2017      Lunes         I  American Airlines   \n",
       "2  SCEL  KMIA   AAL    3    1  2017     Martes         I  American Airlines   \n",
       "3  SCEL  KMIA   AAL    4    1  2017  Miercoles         I  American Airlines   \n",
       "4  SCEL  KMIA   AAL    5    1  2017     Jueves         I  American Airlines   \n",
       "\n",
       "   SIGLAORI SIGLADES  \n",
       "0  Santiago    Miami  \n",
       "1  Santiago    Miami  \n",
       "2  Santiago    Miami  \n",
       "3  Santiago    Miami  \n",
       "4  Santiago    Miami  "
      ]
     },
     "metadata": {},
     "output_type": "display_data"
    },
    {
     "data": {
      "text/plain": [
       "(68206, 18)"
      ]
     },
     "execution_count": 44,
     "metadata": {},
     "output_type": "execute_result"
    }
   ],
   "source": [
    "df = pd.read_csv(data_path,low_memory=False) \n",
    "\n",
    "display(df.head())\n",
    "\n",
    "df.shape"
   ]
  },
  {
   "attachments": {},
   "cell_type": "markdown",
   "metadata": {},
   "source": [
    "### Question 1: How is the data distributed? Did you find any noteworthy insight to share? What can you conclude about this?\n"
   ]
  },
  {
   "cell_type": "code",
   "execution_count": 45,
   "metadata": {},
   "outputs": [
    {
     "data": {
      "text/plain": [
       "Fecha-I      53252\n",
       "Vlo-I          584\n",
       "Ori-I            1\n",
       "Des-I           64\n",
       "Emp-I           30\n",
       "Fecha-O      62774\n",
       "Vlo-O          861\n",
       "Ori-O            1\n",
       "Des-O           63\n",
       "Emp-O           32\n",
       "DIA             31\n",
       "MES             12\n",
       "AÑO              2\n",
       "DIANOM           7\n",
       "TIPOVUELO        2\n",
       "OPERA           23\n",
       "SIGLAORI         1\n",
       "SIGLADES        62\n",
       "dtype: int64"
      ]
     },
     "execution_count": 45,
     "metadata": {},
     "output_type": "execute_result"
    }
   ],
   "source": [
    "# I start with some quick validations, e.g. in the bellow series we can see that there are 3 columnns with constant values, which are not useful for the model. \n",
    "df.nunique()"
   ]
  },
  {
   "cell_type": "code",
   "execution_count": 46,
   "metadata": {},
   "outputs": [
    {
     "data": {
      "text/html": [
       "<div>\n",
       "<style scoped>\n",
       "    .dataframe tbody tr th:only-of-type {\n",
       "        vertical-align: middle;\n",
       "    }\n",
       "\n",
       "    .dataframe tbody tr th {\n",
       "        vertical-align: top;\n",
       "    }\n",
       "\n",
       "    .dataframe thead th {\n",
       "        text-align: right;\n",
       "    }\n",
       "</style>\n",
       "<table border=\"1\" class=\"dataframe\">\n",
       "  <thead>\n",
       "    <tr style=\"text-align: right;\">\n",
       "      <th></th>\n",
       "      <th>Fecha-I</th>\n",
       "      <th>Vlo-I</th>\n",
       "      <th>Ori-I</th>\n",
       "      <th>Des-I</th>\n",
       "      <th>Emp-I</th>\n",
       "      <th>Fecha-O</th>\n",
       "      <th>Vlo-O</th>\n",
       "      <th>Ori-O</th>\n",
       "      <th>Des-O</th>\n",
       "      <th>Emp-O</th>\n",
       "      <th>DIA</th>\n",
       "      <th>MES</th>\n",
       "      <th>AÑO</th>\n",
       "      <th>DIANOM</th>\n",
       "      <th>TIPOVUELO</th>\n",
       "      <th>OPERA</th>\n",
       "      <th>SIGLAORI</th>\n",
       "      <th>SIGLADES</th>\n",
       "    </tr>\n",
       "  </thead>\n",
       "  <tbody>\n",
       "    <tr>\n",
       "      <th>0</th>\n",
       "      <td>0</td>\n",
       "      <td>0</td>\n",
       "      <td>0</td>\n",
       "      <td>0</td>\n",
       "      <td>0</td>\n",
       "      <td>0</td>\n",
       "      <td>1</td>\n",
       "      <td>0</td>\n",
       "      <td>0</td>\n",
       "      <td>0</td>\n",
       "      <td>0</td>\n",
       "      <td>0</td>\n",
       "      <td>0</td>\n",
       "      <td>0</td>\n",
       "      <td>0</td>\n",
       "      <td>0</td>\n",
       "      <td>0</td>\n",
       "      <td>0</td>\n",
       "    </tr>\n",
       "  </tbody>\n",
       "</table>\n",
       "</div>"
      ],
      "text/plain": [
       "   Fecha-I  Vlo-I  Ori-I  Des-I  Emp-I  Fecha-O  Vlo-O  Ori-O  Des-O  Emp-O  \\\n",
       "0        0      0      0      0      0        0      1      0      0      0   \n",
       "\n",
       "   DIA  MES  AÑO  DIANOM  TIPOVUELO  OPERA  SIGLAORI  SIGLADES  \n",
       "0    0    0    0       0          0      0         0         0  "
      ]
     },
     "execution_count": 46,
     "metadata": {},
     "output_type": "execute_result"
    }
   ],
   "source": [
    "# Next I search for missing values\n",
    "df.isnull().sum().to_frame().T"
   ]
  },
  {
   "cell_type": "code",
   "execution_count": 47,
   "metadata": {},
   "outputs": [
    {
     "data": {
      "text/html": [
       "<div>\n",
       "<style scoped>\n",
       "    .dataframe tbody tr th:only-of-type {\n",
       "        vertical-align: middle;\n",
       "    }\n",
       "\n",
       "    .dataframe tbody tr th {\n",
       "        vertical-align: top;\n",
       "    }\n",
       "\n",
       "    .dataframe thead th {\n",
       "        text-align: right;\n",
       "    }\n",
       "</style>\n",
       "<table border=\"1\" class=\"dataframe\">\n",
       "  <thead>\n",
       "    <tr style=\"text-align: right;\">\n",
       "      <th></th>\n",
       "      <th>Fecha-I</th>\n",
       "      <th>Vlo-I</th>\n",
       "      <th>Ori-I</th>\n",
       "      <th>Des-I</th>\n",
       "      <th>Emp-I</th>\n",
       "      <th>Fecha-O</th>\n",
       "      <th>Vlo-O</th>\n",
       "      <th>Ori-O</th>\n",
       "      <th>Des-O</th>\n",
       "      <th>Emp-O</th>\n",
       "      <th>DIA</th>\n",
       "      <th>MES</th>\n",
       "      <th>AÑO</th>\n",
       "      <th>DIANOM</th>\n",
       "      <th>TIPOVUELO</th>\n",
       "      <th>OPERA</th>\n",
       "      <th>SIGLAORI</th>\n",
       "      <th>SIGLADES</th>\n",
       "    </tr>\n",
       "  </thead>\n",
       "  <tbody>\n",
       "    <tr>\n",
       "      <th>6068</th>\n",
       "      <td>2017-01-19 11:00:00</td>\n",
       "      <td>200</td>\n",
       "      <td>SCEL</td>\n",
       "      <td>SPJC</td>\n",
       "      <td>LAW</td>\n",
       "      <td>2017-01-19 11:03:00</td>\n",
       "      <td>NaN</td>\n",
       "      <td>SCEL</td>\n",
       "      <td>SPJC</td>\n",
       "      <td>56R</td>\n",
       "      <td>19</td>\n",
       "      <td>1</td>\n",
       "      <td>2017</td>\n",
       "      <td>Jueves</td>\n",
       "      <td>I</td>\n",
       "      <td>Latin American Wings</td>\n",
       "      <td>Santiago</td>\n",
       "      <td>Lima</td>\n",
       "    </tr>\n",
       "  </tbody>\n",
       "</table>\n",
       "</div>"
      ],
      "text/plain": [
       "                  Fecha-I Vlo-I Ori-I Des-I Emp-I              Fecha-O Vlo-O  \\\n",
       "6068  2017-01-19 11:00:00   200  SCEL  SPJC   LAW  2017-01-19 11:03:00   NaN   \n",
       "\n",
       "     Ori-O Des-O Emp-O  DIA  MES   AÑO  DIANOM TIPOVUELO  \\\n",
       "6068  SCEL  SPJC   56R   19    1  2017  Jueves         I   \n",
       "\n",
       "                     OPERA  SIGLAORI SIGLADES  \n",
       "6068  Latin American Wings  Santiago     Lima  "
      ]
     },
     "execution_count": 47,
     "metadata": {},
     "output_type": "execute_result"
    }
   ],
   "source": [
    "df[df.isnull().any(axis=1)]\n"
   ]
  },
  {
   "cell_type": "code",
   "execution_count": 48,
   "metadata": {},
   "outputs": [],
   "source": [
    "# since there is only one missing value we can drop the row \n",
    "df = df.dropna()"
   ]
  },
  {
   "cell_type": "code",
   "execution_count": 49,
   "metadata": {},
   "outputs": [
    {
     "data": {
      "text/html": [
       "<div>\n",
       "<style scoped>\n",
       "    .dataframe tbody tr th:only-of-type {\n",
       "        vertical-align: middle;\n",
       "    }\n",
       "\n",
       "    .dataframe tbody tr th {\n",
       "        vertical-align: top;\n",
       "    }\n",
       "\n",
       "    .dataframe thead th {\n",
       "        text-align: right;\n",
       "    }\n",
       "</style>\n",
       "<table border=\"1\" class=\"dataframe\">\n",
       "  <thead>\n",
       "    <tr style=\"text-align: right;\">\n",
       "      <th></th>\n",
       "      <th>Fecha-I</th>\n",
       "      <th>Vlo-I</th>\n",
       "      <th>Ori-I</th>\n",
       "      <th>Des-I</th>\n",
       "      <th>Emp-I</th>\n",
       "      <th>Fecha-O</th>\n",
       "      <th>Vlo-O</th>\n",
       "      <th>Ori-O</th>\n",
       "      <th>Des-O</th>\n",
       "      <th>Emp-O</th>\n",
       "      <th>DIA</th>\n",
       "      <th>MES</th>\n",
       "      <th>AÑO</th>\n",
       "      <th>DIANOM</th>\n",
       "      <th>TIPOVUELO</th>\n",
       "      <th>OPERA</th>\n",
       "      <th>SIGLAORI</th>\n",
       "      <th>SIGLADES</th>\n",
       "    </tr>\n",
       "  </thead>\n",
       "  <tbody>\n",
       "    <tr>\n",
       "      <th>0</th>\n",
       "      <td>object</td>\n",
       "      <td>object</td>\n",
       "      <td>object</td>\n",
       "      <td>object</td>\n",
       "      <td>object</td>\n",
       "      <td>object</td>\n",
       "      <td>object</td>\n",
       "      <td>object</td>\n",
       "      <td>object</td>\n",
       "      <td>object</td>\n",
       "      <td>int64</td>\n",
       "      <td>int64</td>\n",
       "      <td>int64</td>\n",
       "      <td>object</td>\n",
       "      <td>object</td>\n",
       "      <td>object</td>\n",
       "      <td>object</td>\n",
       "      <td>object</td>\n",
       "    </tr>\n",
       "  </tbody>\n",
       "</table>\n",
       "</div>"
      ],
      "text/plain": [
       "  Fecha-I   Vlo-I   Ori-I   Des-I   Emp-I Fecha-O   Vlo-O   Ori-O   Des-O  \\\n",
       "0  object  object  object  object  object  object  object  object  object   \n",
       "\n",
       "    Emp-O    DIA    MES    AÑO  DIANOM TIPOVUELO   OPERA SIGLAORI SIGLADES  \n",
       "0  object  int64  int64  int64  object    object  object   object   object  "
      ]
     },
     "metadata": {},
     "output_type": "display_data"
    },
    {
     "data": {
      "text/html": [
       "<div>\n",
       "<style scoped>\n",
       "    .dataframe tbody tr th:only-of-type {\n",
       "        vertical-align: middle;\n",
       "    }\n",
       "\n",
       "    .dataframe tbody tr th {\n",
       "        vertical-align: top;\n",
       "    }\n",
       "\n",
       "    .dataframe thead th {\n",
       "        text-align: right;\n",
       "    }\n",
       "</style>\n",
       "<table border=\"1\" class=\"dataframe\">\n",
       "  <thead>\n",
       "    <tr style=\"text-align: right;\">\n",
       "      <th></th>\n",
       "      <th>Fecha-I</th>\n",
       "      <th>Vlo-I</th>\n",
       "      <th>Ori-I</th>\n",
       "      <th>Des-I</th>\n",
       "      <th>Emp-I</th>\n",
       "      <th>Fecha-O</th>\n",
       "      <th>Vlo-O</th>\n",
       "      <th>Ori-O</th>\n",
       "      <th>Des-O</th>\n",
       "      <th>Emp-O</th>\n",
       "      <th>DIA</th>\n",
       "      <th>MES</th>\n",
       "      <th>AÑO</th>\n",
       "      <th>DIANOM</th>\n",
       "      <th>TIPOVUELO</th>\n",
       "      <th>OPERA</th>\n",
       "      <th>SIGLAORI</th>\n",
       "      <th>SIGLADES</th>\n",
       "    </tr>\n",
       "  </thead>\n",
       "  <tbody>\n",
       "    <tr>\n",
       "      <th>0</th>\n",
       "      <td>datetime64[ns]</td>\n",
       "      <td>object</td>\n",
       "      <td>object</td>\n",
       "      <td>object</td>\n",
       "      <td>object</td>\n",
       "      <td>datetime64[ns]</td>\n",
       "      <td>object</td>\n",
       "      <td>object</td>\n",
       "      <td>object</td>\n",
       "      <td>object</td>\n",
       "      <td>int64</td>\n",
       "      <td>int64</td>\n",
       "      <td>int64</td>\n",
       "      <td>object</td>\n",
       "      <td>object</td>\n",
       "      <td>object</td>\n",
       "      <td>object</td>\n",
       "      <td>object</td>\n",
       "    </tr>\n",
       "  </tbody>\n",
       "</table>\n",
       "</div>"
      ],
      "text/plain": [
       "          Fecha-I   Vlo-I   Ori-I   Des-I   Emp-I         Fecha-O   Vlo-O  \\\n",
       "0  datetime64[ns]  object  object  object  object  datetime64[ns]  object   \n",
       "\n",
       "    Ori-O   Des-O   Emp-O    DIA    MES    AÑO  DIANOM TIPOVUELO   OPERA  \\\n",
       "0  object  object  object  int64  int64  int64  object    object  object   \n",
       "\n",
       "  SIGLAORI SIGLADES  \n",
       "0   object   object  "
      ]
     },
     "metadata": {},
     "output_type": "display_data"
    }
   ],
   "source": [
    "# regarding the data types, the dates are as strings, so I convert them to datetime \n",
    "\n",
    "display(df.dtypes.to_frame().T)\n",
    "\n",
    "df['Fecha-I'] = pd.to_datetime(df['Fecha-I'])\n",
    "df['Fecha-O'] = pd.to_datetime(df['Fecha-O'])\n",
    "\n",
    "\n",
    "display(df.dtypes.to_frame().T)"
   ]
  },
  {
   "cell_type": "code",
   "execution_count": 50,
   "metadata": {},
   "outputs": [],
   "source": [
    "# create two new columns for the year and month  \n",
    "#df['year'] = df['Fecha-I'].dt.year\n",
    "#df['month'] = df['Fecha-I'].dt.month\n"
   ]
  },
  {
   "attachments": {},
   "cell_type": "markdown",
   "metadata": {},
   "source": [
    "## Univariate analysis "
   ]
  },
  {
   "cell_type": "code",
   "execution_count": 51,
   "metadata": {},
   "outputs": [
    {
     "data": {
      "text/html": [
       "<div>\n",
       "<style scoped>\n",
       "    .dataframe tbody tr th:only-of-type {\n",
       "        vertical-align: middle;\n",
       "    }\n",
       "\n",
       "    .dataframe tbody tr th {\n",
       "        vertical-align: top;\n",
       "    }\n",
       "\n",
       "    .dataframe thead th {\n",
       "        text-align: right;\n",
       "    }\n",
       "</style>\n",
       "<table border=\"1\" class=\"dataframe\">\n",
       "  <thead>\n",
       "    <tr style=\"text-align: right;\">\n",
       "      <th></th>\n",
       "      <th>Fecha-I</th>\n",
       "      <th>Vlo-I</th>\n",
       "      <th>Ori-I</th>\n",
       "      <th>Des-I</th>\n",
       "      <th>Emp-I</th>\n",
       "      <th>Fecha-O</th>\n",
       "      <th>Vlo-O</th>\n",
       "      <th>Ori-O</th>\n",
       "      <th>Des-O</th>\n",
       "      <th>Emp-O</th>\n",
       "      <th>DIA</th>\n",
       "      <th>MES</th>\n",
       "      <th>AÑO</th>\n",
       "      <th>DIANOM</th>\n",
       "      <th>TIPOVUELO</th>\n",
       "      <th>OPERA</th>\n",
       "      <th>SIGLAORI</th>\n",
       "      <th>SIGLADES</th>\n",
       "    </tr>\n",
       "  </thead>\n",
       "  <tbody>\n",
       "    <tr>\n",
       "      <th>0</th>\n",
       "      <td>2017-01-01 23:30:00</td>\n",
       "      <td>226</td>\n",
       "      <td>SCEL</td>\n",
       "      <td>KMIA</td>\n",
       "      <td>AAL</td>\n",
       "      <td>2017-01-01 23:33:00</td>\n",
       "      <td>226</td>\n",
       "      <td>SCEL</td>\n",
       "      <td>KMIA</td>\n",
       "      <td>AAL</td>\n",
       "      <td>1</td>\n",
       "      <td>1</td>\n",
       "      <td>2017</td>\n",
       "      <td>Domingo</td>\n",
       "      <td>I</td>\n",
       "      <td>American Airlines</td>\n",
       "      <td>Santiago</td>\n",
       "      <td>Miami</td>\n",
       "    </tr>\n",
       "    <tr>\n",
       "      <th>1</th>\n",
       "      <td>2017-01-02 23:30:00</td>\n",
       "      <td>226</td>\n",
       "      <td>SCEL</td>\n",
       "      <td>KMIA</td>\n",
       "      <td>AAL</td>\n",
       "      <td>2017-01-02 23:39:00</td>\n",
       "      <td>226</td>\n",
       "      <td>SCEL</td>\n",
       "      <td>KMIA</td>\n",
       "      <td>AAL</td>\n",
       "      <td>2</td>\n",
       "      <td>1</td>\n",
       "      <td>2017</td>\n",
       "      <td>Lunes</td>\n",
       "      <td>I</td>\n",
       "      <td>American Airlines</td>\n",
       "      <td>Santiago</td>\n",
       "      <td>Miami</td>\n",
       "    </tr>\n",
       "    <tr>\n",
       "      <th>2</th>\n",
       "      <td>2017-01-03 23:30:00</td>\n",
       "      <td>226</td>\n",
       "      <td>SCEL</td>\n",
       "      <td>KMIA</td>\n",
       "      <td>AAL</td>\n",
       "      <td>2017-01-03 23:39:00</td>\n",
       "      <td>226</td>\n",
       "      <td>SCEL</td>\n",
       "      <td>KMIA</td>\n",
       "      <td>AAL</td>\n",
       "      <td>3</td>\n",
       "      <td>1</td>\n",
       "      <td>2017</td>\n",
       "      <td>Martes</td>\n",
       "      <td>I</td>\n",
       "      <td>American Airlines</td>\n",
       "      <td>Santiago</td>\n",
       "      <td>Miami</td>\n",
       "    </tr>\n",
       "    <tr>\n",
       "      <th>3</th>\n",
       "      <td>2017-01-04 23:30:00</td>\n",
       "      <td>226</td>\n",
       "      <td>SCEL</td>\n",
       "      <td>KMIA</td>\n",
       "      <td>AAL</td>\n",
       "      <td>2017-01-04 23:33:00</td>\n",
       "      <td>226</td>\n",
       "      <td>SCEL</td>\n",
       "      <td>KMIA</td>\n",
       "      <td>AAL</td>\n",
       "      <td>4</td>\n",
       "      <td>1</td>\n",
       "      <td>2017</td>\n",
       "      <td>Miercoles</td>\n",
       "      <td>I</td>\n",
       "      <td>American Airlines</td>\n",
       "      <td>Santiago</td>\n",
       "      <td>Miami</td>\n",
       "    </tr>\n",
       "    <tr>\n",
       "      <th>4</th>\n",
       "      <td>2017-01-05 23:30:00</td>\n",
       "      <td>226</td>\n",
       "      <td>SCEL</td>\n",
       "      <td>KMIA</td>\n",
       "      <td>AAL</td>\n",
       "      <td>2017-01-05 23:28:00</td>\n",
       "      <td>226</td>\n",
       "      <td>SCEL</td>\n",
       "      <td>KMIA</td>\n",
       "      <td>AAL</td>\n",
       "      <td>5</td>\n",
       "      <td>1</td>\n",
       "      <td>2017</td>\n",
       "      <td>Jueves</td>\n",
       "      <td>I</td>\n",
       "      <td>American Airlines</td>\n",
       "      <td>Santiago</td>\n",
       "      <td>Miami</td>\n",
       "    </tr>\n",
       "  </tbody>\n",
       "</table>\n",
       "</div>"
      ],
      "text/plain": [
       "              Fecha-I Vlo-I Ori-I Des-I Emp-I             Fecha-O Vlo-O Ori-O  \\\n",
       "0 2017-01-01 23:30:00   226  SCEL  KMIA   AAL 2017-01-01 23:33:00   226  SCEL   \n",
       "1 2017-01-02 23:30:00   226  SCEL  KMIA   AAL 2017-01-02 23:39:00   226  SCEL   \n",
       "2 2017-01-03 23:30:00   226  SCEL  KMIA   AAL 2017-01-03 23:39:00   226  SCEL   \n",
       "3 2017-01-04 23:30:00   226  SCEL  KMIA   AAL 2017-01-04 23:33:00   226  SCEL   \n",
       "4 2017-01-05 23:30:00   226  SCEL  KMIA   AAL 2017-01-05 23:28:00   226  SCEL   \n",
       "\n",
       "  Des-O Emp-O  DIA  MES   AÑO     DIANOM TIPOVUELO              OPERA  \\\n",
       "0  KMIA   AAL    1    1  2017    Domingo         I  American Airlines   \n",
       "1  KMIA   AAL    2    1  2017      Lunes         I  American Airlines   \n",
       "2  KMIA   AAL    3    1  2017     Martes         I  American Airlines   \n",
       "3  KMIA   AAL    4    1  2017  Miercoles         I  American Airlines   \n",
       "4  KMIA   AAL    5    1  2017     Jueves         I  American Airlines   \n",
       "\n",
       "   SIGLAORI SIGLADES  \n",
       "0  Santiago    Miami  \n",
       "1  Santiago    Miami  \n",
       "2  Santiago    Miami  \n",
       "3  Santiago    Miami  \n",
       "4  Santiago    Miami  "
      ]
     },
     "execution_count": 51,
     "metadata": {},
     "output_type": "execute_result"
    }
   ],
   "source": [
    "df.head()"
   ]
  },
  {
   "attachments": {},
   "cell_type": "markdown",
   "metadata": {},
   "source": [
    "I'll start looking for patterns in the data that may help to create decide the data transformation steps.\n"
   ]
  },
  {
   "cell_type": "code",
   "execution_count": 52,
   "metadata": {},
   "outputs": [
    {
     "data": {
      "image/png": "[encoded data removed]",
      "text/plain": [
       "<Figure size 640x480 with 1 Axes>"
      ]
     },
     "metadata": {},
     "output_type": "display_data"
    }
   ],
   "source": [
    "# From the above plot we can see that the number of flights is not evenly distributed across the months. \n",
    "# It seems to be some seasonal pattern, since the months with the highest number of flights are the consecutive (October, November, December and January) this could be due to the summer and vacation season in Chile \n",
    "\n",
    "make_bar_plot(df,'MES','Percentage of flights per month')"
   ]
  },
  {
   "cell_type": "code",
   "execution_count": 53,
   "metadata": {},
   "outputs": [
    {
     "data": {
      "image/png": "[encoded data removed]",
      "text/plain": [
       "<Figure size 640x480 with 1 Axes>"
      ]
     },
     "metadata": {},
     "output_type": "display_data"
    }
   ],
   "source": [
    "# For the days we can see an interesting pattern,\n",
    "# the number of flights on Monday is higher than the average, which could be related to work flights, to take most of the weekdays  \n",
    "# a similar pattern is observed on thrusday and friday which could be related to travel for the weekend \n",
    "\n",
    "day_map = {'Lunes':1, 'Martes':2, 'Miercoles':3, 'Jueves':4, 'Viernes':5, 'Sabado':6, 'Domingo':7}\n",
    "\n",
    "make_bar_plot(df,'DIANOM','Percentage of flights per day',day_map)"
   ]
  },
  {
   "cell_type": "code",
   "execution_count": 54,
   "metadata": {},
   "outputs": [
    {
     "name": "stdout",
     "output_type": "stream",
     "text": [
      "'Vlo-I ' has 584 unique values\n"
     ]
    },
    {
     "data": {
      "text/html": [
       "<div>\n",
       "<style scoped>\n",
       "    .dataframe tbody tr th:only-of-type {\n",
       "        vertical-align: middle;\n",
       "    }\n",
       "\n",
       "    .dataframe tbody tr th {\n",
       "        vertical-align: top;\n",
       "    }\n",
       "\n",
       "    .dataframe thead th {\n",
       "        text-align: right;\n",
       "    }\n",
       "</style>\n",
       "<table border=\"1\" class=\"dataframe\">\n",
       "  <thead>\n",
       "    <tr style=\"text-align: right;\">\n",
       "      <th></th>\n",
       "      <th>174</th>\n",
       "      <th>11</th>\n",
       "      <th>116</th>\n",
       "      <th>150</th>\n",
       "      <th>704</th>\n",
       "      <th>162</th>\n",
       "      <th>164</th>\n",
       "      <th>118</th>\n",
       "      <th>172</th>\n",
       "      <th>170</th>\n",
       "      <th>...</th>\n",
       "      <th>1218</th>\n",
       "      <th>1906</th>\n",
       "      <th>1158</th>\n",
       "      <th>1154</th>\n",
       "      <th>1351</th>\n",
       "      <th>1121</th>\n",
       "      <th>1116</th>\n",
       "      <th>1065</th>\n",
       "      <th>1054</th>\n",
       "      <th>1234</th>\n",
       "    </tr>\n",
       "  </thead>\n",
       "  <tbody>\n",
       "    <tr>\n",
       "      <th>Vlo-I</th>\n",
       "      <td>686</td>\n",
       "      <td>645</td>\n",
       "      <td>608</td>\n",
       "      <td>557</td>\n",
       "      <td>556</td>\n",
       "      <td>553</td>\n",
       "      <td>550</td>\n",
       "      <td>508</td>\n",
       "      <td>498</td>\n",
       "      <td>495</td>\n",
       "      <td>...</td>\n",
       "      <td>1</td>\n",
       "      <td>1</td>\n",
       "      <td>1</td>\n",
       "      <td>1</td>\n",
       "      <td>1</td>\n",
       "      <td>1</td>\n",
       "      <td>1</td>\n",
       "      <td>1</td>\n",
       "      <td>1</td>\n",
       "      <td>1</td>\n",
       "    </tr>\n",
       "  </tbody>\n",
       "</table>\n",
       "<p>1 rows × 584 columns</p>\n",
       "</div>"
      ],
      "text/plain": [
       "       174   11  116  150  704  162  164  118  172  170  ...  1218  1906  \\\n",
       "Vlo-I  686  645  608  557  556  553  550  508  498  495  ...     1     1   \n",
       "\n",
       "       1158  1154  1351  1121  1116  1065  1054  1234  \n",
       "Vlo-I     1     1     1     1     1     1     1     1  \n",
       "\n",
       "[1 rows x 584 columns]"
      ]
     },
     "metadata": {},
     "output_type": "display_data"
    },
    {
     "name": "stdout",
     "output_type": "stream",
     "text": [
      "'Vlo-O ' has 861 unique values\n"
     ]
    },
    {
     "data": {
      "text/html": [
       "<div>\n",
       "<style scoped>\n",
       "    .dataframe tbody tr th:only-of-type {\n",
       "        vertical-align: middle;\n",
       "    }\n",
       "\n",
       "    .dataframe tbody tr th {\n",
       "        vertical-align: top;\n",
       "    }\n",
       "\n",
       "    .dataframe thead th {\n",
       "        text-align: right;\n",
       "    }\n",
       "</style>\n",
       "<table border=\"1\" class=\"dataframe\">\n",
       "  <thead>\n",
       "    <tr style=\"text-align: right;\">\n",
       "      <th></th>\n",
       "      <th>174</th>\n",
       "      <th>11</th>\n",
       "      <th>116</th>\n",
       "      <th>150</th>\n",
       "      <th>704</th>\n",
       "      <th>162</th>\n",
       "      <th>164</th>\n",
       "      <th>118</th>\n",
       "      <th>172</th>\n",
       "      <th>170</th>\n",
       "      <th>...</th>\n",
       "      <th>9701</th>\n",
       "      <th>9662</th>\n",
       "      <th>9629</th>\n",
       "      <th>9600</th>\n",
       "      <th>9956</th>\n",
       "      <th>2726</th>\n",
       "      <th>9860</th>\n",
       "      <th>9858</th>\n",
       "      <th>1297</th>\n",
       "      <th>1134</th>\n",
       "    </tr>\n",
       "  </thead>\n",
       "  <tbody>\n",
       "    <tr>\n",
       "      <th>Vlo-O</th>\n",
       "      <td>649</td>\n",
       "      <td>646</td>\n",
       "      <td>608</td>\n",
       "      <td>517</td>\n",
       "      <td>514</td>\n",
       "      <td>512</td>\n",
       "      <td>508</td>\n",
       "      <td>507</td>\n",
       "      <td>466</td>\n",
       "      <td>452</td>\n",
       "      <td>...</td>\n",
       "      <td>1</td>\n",
       "      <td>1</td>\n",
       "      <td>1</td>\n",
       "      <td>1</td>\n",
       "      <td>1</td>\n",
       "      <td>1</td>\n",
       "      <td>1</td>\n",
       "      <td>1</td>\n",
       "      <td>1</td>\n",
       "      <td>1</td>\n",
       "    </tr>\n",
       "  </tbody>\n",
       "</table>\n",
       "<p>1 rows × 861 columns</p>\n",
       "</div>"
      ],
      "text/plain": [
       "       174   11  116  150  704  162  164  118  172  170  ...  9701  9662  \\\n",
       "Vlo-O  649  646  608  517  514  512  508  507  466  452  ...     1     1   \n",
       "\n",
       "       9629  9600  9956  2726  9860  9858  1297  1134  \n",
       "Vlo-O     1     1     1     1     1     1     1     1  \n",
       "\n",
       "[1 rows x 861 columns]"
      ]
     },
     "metadata": {},
     "output_type": "display_data"
    }
   ],
   "source": [
    "# The Scheduled fligths have 116 more unique values than the actual fligths, \n",
    "# this could have a correlation with the delay of the fligths \n",
    "\n",
    "print (\"'Vlo-I ' has {} unique values\".format(df['Vlo-I'].nunique()))\n",
    "display (df['Vlo-I'].value_counts(dropna=False).to_frame().T)\n",
    "\n",
    "print (\"'Vlo-O ' has {} unique values\".format(df['Vlo-O'].nunique()))\n",
    "display (df['Vlo-O'].value_counts(dropna=False).to_frame().T)"
   ]
  },
  {
   "cell_type": "code",
   "execution_count": 55,
   "metadata": {},
   "outputs": [
    {
     "data": {
      "text/html": [
       "<div>\n",
       "<style scoped>\n",
       "    .dataframe tbody tr th:only-of-type {\n",
       "        vertical-align: middle;\n",
       "    }\n",
       "\n",
       "    .dataframe tbody tr th {\n",
       "        vertical-align: top;\n",
       "    }\n",
       "\n",
       "    .dataframe thead th {\n",
       "        text-align: right;\n",
       "    }\n",
       "</style>\n",
       "<table border=\"1\" class=\"dataframe\">\n",
       "  <thead>\n",
       "    <tr style=\"text-align: right;\">\n",
       "      <th></th>\n",
       "      <th>SCEL</th>\n",
       "    </tr>\n",
       "  </thead>\n",
       "  <tbody>\n",
       "    <tr>\n",
       "      <th>Ori-I</th>\n",
       "      <td>68205</td>\n",
       "    </tr>\n",
       "  </tbody>\n",
       "</table>\n",
       "</div>"
      ],
      "text/plain": [
       "        SCEL\n",
       "Ori-I  68205"
      ]
     },
     "metadata": {},
     "output_type": "display_data"
    },
    {
     "data": {
      "text/html": [
       "<div>\n",
       "<style scoped>\n",
       "    .dataframe tbody tr th:only-of-type {\n",
       "        vertical-align: middle;\n",
       "    }\n",
       "\n",
       "    .dataframe tbody tr th {\n",
       "        vertical-align: top;\n",
       "    }\n",
       "\n",
       "    .dataframe thead th {\n",
       "        text-align: right;\n",
       "    }\n",
       "</style>\n",
       "<table border=\"1\" class=\"dataframe\">\n",
       "  <thead>\n",
       "    <tr style=\"text-align: right;\">\n",
       "      <th></th>\n",
       "      <th>SCEL</th>\n",
       "    </tr>\n",
       "  </thead>\n",
       "  <tbody>\n",
       "    <tr>\n",
       "      <th>Ori-O</th>\n",
       "      <td>68205</td>\n",
       "    </tr>\n",
       "  </tbody>\n",
       "</table>\n",
       "</div>"
      ],
      "text/plain": [
       "        SCEL\n",
       "Ori-O  68205"
      ]
     },
     "metadata": {},
     "output_type": "display_data"
    }
   ],
   "source": [
    "# The variables 'Vlo-I' and 'Vlo-O' are constant, hence we will not use them in the rest of the analysis \n",
    "\n",
    "display (df['Ori-I'].value_counts(dropna=False).to_frame().T)\n",
    "\n",
    "display (df['Ori-O'].value_counts(dropna=False).to_frame().T)\n",
    "\n",
    "\n",
    "df = df.drop(['Vlo-I','Vlo-O'],axis=1) "
   ]
  },
  {
   "cell_type": "code",
   "execution_count": 56,
   "metadata": {},
   "outputs": [
    {
     "data": {
      "text/html": [
       "<div>\n",
       "<style scoped>\n",
       "    .dataframe tbody tr th:only-of-type {\n",
       "        vertical-align: middle;\n",
       "    }\n",
       "\n",
       "    .dataframe tbody tr th {\n",
       "        vertical-align: top;\n",
       "    }\n",
       "\n",
       "    .dataframe thead th {\n",
       "        text-align: right;\n",
       "    }\n",
       "</style>\n",
       "<table border=\"1\" class=\"dataframe\">\n",
       "  <thead>\n",
       "    <tr style=\"text-align: right;\">\n",
       "      <th></th>\n",
       "      <th>SCFA</th>\n",
       "      <th>SPJC</th>\n",
       "      <th>SCCF</th>\n",
       "      <th>SCTE</th>\n",
       "      <th>SCIE</th>\n",
       "      <th>SCDA</th>\n",
       "      <th>SBGR</th>\n",
       "      <th>SAEZ</th>\n",
       "      <th>SABE</th>\n",
       "      <th>SCQP</th>\n",
       "      <th>...</th>\n",
       "      <th>SULS</th>\n",
       "      <th>SBCT</th>\n",
       "      <th>SAZS</th>\n",
       "      <th>SLCB</th>\n",
       "      <th>EGYP</th>\n",
       "      <th>SBFI</th>\n",
       "      <th>SPSO</th>\n",
       "      <th>SEQU</th>\n",
       "      <th>SEQM</th>\n",
       "      <th>SARI</th>\n",
       "    </tr>\n",
       "  </thead>\n",
       "  <tbody>\n",
       "    <tr>\n",
       "      <th>Des-I</th>\n",
       "      <td>5787</td>\n",
       "      <td>5269</td>\n",
       "      <td>5145</td>\n",
       "      <td>4357</td>\n",
       "      <td>3995</td>\n",
       "      <td>3747</td>\n",
       "      <td>3570</td>\n",
       "      <td>3240</td>\n",
       "      <td>3094</td>\n",
       "      <td>2583</td>\n",
       "      <td>...</td>\n",
       "      <td>6</td>\n",
       "      <td>3</td>\n",
       "      <td>2</td>\n",
       "      <td>1</td>\n",
       "      <td>1</td>\n",
       "      <td>1</td>\n",
       "      <td>1</td>\n",
       "      <td>1</td>\n",
       "      <td>1</td>\n",
       "      <td>1</td>\n",
       "    </tr>\n",
       "  </tbody>\n",
       "</table>\n",
       "<p>1 rows × 64 columns</p>\n",
       "</div>"
      ],
      "text/plain": [
       "       SCFA  SPJC  SCCF  SCTE  SCIE  SCDA  SBGR  SAEZ  SABE  SCQP  ...  SULS  \\\n",
       "Des-I  5787  5269  5145  4357  3995  3747  3570  3240  3094  2583  ...     6   \n",
       "\n",
       "       SBCT  SAZS  SLCB  EGYP  SBFI  SPSO  SEQU  SEQM  SARI  \n",
       "Des-I     3     2     1     1     1     1     1     1     1  \n",
       "\n",
       "[1 rows x 64 columns]"
      ]
     },
     "metadata": {},
     "output_type": "display_data"
    },
    {
     "data": {
      "text/html": [
       "<div>\n",
       "<style scoped>\n",
       "    .dataframe tbody tr th:only-of-type {\n",
       "        vertical-align: middle;\n",
       "    }\n",
       "\n",
       "    .dataframe tbody tr th {\n",
       "        vertical-align: top;\n",
       "    }\n",
       "\n",
       "    .dataframe thead th {\n",
       "        text-align: right;\n",
       "    }\n",
       "</style>\n",
       "<table border=\"1\" class=\"dataframe\">\n",
       "  <thead>\n",
       "    <tr style=\"text-align: right;\">\n",
       "      <th></th>\n",
       "      <th>SCFA</th>\n",
       "      <th>SPJC</th>\n",
       "      <th>SCCF</th>\n",
       "      <th>SCTE</th>\n",
       "      <th>SCIE</th>\n",
       "      <th>SCDA</th>\n",
       "      <th>SBGR</th>\n",
       "      <th>SAEZ</th>\n",
       "      <th>SABE</th>\n",
       "      <th>SCQP</th>\n",
       "      <th>...</th>\n",
       "      <th>SULS</th>\n",
       "      <th>SAWH</th>\n",
       "      <th>SBCT</th>\n",
       "      <th>SBFI</th>\n",
       "      <th>SAZS</th>\n",
       "      <th>SEQM</th>\n",
       "      <th>KIAD</th>\n",
       "      <th>SPSO</th>\n",
       "      <th>EGYP</th>\n",
       "      <th>SLCB</th>\n",
       "    </tr>\n",
       "  </thead>\n",
       "  <tbody>\n",
       "    <tr>\n",
       "      <th>Des-O</th>\n",
       "      <td>5786</td>\n",
       "      <td>5269</td>\n",
       "      <td>5146</td>\n",
       "      <td>4357</td>\n",
       "      <td>3993</td>\n",
       "      <td>3747</td>\n",
       "      <td>3569</td>\n",
       "      <td>3241</td>\n",
       "      <td>3094</td>\n",
       "      <td>2589</td>\n",
       "      <td>...</td>\n",
       "      <td>6</td>\n",
       "      <td>6</td>\n",
       "      <td>3</td>\n",
       "      <td>2</td>\n",
       "      <td>2</td>\n",
       "      <td>2</td>\n",
       "      <td>1</td>\n",
       "      <td>1</td>\n",
       "      <td>1</td>\n",
       "      <td>1</td>\n",
       "    </tr>\n",
       "  </tbody>\n",
       "</table>\n",
       "<p>1 rows × 63 columns</p>\n",
       "</div>"
      ],
      "text/plain": [
       "       SCFA  SPJC  SCCF  SCTE  SCIE  SCDA  SBGR  SAEZ  SABE  SCQP  ...  SULS  \\\n",
       "Des-O  5786  5269  5146  4357  3993  3747  3569  3241  3094  2589  ...     6   \n",
       "\n",
       "       SAWH  SBCT  SBFI  SAZS  SEQM  KIAD  SPSO  EGYP  SLCB  \n",
       "Des-O     6     3     2     2     2     1     1     1     1  \n",
       "\n",
       "[1 rows x 63 columns]"
      ]
     },
     "metadata": {},
     "output_type": "display_data"
    }
   ],
   "source": [
    "# At first glance we can see there are a few differences between Des-I and Des-O, \n",
    "# this could be relevant for stimated delays \n",
    "\n",
    "display (df['Des-I'].value_counts(dropna=False).to_frame().T)\n",
    "\n",
    "display (df['Des-O'].value_counts(dropna=False).to_frame().T)"
   ]
  },
  {
   "cell_type": "code",
   "execution_count": 57,
   "metadata": {},
   "outputs": [
    {
     "data": {
      "text/html": [
       "<div>\n",
       "<style scoped>\n",
       "    .dataframe tbody tr th:only-of-type {\n",
       "        vertical-align: middle;\n",
       "    }\n",
       "\n",
       "    .dataframe tbody tr th {\n",
       "        vertical-align: top;\n",
       "    }\n",
       "\n",
       "    .dataframe thead th {\n",
       "        text-align: right;\n",
       "    }\n",
       "</style>\n",
       "<table border=\"1\" class=\"dataframe\">\n",
       "  <thead>\n",
       "    <tr style=\"text-align: right;\">\n",
       "      <th></th>\n",
       "      <th>LAN</th>\n",
       "      <th>SKU</th>\n",
       "      <th>TAM</th>\n",
       "      <th>ARG</th>\n",
       "      <th>CMP</th>\n",
       "      <th>LAW</th>\n",
       "      <th>AVA</th>\n",
       "      <th>JAT</th>\n",
       "      <th>GLO</th>\n",
       "      <th>AAL</th>\n",
       "      <th>...</th>\n",
       "      <th>BAW</th>\n",
       "      <th>QFU</th>\n",
       "      <th>JMR</th>\n",
       "      <th>LRC</th>\n",
       "      <th>AUT</th>\n",
       "      <th>PUE</th>\n",
       "      <th>LXP</th>\n",
       "      <th>LPE</th>\n",
       "      <th>DSM</th>\n",
       "      <th>LNE</th>\n",
       "    </tr>\n",
       "  </thead>\n",
       "  <tbody>\n",
       "    <tr>\n",
       "      <th>Emp-I</th>\n",
       "      <td>37611</td>\n",
       "      <td>14298</td>\n",
       "      <td>3049</td>\n",
       "      <td>1949</td>\n",
       "      <td>1850</td>\n",
       "      <td>1573</td>\n",
       "      <td>1152</td>\n",
       "      <td>1095</td>\n",
       "      <td>806</td>\n",
       "      <td>757</td>\n",
       "      <td>...</td>\n",
       "      <td>205</td>\n",
       "      <td>195</td>\n",
       "      <td>100</td>\n",
       "      <td>92</td>\n",
       "      <td>74</td>\n",
       "      <td>49</td>\n",
       "      <td>9</td>\n",
       "      <td>4</td>\n",
       "      <td>2</td>\n",
       "      <td>1</td>\n",
       "    </tr>\n",
       "  </tbody>\n",
       "</table>\n",
       "<p>1 rows × 30 columns</p>\n",
       "</div>"
      ],
      "text/plain": [
       "         LAN    SKU   TAM   ARG   CMP   LAW   AVA   JAT  GLO  AAL  ...  BAW  \\\n",
       "Emp-I  37611  14298  3049  1949  1850  1573  1152  1095  806  757  ...  205   \n",
       "\n",
       "       QFU  JMR  LRC  AUT  PUE  LXP  LPE  DSM  LNE  \n",
       "Emp-I  195  100   92   74   49    9    4    2    1  \n",
       "\n",
       "[1 rows x 30 columns]"
      ]
     },
     "metadata": {},
     "output_type": "display_data"
    },
    {
     "data": {
      "text/html": [
       "<div>\n",
       "<style scoped>\n",
       "    .dataframe tbody tr th:only-of-type {\n",
       "        vertical-align: middle;\n",
       "    }\n",
       "\n",
       "    .dataframe tbody tr th {\n",
       "        vertical-align: top;\n",
       "    }\n",
       "\n",
       "    .dataframe thead th {\n",
       "        text-align: right;\n",
       "    }\n",
       "</style>\n",
       "<table border=\"1\" class=\"dataframe\">\n",
       "  <thead>\n",
       "    <tr style=\"text-align: right;\">\n",
       "      <th></th>\n",
       "      <th>LAN</th>\n",
       "      <th>LXP</th>\n",
       "      <th>SKU</th>\n",
       "      <th>TAM</th>\n",
       "      <th>ARG</th>\n",
       "      <th>CMP</th>\n",
       "      <th>JMR</th>\n",
       "      <th>LPE</th>\n",
       "      <th>JAT</th>\n",
       "      <th>AVA</th>\n",
       "      <th>...</th>\n",
       "      <th>AZA</th>\n",
       "      <th>KLM</th>\n",
       "      <th>LAP</th>\n",
       "      <th>BAW</th>\n",
       "      <th>QFA</th>\n",
       "      <th>AUT</th>\n",
       "      <th>PUE</th>\n",
       "      <th>56R</th>\n",
       "      <th>48O</th>\n",
       "      <th>TPU</th>\n",
       "    </tr>\n",
       "  </thead>\n",
       "  <tbody>\n",
       "    <tr>\n",
       "      <th>Emp-O</th>\n",
       "      <td>20988</td>\n",
       "      <td>14558</td>\n",
       "      <td>14298</td>\n",
       "      <td>3046</td>\n",
       "      <td>1946</td>\n",
       "      <td>1850</td>\n",
       "      <td>1647</td>\n",
       "      <td>1214</td>\n",
       "      <td>1095</td>\n",
       "      <td>885</td>\n",
       "      <td>...</td>\n",
       "      <td>259</td>\n",
       "      <td>251</td>\n",
       "      <td>219</td>\n",
       "      <td>205</td>\n",
       "      <td>195</td>\n",
       "      <td>77</td>\n",
       "      <td>49</td>\n",
       "      <td>16</td>\n",
       "      <td>10</td>\n",
       "      <td>2</td>\n",
       "    </tr>\n",
       "  </tbody>\n",
       "</table>\n",
       "<p>1 rows × 32 columns</p>\n",
       "</div>"
      ],
      "text/plain": [
       "         LAN    LXP    SKU   TAM   ARG   CMP   JMR   LPE   JAT  AVA  ...  AZA  \\\n",
       "Emp-O  20988  14558  14298  3046  1946  1850  1647  1214  1095  885  ...  259   \n",
       "\n",
       "       KLM  LAP  BAW  QFA  AUT  PUE  56R  48O  TPU  \n",
       "Emp-O  251  219  205  195   77   49   16   10    2  \n",
       "\n",
       "[1 rows x 32 columns]"
      ]
     },
     "metadata": {},
     "output_type": "display_data"
    }
   ],
   "source": [
    "# We can see that there are significant discrepancies between Emp-I and Emp-O\n",
    "\n",
    "display (df['Emp-I'].value_counts(dropna=False).to_frame().T    )\n",
    "\n",
    "display (df['Emp-O'].value_counts(dropna=False).to_frame().T)"
   ]
  },
  {
   "cell_type": "code",
   "execution_count": 58,
   "metadata": {},
   "outputs": [
    {
     "data": {
      "text/html": [
       "<div>\n",
       "<style scoped>\n",
       "    .dataframe tbody tr th:only-of-type {\n",
       "        vertical-align: middle;\n",
       "    }\n",
       "\n",
       "    .dataframe tbody tr th {\n",
       "        vertical-align: top;\n",
       "    }\n",
       "\n",
       "    .dataframe thead th {\n",
       "        text-align: right;\n",
       "    }\n",
       "</style>\n",
       "<table border=\"1\" class=\"dataframe\">\n",
       "  <thead>\n",
       "    <tr style=\"text-align: right;\">\n",
       "      <th></th>\n",
       "      <th>2017-07-28 13:30:00</th>\n",
       "      <th>2017-03-19 18:00:00</th>\n",
       "      <th>2017-03-26 18:00:00</th>\n",
       "      <th>2017-12-16 13:35:00</th>\n",
       "      <th>2017-02-15 13:35:00</th>\n",
       "      <th>2017-04-02 18:00:00</th>\n",
       "      <th>2017-09-06 12:00:00</th>\n",
       "      <th>2017-07-29 06:45:00</th>\n",
       "      <th>2017-08-01 05:00:00</th>\n",
       "      <th>2017-06-27 05:00:00</th>\n",
       "      <th>...</th>\n",
       "      <th>2017-06-05 15:16:00</th>\n",
       "      <th>2017-06-27 06:53:00</th>\n",
       "      <th>2017-06-28 06:53:00</th>\n",
       "      <th>2017-06-29 06:53:00</th>\n",
       "      <th>2017-06-30 06:53:00</th>\n",
       "      <th>2017-06-01 15:16:00</th>\n",
       "      <th>2017-06-02 15:16:00</th>\n",
       "      <th>2017-06-03 15:16:00</th>\n",
       "      <th>2017-06-04 15:16:00</th>\n",
       "      <th>2017-12-31 14:55:00</th>\n",
       "    </tr>\n",
       "  </thead>\n",
       "  <tbody>\n",
       "    <tr>\n",
       "      <th>Fecha-I</th>\n",
       "      <td>6</td>\n",
       "      <td>6</td>\n",
       "      <td>6</td>\n",
       "      <td>5</td>\n",
       "      <td>5</td>\n",
       "      <td>5</td>\n",
       "      <td>5</td>\n",
       "      <td>5</td>\n",
       "      <td>5</td>\n",
       "      <td>5</td>\n",
       "      <td>...</td>\n",
       "      <td>1</td>\n",
       "      <td>1</td>\n",
       "      <td>1</td>\n",
       "      <td>1</td>\n",
       "      <td>1</td>\n",
       "      <td>1</td>\n",
       "      <td>1</td>\n",
       "      <td>1</td>\n",
       "      <td>1</td>\n",
       "      <td>1</td>\n",
       "    </tr>\n",
       "  </tbody>\n",
       "</table>\n",
       "<p>1 rows × 53252 columns</p>\n",
       "</div>"
      ],
      "text/plain": [
       "         2017-07-28 13:30:00  2017-03-19 18:00:00  2017-03-26 18:00:00  \\\n",
       "Fecha-I                    6                    6                    6   \n",
       "\n",
       "         2017-12-16 13:35:00  2017-02-15 13:35:00  2017-04-02 18:00:00  \\\n",
       "Fecha-I                    5                    5                    5   \n",
       "\n",
       "         2017-09-06 12:00:00  2017-07-29 06:45:00  2017-08-01 05:00:00  \\\n",
       "Fecha-I                    5                    5                    5   \n",
       "\n",
       "         2017-06-27 05:00:00  ...  2017-06-05 15:16:00  2017-06-27 06:53:00  \\\n",
       "Fecha-I                    5  ...                    1                    1   \n",
       "\n",
       "         2017-06-28 06:53:00  2017-06-29 06:53:00  2017-06-30 06:53:00  \\\n",
       "Fecha-I                    1                    1                    1   \n",
       "\n",
       "         2017-06-01 15:16:00  2017-06-02 15:16:00  2017-06-03 15:16:00  \\\n",
       "Fecha-I                    1                    1                    1   \n",
       "\n",
       "         2017-06-04 15:16:00  2017-12-31 14:55:00  \n",
       "Fecha-I                    1                    1  \n",
       "\n",
       "[1 rows x 53252 columns]"
      ]
     },
     "metadata": {},
     "output_type": "display_data"
    },
    {
     "data": {
      "text/html": [
       "<div>\n",
       "<style scoped>\n",
       "    .dataframe tbody tr th:only-of-type {\n",
       "        vertical-align: middle;\n",
       "    }\n",
       "\n",
       "    .dataframe tbody tr th {\n",
       "        vertical-align: top;\n",
       "    }\n",
       "\n",
       "    .dataframe thead th {\n",
       "        text-align: right;\n",
       "    }\n",
       "</style>\n",
       "<table border=\"1\" class=\"dataframe\">\n",
       "  <thead>\n",
       "    <tr style=\"text-align: right;\">\n",
       "      <th></th>\n",
       "      <th>2017-05-19 07:01:00</th>\n",
       "      <th>2017-11-05 14:51:00</th>\n",
       "      <th>2017-10-25 07:37:00</th>\n",
       "      <th>2017-03-08 13:34:00</th>\n",
       "      <th>2017-09-07 20:10:00</th>\n",
       "      <th>2017-02-12 09:12:00</th>\n",
       "      <th>2017-05-28 08:12:00</th>\n",
       "      <th>2017-05-23 08:50:00</th>\n",
       "      <th>2017-02-15 09:20:00</th>\n",
       "      <th>2017-12-01 13:49:00</th>\n",
       "      <th>...</th>\n",
       "      <th>2017-05-30 11:44:00</th>\n",
       "      <th>2017-05-31 11:04:00</th>\n",
       "      <th>2017-05-01 17:10:00</th>\n",
       "      <th>2017-05-02 17:03:00</th>\n",
       "      <th>2017-05-03 17:03:00</th>\n",
       "      <th>2017-05-04 15:48:00</th>\n",
       "      <th>2017-05-05 17:02:00</th>\n",
       "      <th>2017-05-07 17:03:00</th>\n",
       "      <th>2017-05-08 17:06:00</th>\n",
       "      <th>2017-12-31 15:04:00</th>\n",
       "    </tr>\n",
       "  </thead>\n",
       "  <tbody>\n",
       "    <tr>\n",
       "      <th>Fecha-O</th>\n",
       "      <td>5</td>\n",
       "      <td>5</td>\n",
       "      <td>4</td>\n",
       "      <td>4</td>\n",
       "      <td>4</td>\n",
       "      <td>4</td>\n",
       "      <td>4</td>\n",
       "      <td>4</td>\n",
       "      <td>4</td>\n",
       "      <td>4</td>\n",
       "      <td>...</td>\n",
       "      <td>1</td>\n",
       "      <td>1</td>\n",
       "      <td>1</td>\n",
       "      <td>1</td>\n",
       "      <td>1</td>\n",
       "      <td>1</td>\n",
       "      <td>1</td>\n",
       "      <td>1</td>\n",
       "      <td>1</td>\n",
       "      <td>1</td>\n",
       "    </tr>\n",
       "  </tbody>\n",
       "</table>\n",
       "<p>1 rows × 62774 columns</p>\n",
       "</div>"
      ],
      "text/plain": [
       "         2017-05-19 07:01:00  2017-11-05 14:51:00  2017-10-25 07:37:00  \\\n",
       "Fecha-O                    5                    5                    4   \n",
       "\n",
       "         2017-03-08 13:34:00  2017-09-07 20:10:00  2017-02-12 09:12:00  \\\n",
       "Fecha-O                    4                    4                    4   \n",
       "\n",
       "         2017-05-28 08:12:00  2017-05-23 08:50:00  2017-02-15 09:20:00  \\\n",
       "Fecha-O                    4                    4                    4   \n",
       "\n",
       "         2017-12-01 13:49:00  ...  2017-05-30 11:44:00  2017-05-31 11:04:00  \\\n",
       "Fecha-O                    4  ...                    1                    1   \n",
       "\n",
       "         2017-05-01 17:10:00  2017-05-02 17:03:00  2017-05-03 17:03:00  \\\n",
       "Fecha-O                    1                    1                    1   \n",
       "\n",
       "         2017-05-04 15:48:00  2017-05-05 17:02:00  2017-05-07 17:03:00  \\\n",
       "Fecha-O                    1                    1                    1   \n",
       "\n",
       "         2017-05-08 17:06:00  2017-12-31 15:04:00  \n",
       "Fecha-O                    1                    1  \n",
       "\n",
       "[1 rows x 62774 columns]"
      ]
     },
     "metadata": {},
     "output_type": "display_data"
    }
   ],
   "source": [
    "# For Fecha-I and Fecha-O we can see that Fecha-O has more unique values, which is expected since \n",
    "#  the programed flighs use to have more round times e.g. 12:00 vs a delayed flight that could be 12:03 \n",
    "\n",
    "display (df['Fecha-I'].value_counts(dropna=False).to_frame().T)\n",
    "display (df['Fecha-O'].value_counts(dropna=False).to_frame().T)"
   ]
  },
  {
   "cell_type": "code",
   "execution_count": 59,
   "metadata": {},
   "outputs": [
    {
     "data": {
      "text/plain": [
       "<AxesSubplot: >"
      ]
     },
     "execution_count": 59,
     "metadata": {},
     "output_type": "execute_result"
    },
    {
     "data": {
      "image/png": "[encoded data removed]",
      "text/plain": [
       "<Figure size 640x480 with 1 Axes>"
      ]
     },
     "metadata": {},
     "output_type": "display_data"
    }
   ],
   "source": [
    "# We can also see that a few airlines account for the majority of the flights\n",
    "\n",
    "df['OPERA'].value_counts(dropna=False).sort_values(ascending=False).to_frame().T\n",
    "\n",
    "df.groupby('OPERA').size().reset_index(name='counts').sort_values(by='counts', ascending=False).cumsum().reset_index()['counts'].plot(color='#3B3B3B',grid=True)\n"
   ]
  },
  {
   "cell_type": "code",
   "execution_count": 60,
   "metadata": {},
   "outputs": [
    {
     "data": {
      "text/html": [
       "<div>\n",
       "<style scoped>\n",
       "    .dataframe tbody tr th:only-of-type {\n",
       "        vertical-align: middle;\n",
       "    }\n",
       "\n",
       "    .dataframe tbody tr th {\n",
       "        vertical-align: top;\n",
       "    }\n",
       "\n",
       "    .dataframe thead th {\n",
       "        text-align: right;\n",
       "    }\n",
       "</style>\n",
       "<table border=\"1\" class=\"dataframe\">\n",
       "  <thead>\n",
       "    <tr style=\"text-align: right;\">\n",
       "      <th></th>\n",
       "      <th>SIGLAORI</th>\n",
       "      <th>counts</th>\n",
       "    </tr>\n",
       "  </thead>\n",
       "  <tbody>\n",
       "    <tr>\n",
       "      <th>0</th>\n",
       "      <td>Santiago</td>\n",
       "      <td>68205</td>\n",
       "    </tr>\n",
       "  </tbody>\n",
       "</table>\n",
       "</div>"
      ],
      "text/plain": [
       "   SIGLAORI  counts\n",
       "0  Santiago   68205"
      ]
     },
     "metadata": {},
     "output_type": "display_data"
    },
    {
     "data": {
      "text/html": [
       "<div>\n",
       "<style scoped>\n",
       "    .dataframe tbody tr th:only-of-type {\n",
       "        vertical-align: middle;\n",
       "    }\n",
       "\n",
       "    .dataframe tbody tr th {\n",
       "        vertical-align: top;\n",
       "    }\n",
       "\n",
       "    .dataframe thead th {\n",
       "        text-align: right;\n",
       "    }\n",
       "</style>\n",
       "<table border=\"1\" class=\"dataframe\">\n",
       "  <thead>\n",
       "    <tr style=\"text-align: right;\">\n",
       "      <th></th>\n",
       "      <th>SIGLADES</th>\n",
       "      <th>counts</th>\n",
       "    </tr>\n",
       "  </thead>\n",
       "  <tbody>\n",
       "    <tr>\n",
       "      <th>8</th>\n",
       "      <td>Buenos Aires</td>\n",
       "      <td>6335</td>\n",
       "    </tr>\n",
       "    <tr>\n",
       "      <th>0</th>\n",
       "      <td>Antofagasta</td>\n",
       "      <td>5786</td>\n",
       "    </tr>\n",
       "    <tr>\n",
       "      <th>28</th>\n",
       "      <td>Lima</td>\n",
       "      <td>5269</td>\n",
       "    </tr>\n",
       "    <tr>\n",
       "      <th>9</th>\n",
       "      <td>Calama</td>\n",
       "      <td>5146</td>\n",
       "    </tr>\n",
       "    <tr>\n",
       "      <th>42</th>\n",
       "      <td>Puerto Montt</td>\n",
       "      <td>4357</td>\n",
       "    </tr>\n",
       "    <tr>\n",
       "      <th>...</th>\n",
       "      <td>...</td>\n",
       "      <td>...</td>\n",
       "    </tr>\n",
       "    <tr>\n",
       "      <th>12</th>\n",
       "      <td>Cataratas Iguacu</td>\n",
       "      <td>2</td>\n",
       "    </tr>\n",
       "    <tr>\n",
       "      <th>41</th>\n",
       "      <td>Pisco, Peru</td>\n",
       "      <td>1</td>\n",
       "    </tr>\n",
       "    <tr>\n",
       "      <th>44</th>\n",
       "      <td>Puerto Stanley</td>\n",
       "      <td>1</td>\n",
       "    </tr>\n",
       "    <tr>\n",
       "      <th>15</th>\n",
       "      <td>Cochabamba</td>\n",
       "      <td>1</td>\n",
       "    </tr>\n",
       "    <tr>\n",
       "      <th>61</th>\n",
       "      <td>Washington</td>\n",
       "      <td>1</td>\n",
       "    </tr>\n",
       "  </tbody>\n",
       "</table>\n",
       "<p>62 rows × 2 columns</p>\n",
       "</div>"
      ],
      "text/plain": [
       "            SIGLADES  counts\n",
       "8       Buenos Aires    6335\n",
       "0        Antofagasta    5786\n",
       "28              Lima    5269\n",
       "9             Calama    5146\n",
       "42      Puerto Montt    4357\n",
       "..               ...     ...\n",
       "12  Cataratas Iguacu       2\n",
       "41       Pisco, Peru       1\n",
       "44    Puerto Stanley       1\n",
       "15        Cochabamba       1\n",
       "61        Washington       1\n",
       "\n",
       "[62 rows x 2 columns]"
      ]
     },
     "metadata": {},
     "output_type": "display_data"
    },
    {
     "data": {
      "text/plain": [
       "array([[<AxesSubplot: title={'center': 'counts'}>]], dtype=object)"
      ]
     },
     "execution_count": 60,
     "metadata": {},
     "output_type": "execute_result"
    },
    {
     "data": {
      "image/png": "[encoded data removed]",
      "text/plain": [
       "<Figure size 640x480 with 1 Axes>"
      ]
     },
     "metadata": {},
     "output_type": "display_data"
    }
   ],
   "source": [
    "# For the origin airport we can see that all the flights are from Santiago (SCL)\n",
    "\n",
    "display (df.groupby('SIGLAORI').size().reset_index(name='counts'))\n",
    "\n",
    "# for the destination there is a large dispersion on the number of flights, some cities have accounts for about  10% of the total flights \n",
    "# and others have only 1 or 2 flights\n",
    "\n",
    "display (df\n",
    ".groupby('SIGLADES')\n",
    ".size()\n",
    ".reset_index(name='counts')\n",
    ".sort_values(by='counts', ascending=False)\n",
    ")\n",
    "\n",
    "\n",
    "df.groupby('SIGLADES').size().reset_index(name='counts').hist(color=base_color,bins=20)"
   ]
  },
  {
   "cell_type": "code",
   "execution_count": 62,
   "metadata": {},
   "outputs": [
    {
     "data": {
      "text/plain": [
       "40923.6"
      ]
     },
     "execution_count": 62,
     "metadata": {},
     "output_type": "execute_result"
    }
   ],
   "source": []
  },
  {
   "cell_type": "code",
   "execution_count": 63,
   "metadata": {},
   "outputs": [
    {
     "data": {
      "text/plain": [
       "<AxesSubplot: >"
      ]
     },
     "execution_count": 63,
     "metadata": {},
     "output_type": "execute_result"
    },
    {
     "data": {
      "image/png": "[encoded data removed]",
      "text/plain": [
       "<Figure size 640x480 with 1 Axes>"
      ]
     },
     "metadata": {},
     "output_type": "display_data"
    }
   ],
   "source": [
    "# from the below plot we can see that the top 10 destinations account for about 60%  (40k) of the total flights \n",
    "df.groupby('SIGLADES').size().reset_index(name='counts').sort_values(by='counts', ascending=False).cumsum().reset_index()['counts'].plot(color=base_color,grid=True)\n"
   ]
  },
  {
   "cell_type": "code",
   "execution_count": 64,
   "metadata": {},
   "outputs": [
    {
     "data": {
      "image/png": "[encoded data removed]",
      "text/plain": [
       "<Figure size 640x480 with 1 Axes>"
      ]
     },
     "metadata": {},
     "output_type": "display_data"
    }
   ],
   "source": [
    "# Regarding the type of flight we can see that the majority of the flights are domestic flights (Nacional)\n",
    "# but the percentage of international flights is close to half of the domestic flights.\n",
    "df['TIPOVUELO'].value_counts(dropna=False).to_frame().T\n",
    "make_bar_plot(df, 'TIPOVUELO', 'TIPOVUELO', key_map={})\n"
   ]
  },
  {
   "attachments": {},
   "cell_type": "markdown",
   "metadata": {},
   "source": [
    "## Question 2: \n",
    "\n",
    "Generate the following additional columns. Please export them to a CSV file named synthetic_features.csv:\n",
    "\n",
    "\n",
    "* high_season : 1 if Date-I is between Dec-15 and Mar-3, or Jul-15 and Jul-31, or Sep-11 and Sep-30, 0 otherwise.\n",
    "* min_diff : difference in minutes between Date-O and Date-I .\n",
    "* delay_15 : 1 if min_diff > 15, 0 if not.\n",
    "* period_day : morning (between 5:00 and 11:59), afternoon (between 12:00 and 18:59) and night (between 19:00 and 4:59), based\n",
    "onDate-I .\n",
    "\n",
    "\n"
   ]
  },
  {
   "cell_type": "code",
   "execution_count": 65,
   "metadata": {},
   "outputs": [
    {
     "data": {
      "text/html": [
       "<div>\n",
       "<style scoped>\n",
       "    .dataframe tbody tr th:only-of-type {\n",
       "        vertical-align: middle;\n",
       "    }\n",
       "\n",
       "    .dataframe tbody tr th {\n",
       "        vertical-align: top;\n",
       "    }\n",
       "\n",
       "    .dataframe thead th {\n",
       "        text-align: right;\n",
       "    }\n",
       "</style>\n",
       "<table border=\"1\" class=\"dataframe\">\n",
       "  <thead>\n",
       "    <tr style=\"text-align: right;\">\n",
       "      <th></th>\n",
       "      <th>MES</th>\n",
       "      <th>DIA</th>\n",
       "      <th>high_season</th>\n",
       "    </tr>\n",
       "  </thead>\n",
       "  <tbody>\n",
       "    <tr>\n",
       "      <th>0</th>\n",
       "      <td>1</td>\n",
       "      <td>1</td>\n",
       "      <td>1</td>\n",
       "    </tr>\n",
       "    <tr>\n",
       "      <th>1</th>\n",
       "      <td>1</td>\n",
       "      <td>2</td>\n",
       "      <td>1</td>\n",
       "    </tr>\n",
       "    <tr>\n",
       "      <th>2</th>\n",
       "      <td>1</td>\n",
       "      <td>3</td>\n",
       "      <td>1</td>\n",
       "    </tr>\n",
       "    <tr>\n",
       "      <th>3</th>\n",
       "      <td>1</td>\n",
       "      <td>4</td>\n",
       "      <td>1</td>\n",
       "    </tr>\n",
       "    <tr>\n",
       "      <th>4</th>\n",
       "      <td>1</td>\n",
       "      <td>5</td>\n",
       "      <td>1</td>\n",
       "    </tr>\n",
       "    <tr>\n",
       "      <th>...</th>\n",
       "      <td>...</td>\n",
       "      <td>...</td>\n",
       "      <td>...</td>\n",
       "    </tr>\n",
       "    <tr>\n",
       "      <th>68201</th>\n",
       "      <td>12</td>\n",
       "      <td>22</td>\n",
       "      <td>1</td>\n",
       "    </tr>\n",
       "    <tr>\n",
       "      <th>68202</th>\n",
       "      <td>12</td>\n",
       "      <td>25</td>\n",
       "      <td>1</td>\n",
       "    </tr>\n",
       "    <tr>\n",
       "      <th>68203</th>\n",
       "      <td>12</td>\n",
       "      <td>27</td>\n",
       "      <td>1</td>\n",
       "    </tr>\n",
       "    <tr>\n",
       "      <th>68204</th>\n",
       "      <td>12</td>\n",
       "      <td>29</td>\n",
       "      <td>1</td>\n",
       "    </tr>\n",
       "    <tr>\n",
       "      <th>68205</th>\n",
       "      <td>12</td>\n",
       "      <td>31</td>\n",
       "      <td>1</td>\n",
       "    </tr>\n",
       "  </tbody>\n",
       "</table>\n",
       "<p>68205 rows × 3 columns</p>\n",
       "</div>"
      ],
      "text/plain": [
       "       MES  DIA  high_season\n",
       "0        1    1            1\n",
       "1        1    2            1\n",
       "2        1    3            1\n",
       "3        1    4            1\n",
       "4        1    5            1\n",
       "...    ...  ...          ...\n",
       "68201   12   22            1\n",
       "68202   12   25            1\n",
       "68203   12   27            1\n",
       "68204   12   29            1\n",
       "68205   12   31            1\n",
       "\n",
       "[68205 rows x 3 columns]"
      ]
     },
     "execution_count": 65,
     "metadata": {},
     "output_type": "execute_result"
    }
   ],
   "source": [
    "\n",
    "df['high_season'] = get_high_season(df)\n",
    "\n",
    "df[['MES','DIA','high_season']]\n"
   ]
  },
  {
   "cell_type": "code",
   "execution_count": 66,
   "metadata": {},
   "outputs": [],
   "source": [
    "# convert df['Fecha-O'] and  df['Fecha-I'] to datetime format \n",
    "df['Fecha-O'] = pd.to_datetime(df['Fecha-O'])\n",
    "df['Fecha-I'] = pd.to_datetime(df['Fecha-I'])\n",
    "\n",
    "# min_diff : difference in minutes between Date-O and Date-I . \n",
    "df['min_diff'] = (df['Fecha-O'] - df['Fecha-I']).dt.total_seconds() / 60\n",
    "\n",
    "# delay_15 : 1 if min_diff > 15, 0 if not. \n",
    "df['delay_15'] = 0\n",
    "df.loc[df['min_diff'] > 15, 'delay_15'] = 1\n",
    "\n"
   ]
  },
  {
   "cell_type": "code",
   "execution_count": 67,
   "metadata": {},
   "outputs": [],
   "source": [
    "# period_day : morning (between 5:00 and 11:59), afternoon (between 12:00 and 18:59) and night (between 19:00 and 4:59), based onDate-I use dt.hour to extract the hour.\n",
    "\n",
    "\n",
    "df['period_day'] = 'morning'\n",
    "df.loc[(df['Fecha-I'].dt.hour  >= 12) & (df['Fecha-I'].dt.hour  <= 18), 'period_day'] = 'afternoon'\n",
    "df.loc[(df['Fecha-I'].dt.hour  >= 19) | (df['Fecha-I'].dt.hour  <= 4), 'period_day'] = 'night'\n"
   ]
  },
  {
   "cell_type": "code",
   "execution_count": 68,
   "metadata": {},
   "outputs": [
    {
     "data": {
      "text/html": [
       "<div>\n",
       "<style scoped>\n",
       "    .dataframe tbody tr th:only-of-type {\n",
       "        vertical-align: middle;\n",
       "    }\n",
       "\n",
       "    .dataframe tbody tr th {\n",
       "        vertical-align: top;\n",
       "    }\n",
       "\n",
       "    .dataframe thead th {\n",
       "        text-align: right;\n",
       "    }\n",
       "</style>\n",
       "<table border=\"1\" class=\"dataframe\">\n",
       "  <thead>\n",
       "    <tr style=\"text-align: right;\">\n",
       "      <th></th>\n",
       "      <th>period_day</th>\n",
       "      <th>Fecha-I</th>\n",
       "    </tr>\n",
       "  </thead>\n",
       "  <tbody>\n",
       "    <tr>\n",
       "      <th>53829</th>\n",
       "      <td>morning</td>\n",
       "      <td>2017-10-26 07:55:00</td>\n",
       "    </tr>\n",
       "    <tr>\n",
       "      <th>16666</th>\n",
       "      <td>morning</td>\n",
       "      <td>2017-03-03 09:35:00</td>\n",
       "    </tr>\n",
       "    <tr>\n",
       "      <th>14941</th>\n",
       "      <td>morning</td>\n",
       "      <td>2017-03-25 07:15:00</td>\n",
       "    </tr>\n",
       "    <tr>\n",
       "      <th>25783</th>\n",
       "      <td>night</td>\n",
       "      <td>2017-05-21 20:50:00</td>\n",
       "    </tr>\n",
       "    <tr>\n",
       "      <th>36347</th>\n",
       "      <td>morning</td>\n",
       "      <td>2017-07-30 09:20:00</td>\n",
       "    </tr>\n",
       "    <tr>\n",
       "      <th>60619</th>\n",
       "      <td>night</td>\n",
       "      <td>2017-11-30 23:30:00</td>\n",
       "    </tr>\n",
       "    <tr>\n",
       "      <th>67833</th>\n",
       "      <td>night</td>\n",
       "      <td>2017-12-25 04:00:00</td>\n",
       "    </tr>\n",
       "    <tr>\n",
       "      <th>11991</th>\n",
       "      <td>night</td>\n",
       "      <td>2017-03-04 22:30:00</td>\n",
       "    </tr>\n",
       "    <tr>\n",
       "      <th>7471</th>\n",
       "      <td>afternoon</td>\n",
       "      <td>2017-02-06 17:15:00</td>\n",
       "    </tr>\n",
       "    <tr>\n",
       "      <th>56624</th>\n",
       "      <td>night</td>\n",
       "      <td>2017-11-24 00:55:00</td>\n",
       "    </tr>\n",
       "  </tbody>\n",
       "</table>\n",
       "</div>"
      ],
      "text/plain": [
       "      period_day             Fecha-I\n",
       "53829    morning 2017-10-26 07:55:00\n",
       "16666    morning 2017-03-03 09:35:00\n",
       "14941    morning 2017-03-25 07:15:00\n",
       "25783      night 2017-05-21 20:50:00\n",
       "36347    morning 2017-07-30 09:20:00\n",
       "60619      night 2017-11-30 23:30:00\n",
       "67833      night 2017-12-25 04:00:00\n",
       "11991      night 2017-03-04 22:30:00\n",
       "7471   afternoon 2017-02-06 17:15:00\n",
       "56624      night 2017-11-24 00:55:00"
      ]
     },
     "execution_count": 68,
     "metadata": {},
     "output_type": "execute_result"
    }
   ],
   "source": [
    "df[['period_day','Fecha-I']].sample(10)"
   ]
  },
  {
   "cell_type": "code",
   "execution_count": 69,
   "metadata": {},
   "outputs": [],
   "source": [
    "# list of high_season min_diff delay_15 period_day\n",
    "synthetic_features_names =  ['high_season', 'min_diff', 'delay_15', 'period_day']"
   ]
  },
  {
   "cell_type": "code",
   "execution_count": 70,
   "metadata": {},
   "outputs": [
    {
     "data": {
      "text/html": [
       "<div>\n",
       "<style scoped>\n",
       "    .dataframe tbody tr th:only-of-type {\n",
       "        vertical-align: middle;\n",
       "    }\n",
       "\n",
       "    .dataframe tbody tr th {\n",
       "        vertical-align: top;\n",
       "    }\n",
       "\n",
       "    .dataframe thead th {\n",
       "        text-align: right;\n",
       "    }\n",
       "</style>\n",
       "<table border=\"1\" class=\"dataframe\">\n",
       "  <thead>\n",
       "    <tr style=\"text-align: right;\">\n",
       "      <th></th>\n",
       "      <th>high_season</th>\n",
       "      <th>min_diff</th>\n",
       "      <th>delay_15</th>\n",
       "      <th>period_day</th>\n",
       "    </tr>\n",
       "  </thead>\n",
       "  <tbody>\n",
       "    <tr>\n",
       "      <th>0</th>\n",
       "      <td>1</td>\n",
       "      <td>3.0</td>\n",
       "      <td>0</td>\n",
       "      <td>night</td>\n",
       "    </tr>\n",
       "    <tr>\n",
       "      <th>1</th>\n",
       "      <td>1</td>\n",
       "      <td>9.0</td>\n",
       "      <td>0</td>\n",
       "      <td>night</td>\n",
       "    </tr>\n",
       "    <tr>\n",
       "      <th>2</th>\n",
       "      <td>1</td>\n",
       "      <td>9.0</td>\n",
       "      <td>0</td>\n",
       "      <td>night</td>\n",
       "    </tr>\n",
       "    <tr>\n",
       "      <th>3</th>\n",
       "      <td>1</td>\n",
       "      <td>3.0</td>\n",
       "      <td>0</td>\n",
       "      <td>night</td>\n",
       "    </tr>\n",
       "    <tr>\n",
       "      <th>4</th>\n",
       "      <td>1</td>\n",
       "      <td>-2.0</td>\n",
       "      <td>0</td>\n",
       "      <td>night</td>\n",
       "    </tr>\n",
       "    <tr>\n",
       "      <th>...</th>\n",
       "      <td>...</td>\n",
       "      <td>...</td>\n",
       "      <td>...</td>\n",
       "      <td>...</td>\n",
       "    </tr>\n",
       "    <tr>\n",
       "      <th>68201</th>\n",
       "      <td>1</td>\n",
       "      <td>46.0</td>\n",
       "      <td>1</td>\n",
       "      <td>afternoon</td>\n",
       "    </tr>\n",
       "    <tr>\n",
       "      <th>68202</th>\n",
       "      <td>1</td>\n",
       "      <td>16.0</td>\n",
       "      <td>1</td>\n",
       "      <td>afternoon</td>\n",
       "    </tr>\n",
       "    <tr>\n",
       "      <th>68203</th>\n",
       "      <td>1</td>\n",
       "      <td>40.0</td>\n",
       "      <td>1</td>\n",
       "      <td>afternoon</td>\n",
       "    </tr>\n",
       "    <tr>\n",
       "      <th>68204</th>\n",
       "      <td>1</td>\n",
       "      <td>13.0</td>\n",
       "      <td>0</td>\n",
       "      <td>afternoon</td>\n",
       "    </tr>\n",
       "    <tr>\n",
       "      <th>68205</th>\n",
       "      <td>1</td>\n",
       "      <td>9.0</td>\n",
       "      <td>0</td>\n",
       "      <td>afternoon</td>\n",
       "    </tr>\n",
       "  </tbody>\n",
       "</table>\n",
       "<p>68205 rows × 4 columns</p>\n",
       "</div>"
      ],
      "text/plain": [
       "       high_season  min_diff  delay_15 period_day\n",
       "0                1       3.0         0      night\n",
       "1                1       9.0         0      night\n",
       "2                1       9.0         0      night\n",
       "3                1       3.0         0      night\n",
       "4                1      -2.0         0      night\n",
       "...            ...       ...       ...        ...\n",
       "68201            1      46.0         1  afternoon\n",
       "68202            1      16.0         1  afternoon\n",
       "68203            1      40.0         1  afternoon\n",
       "68204            1      13.0         0  afternoon\n",
       "68205            1       9.0         0  afternoon\n",
       "\n",
       "[68205 rows x 4 columns]"
      ]
     },
     "execution_count": 70,
     "metadata": {},
     "output_type": "execute_result"
    }
   ],
   "source": [
    "synthetic_features = df[synthetic_features_names]\n",
    "\n",
    "synthetic_features"
   ]
  },
  {
   "cell_type": "code",
   "execution_count": 71,
   "metadata": {},
   "outputs": [],
   "source": [
    "df = df.drop(synthetic_features_names,axis=1)  "
   ]
  },
  {
   "cell_type": "code",
   "execution_count": 72,
   "metadata": {},
   "outputs": [],
   "source": [
    "# the output files are stored in the data/interim folder \n",
    "# so its not necessary to repete all the steps in the notebook\n",
    "\n",
    "df.to_csv('data/interim/dataset_SCL.csv', index=False)\n",
    "synthetic_features.to_csv('data/interim/synthetic_features_SCL.csv', index=False)"
   ]
  },
  {
   "attachments": {},
   "cell_type": "markdown",
   "metadata": {},
   "source": [
    "### Question 3:\n",
    "\n",
    "What is the behavior of the delay rate across destination, airline, month of the year, day of the week, season, type of flight? \n",
    "\n",
    "What variables would you expect to have the most influence in predicting delays?"
   ]
  },
  {
   "cell_type": "code",
   "execution_count": 77,
   "metadata": {},
   "outputs": [],
   "source": [
    "# load the data from the previous step \n",
    "synthetic_features = pd.read_csv('data/interim/synthetic_features_SCL.csv') \n",
    "df = pd.read_csv('data/interim/dataset_SCL.csv')\n",
    "# merge on index \n",
    "dataset  = pd.concat([df, synthetic_features], axis=1)\n"
   ]
  },
  {
   "cell_type": "code",
   "execution_count": 78,
   "metadata": {},
   "outputs": [
    {
     "data": {
      "text/html": [
       "<div>\n",
       "<style scoped>\n",
       "    .dataframe tbody tr th:only-of-type {\n",
       "        vertical-align: middle;\n",
       "    }\n",
       "\n",
       "    .dataframe tbody tr th {\n",
       "        vertical-align: top;\n",
       "    }\n",
       "\n",
       "    .dataframe thead th {\n",
       "        text-align: right;\n",
       "    }\n",
       "</style>\n",
       "<table border=\"1\" class=\"dataframe\">\n",
       "  <thead>\n",
       "    <tr style=\"text-align: right;\">\n",
       "      <th></th>\n",
       "      <th>0</th>\n",
       "      <th>1</th>\n",
       "    </tr>\n",
       "  </thead>\n",
       "  <tbody>\n",
       "    <tr>\n",
       "      <th>delay_15</th>\n",
       "      <td>55591</td>\n",
       "      <td>12614</td>\n",
       "    </tr>\n",
       "  </tbody>\n",
       "</table>\n",
       "</div>"
      ],
      "text/plain": [
       "              0      1\n",
       "delay_15  55591  12614"
      ]
     },
     "execution_count": 78,
     "metadata": {},
     "output_type": "execute_result"
    }
   ],
   "source": [
    "synthetic_features['delay_15'].value_counts(dropna=False).to_frame().T"
   ]
  },
  {
   "attachments": {},
   "cell_type": "markdown",
   "metadata": {},
   "source": [
    "### At this stage I've stplit the data into train and test, the reson for this is to have \"new data\" to evaluate the model that have not been seen during the EDA. \n",
    "### Ideally this would be made by date, so the training data is e.g. 2016-2018 and the test is 2019 since there can be some trends at that frequency \n",
    "### In this case, there is only data from 2017 (and 2 records from 2018) so the data will the split randomly  \n",
    "\n"
   ]
  },
  {
   "cell_type": "code",
   "execution_count": 79,
   "metadata": {},
   "outputs": [],
   "source": [
    "\n",
    "# Create the splitter\n",
    "splitter = StratifiedShuffleSplit(n_splits=1, test_size=0.2, random_state=0)\n",
    "\n",
    "# Loop through the splits\n",
    "X,y = dataset.drop(['delay_15'] ,axis=1) , dataset['delay_15'] \n",
    "for train_index, test_index in splitter.split(X, y):\n",
    "    # Get the training and test data\n",
    "    X_train, X_test = X.loc[train_index], X.loc[test_index]\n",
    "    y_train, y_test = y[train_index], y[test_index]\n",
    "    "
   ]
  },
  {
   "cell_type": "code",
   "execution_count": 80,
   "metadata": {},
   "outputs": [],
   "source": [
    "# save X_train, X_test, y_train, y_test to csv files in data/interim folder \n",
    "X_train.to_csv('data/interim/X_train_SCL.csv', index=False)\n",
    "X_test.to_csv('data/interim/X_test_SCL.csv', index=False)\n",
    "y_train.to_csv('data/interim/y_train_SCL.csv', index=False)\n",
    "y_test.to_csv('data/interim/y_test_SCL.csv', index=False)\n"
   ]
  },
  {
   "cell_type": "code",
   "execution_count": 81,
   "metadata": {},
   "outputs": [],
   "source": [
    "## For this analysis only the training data will be used. \n",
    "# to avoid possible error for mutability the previous dataframes are deleted \n",
    "del X_train, X_test, y_train, y_test, X, y, df, dataset "
   ]
  },
  {
   "cell_type": "code",
   "execution_count": 83,
   "metadata": {},
   "outputs": [],
   "source": [
    "# load the training data \n",
    "\n",
    "X_train = pd.read_csv('data/interim/X_train_SCL.csv')\n",
    "y_train = pd.read_csv('data/interim/y_train_SCL.csv') \n",
    "\n",
    "df_train = pd.concat([X_train, y_train], axis=1) "
   ]
  },
  {
   "attachments": {},
   "cell_type": "markdown",
   "metadata": {},
   "source": [
    "The variables to analyze are: : \n",
    "\n",
    "* the delay rate across \n",
    "* destination\n",
    "* airline\n",
    "* month of the year\n",
    "* day of the week\n",
    "* season\n",
    "* type of flight\n",
    "\n",
    "For this plot I leverage on the sweetviz library, the complete report can be found in the HTML file in the reports folder. "
   ]
  },
  {
   "cell_type": "code",
   "execution_count": 66,
   "metadata": {},
   "outputs": [
    {
     "name": "stderr",
     "output_type": "stream",
     "text": [
      "/home/codespace/.python/current/lib/python3.10/site-packages/sweetviz/dataframe_report.py:74: FutureWarning: iteritems is deprecated and will be removed in a future version. Use .items instead.\n",
      "  all_source_names = [cur_name for cur_name, cur_series in source_df.iteritems()]\n",
      "/home/codespace/.python/current/lib/python3.10/site-packages/sweetviz/dataframe_report.py:109: FutureWarning: iteritems is deprecated and will be removed in a future version. Use .items instead.\n",
      "  filtered_series_names_in_source = [cur_name for cur_name, cur_series in source_df.iteritems()\n",
      "Feature: delay_15 (TARGET)                   |▊         | [  8%]   00:00 -> (00:01 left)/home/codespace/.python/current/lib/python3.10/site-packages/sweetviz/series_analyzer_cat.py:28: FutureWarning: iteritems is deprecated and will be removed in a future version. Use .items instead.\n",
      "  for item in category_counts.iteritems():\n",
      "Feature: Des-I                               |█▋        | [ 17%]   00:00 -> (00:02 left)/home/codespace/.python/current/lib/python3.10/site-packages/sweetviz/series_analyzer_cat.py:28: FutureWarning: iteritems is deprecated and will be removed in a future version. Use .items instead.\n",
      "  for item in category_counts.iteritems():\n",
      "Feature: Emp-I                               |██▌       | [ 25%]   00:00 -> (00:03 left)/home/codespace/.python/current/lib/python3.10/site-packages/sweetviz/series_analyzer_cat.py:28: FutureWarning: iteritems is deprecated and will be removed in a future version. Use .items instead.\n",
      "  for item in category_counts.iteritems():\n",
      "Feature: Des-O                               |███▎      | [ 33%]   00:01 -> (00:03 left)/home/codespace/.python/current/lib/python3.10/site-packages/sweetviz/series_analyzer_cat.py:28: FutureWarning: iteritems is deprecated and will be removed in a future version. Use .items instead.\n",
      "  for item in category_counts.iteritems():\n",
      "Feature: Emp-O                               |████▏     | [ 42%]   00:01 -> (00:02 left)/home/codespace/.python/current/lib/python3.10/site-packages/sweetviz/series_analyzer_cat.py:28: FutureWarning: iteritems is deprecated and will be removed in a future version. Use .items instead.\n",
      "  for item in category_counts.iteritems():\n",
      "Feature: TIPOVUELO                           |█████     | [ 50%]   00:02 -> (00:02 left)/home/codespace/.python/current/lib/python3.10/site-packages/sweetviz/series_analyzer_cat.py:28: FutureWarning: iteritems is deprecated and will be removed in a future version. Use .items instead.\n",
      "  for item in category_counts.iteritems():\n",
      "Feature: period_day                          |█████▊    | [ 58%]   00:02 -> (00:01 left)/home/codespace/.python/current/lib/python3.10/site-packages/sweetviz/series_analyzer_cat.py:28: FutureWarning: iteritems is deprecated and will be removed in a future version. Use .items instead.\n",
      "  for item in category_counts.iteritems():\n",
      "Feature: high_season                         |██████▋   | [ 67%]   00:02 -> (00:01 left)/home/codespace/.python/current/lib/python3.10/site-packages/sweetviz/series_analyzer_cat.py:28: FutureWarning: iteritems is deprecated and will be removed in a future version. Use .items instead.\n",
      "  for item in category_counts.iteritems():\n",
      "Feature: DIANOM                              |███████▌  | [ 75%]   00:02 -> (00:00 left)/home/codespace/.python/current/lib/python3.10/site-packages/sweetviz/series_analyzer_cat.py:28: FutureWarning: iteritems is deprecated and will be removed in a future version. Use .items instead.\n",
      "  for item in category_counts.iteritems():\n",
      "Feature: MES_Name                            |████████▎ | [ 83%]   00:03 -> (00:00 left)/home/codespace/.python/current/lib/python3.10/site-packages/sweetviz/series_analyzer_cat.py:28: FutureWarning: iteritems is deprecated and will be removed in a future version. Use .items instead.\n",
      "  for item in category_counts.iteritems():\n",
      "Feature: OPERA                               |█████████▏| [ 92%]   00:03 -> (00:00 left)/home/codespace/.python/current/lib/python3.10/site-packages/sweetviz/series_analyzer_cat.py:28: FutureWarning: iteritems is deprecated and will be removed in a future version. Use .items instead.\n",
      "  for item in category_counts.iteritems():\n",
      "Done! Use 'show' commands to display/save.   |██████████| [100%]   00:00 -> (00:00 left)\n"
     ]
    }
   ],
   "source": [
    "# The column MES_Name is created only for the purpose of the report. \n",
    "df_train['MES_Name'] = df_train['MES'].map({1:'Enero',2:'Febrero',3:'Marzo',4:'Abril',5:'Mayo',6:'Junio',7:'Julio',8:'Agosto',9:'Septiembre',10:'Octubre',11:'Noviembre',12:'Diciembre'})\n",
    "\n",
    "my_report = sv.analyze(df_train[['Des-I','Emp-I','Des-O','Emp-O','TIPOVUELO','period_day','high_season','DIANOM','MES_Name','OPERA', 'delay_15']],target_feat='delay_15')"
   ]
  },
  {
   "cell_type": "code",
   "execution_count": 83,
   "metadata": {},
   "outputs": [
    {
     "name": "stdout",
     "output_type": "stream",
     "text": [
      "Report ./reports/EDA_base_report.html was generated! NOTEBOOK/COLAB USERS: the web browser MAY not pop up, regardless, the report IS saved in your notebook/colab files.\n"
     ]
    }
   ],
   "source": [
    "# the complete report is saved in the reports folder \n",
    "my_report.show_html(filepath='./reports/EDA_base_report.html') "
   ]
  },
  {
   "attachments": {},
   "cell_type": "markdown",
   "metadata": {},
   "source": [
    "Now I'll analyze the plots from the report\n",
    "\n",
    "For reference, all the plots have two graphs:\n",
    "\n",
    "* The bars represent the percentage of that class over the total. \n",
    "In the below plot from all the records about 55% are 'N' the other 45% is 'I' \n",
    "\n",
    "* The lines represent the percentage of the target variable within each category.\n",
    "In the below plot, among the 'N' records 15% are positive, and among the 'I' records 24% are positive interms of the target variable (have a delay)"
   ]
  },
  {
   "attachments": {
    "image.png": {
     "image/png": "[encoded data removed]"
    }
   },
   "cell_type": "markdown",
   "metadata": {},
   "source": [
    "\n",
    "\n",
    "![image.png](attachment:image.png)\n"
   ]
  },
  {
   "attachments": {},
   "cell_type": "markdown",
   "metadata": {},
   "source": [
    "From the image below we can see that there is significant variation in the delay time between the destinations, hence is a good idea to include this feature in the model.  \n",
    "\n",
    "The main challenge we face to do it right is the high cardinality of the feature. \n",
    "It is not reasonable to create a dummy variable for each destination nor to use an ordinal encoding. \n",
    "At this point we have some alternatives:\n",
    "\n",
    "1. use a target encoding\n",
    "2. use WOE encoding \n",
    "3. Make a manual encoding based on the EDA \n",
    "\n",
    "\n",
    "But the high cardinality of the feature is still a problem. Since it may lead to overfitting. "
   ]
  },
  {
   "attachments": {
    "image.png": {
     "image/png": "[encoded data removed]"
    }
   },
   "cell_type": "markdown",
   "metadata": {},
   "source": [
    "\n",
    "![image.png](attachment:image.png)"
   ]
  },
  {
   "attachments": {},
   "cell_type": "markdown",
   "metadata": {},
   "source": [
    "For the airline we have a similar behavior than with the destination, hence I will use the same approach."
   ]
  },
  {
   "attachments": {
    "image.png": {
     "image/png": "[encoded data removed]"
    }
   },
   "cell_type": "markdown",
   "metadata": {},
   "source": [
    "![image.png](attachment:image.png)"
   ]
  },
  {
   "attachments": {},
   "cell_type": "markdown",
   "metadata": {},
   "source": [
    "The OPERA column provides similar information than Emp-I and Emp-O, for the moment we will use the same approach of grouping and encoding and decide at a later stage which one to keep "
   ]
  },
  {
   "attachments": {
    "image.png": {
     "image/png": "[encoded data removed]"
    }
   },
   "cell_type": "markdown",
   "metadata": {},
   "source": [
    "![image.png](attachment:image.png)"
   ]
  },
  {
   "attachments": {},
   "cell_type": "markdown",
   "metadata": {},
   "source": [
    "For the month feature, there are also differences in the delay_15 distribution.  \n",
    "\n",
    "In particular, the months of December and July have a higher percentage of delays.\n",
    "maybe related to a higher demand for flights in these months. "
   ]
  },
  {
   "attachments": {
    "image.png": {
     "image/png": "[encoded data removed]"
    }
   },
   "cell_type": "markdown",
   "metadata": {},
   "source": [
    "![image.png](attachment:image.png)"
   ]
  },
  {
   "attachments": {},
   "cell_type": "markdown",
   "metadata": {},
   "source": [
    "For the flight type, the analysis is straightforward, on average the delay is higher for international flights than for domestic flights.  \n"
   ]
  },
  {
   "attachments": {
    "image.png": {
     "image/png": "[encoded data removed]"
    }
   },
   "cell_type": "markdown",
   "metadata": {},
   "source": [
    "![image.png](attachment:image.png)"
   ]
  },
  {
   "attachments": {},
   "cell_type": "markdown",
   "metadata": {},
   "source": [
    "During the high season the delays rate is larger "
   ]
  },
  {
   "attachments": {
    "image.png": {
     "image/png": "[encoded data removed]"
    }
   },
   "cell_type": "markdown",
   "metadata": {},
   "source": [
    "![image.png](attachment:image.png)"
   ]
  },
  {
   "attachments": {},
   "cell_type": "markdown",
   "metadata": {},
   "source": [
    "Regarding the Period of the day, during the morning the rate of delays is smaller hence this is a variable that could be used for the model and may be binary"
   ]
  },
  {
   "attachments": {
    "image.png": {
     "image/png": "[encoded data removed]"
    }
   },
   "cell_type": "markdown",
   "metadata": {},
   "source": [
    "![image.png](attachment:image.png)"
   ]
  },
  {
   "attachments": {},
   "cell_type": "markdown",
   "metadata": {},
   "source": [
    "For the day of the week we can also see a relation with the delay, for this variable we will just make a flag for the days with Longer delay: \n",
    "\n",
    "long_delay_day: Jueves, Viernes, Lunes \n"
   ]
  },
  {
   "attachments": {
    "image.png": {
     "image/png": "[encoded data removed]"
    }
   },
   "cell_type": "markdown",
   "metadata": {},
   "source": [
    "![image.png](attachment:image.png)"
   ]
  },
  {
   "attachments": {},
   "cell_type": "markdown",
   "metadata": {},
   "source": [
    "### Feature Engineering "
   ]
  },
  {
   "cell_type": "code",
   "execution_count": 10,
   "metadata": {},
   "outputs": [],
   "source": [
    "# for bining the high cardinality categories I'll take as reference the number of flights per category.\n",
    "# if is lower than 100 the category will be binned as 'other'\n",
    "fligths_th = 100\n",
    "\n",
    "main_destination =  df_train['Des-I'].value_counts().loc[lambda x: x > fligths_th].index\n",
    "\n",
    "# To store the mapping I'll use a defaultdict, which requires the definition of a function to be saved in the pickle file.\n",
    "# Its no possible to save a lambda function nor as as json file.\n",
    "\n",
    "def default_val():\n",
    "  return 'other'\n",
    "\n",
    "destination_mapping = defaultdict(default_val)\n",
    "for k in main_destination:\n",
    "    destination_mapping[k] = k\n",
    "\n",
    "with open('data/processed/destination_mapping_SCL.pkl' ,'wb') as f:\n",
    "  # Serialize the defaultdict and write it to the file\n",
    "  pickle.dump(destination_mapping, f)\n",
    "\n",
    "\n",
    "# For the airline we will use the same approach, with the difference that we will have to work with to columns Emp-I and Emp-O. \n",
    "# ideally both shlould be the same, but close to the date of this dataset there was a merge between airlines I'm asuming that's the reason for the discrepancy.\n",
    "# Using both variables in the model does not sound like a great idea, since it will add a complexity hard to justify \n",
    "# but we will create both and see which performs better. \n",
    "\n",
    "# select the airlines with more than 100 flights use the value_counts method \n",
    "\n",
    "main_airline_I = df_train['Emp-I'].value_counts().loc[lambda x: x > fligths_th].index\n",
    "main_airline_O = df_train['Emp-O'].value_counts().loc[lambda x: x > fligths_th].index\n",
    "\n",
    "main_airline = main_airline_I.append(main_airline_O).unique()\n",
    "\n",
    "main_airline\n",
    "\n",
    "# create a default dictionary with main_airline as keys if the k is in the list return the same k, if not return 'other'\n",
    "airline_mapping = defaultdict(default_val)\n",
    "for k in main_airline:\n",
    "    airline_mapping[k] = k\n",
    "\n",
    "# save airline_mapping to as a as pickle file\n",
    "with open('data/processed/airline_mapping_SCL.pkl' ,'wb') as f:\n",
    "  pickle.dump(airline_mapping, f)\n",
    "\n",
    "\n",
    "main_airline_op = df_train['OPERA'].value_counts().loc[lambda x: x > fligths_th].index\n",
    "\n",
    "airline_mapping_op = defaultdict(default_val)\n",
    "for k in main_airline_op:\n",
    "    airline_mapping_op[k] = k\n",
    "\n",
    "# save airline_mapping to as a pickle file\n",
    "with open('data/processed/airline_mapping_op_SCL.pkl' ,'wb') as f:\n",
    "  pickle.dump(airline_mapping_op, f)\n",
    "\n",
    "  "
   ]
  },
  {
   "cell_type": "code",
   "execution_count": 11,
   "metadata": {},
   "outputs": [],
   "source": [
    "# The days mapping is a bit different, since I want to create a binary variable\n",
    "# it can be stored as a json file\n",
    "\n",
    "longer_delay_days = ['Jueves','Viernes','Lunes'] \n",
    "# save longer_delay_days to as a json file in the data/processed folder \n",
    "\n",
    "days_mapping = {'Lunes': 1,\n",
    " 'Martes': 0,\n",
    " 'Miercoles': 0,\n",
    " 'Jueves': 1,\n",
    " 'Viernes': 1,\n",
    " 'Sabado': 0,\n",
    " 'Domingo': 0}\n",
    " \n",
    "with open('data/processed/days_mapping_SCL.json', 'w') as fp:\n",
    "    json.dump(days_mapping, fp)\n",
    "\n",
    "# Longer delay months has all the values defined, so it can be stored as a json file\n",
    "# 3: Julio ,Octubre, Noviembre, Diciembre\n",
    "# 2: Enero, Agosto, Septiembre, Febrero, Mayo, Junio\n",
    "# 1: Marzo, Abril\n",
    "\n",
    "months_mapping = {7: 3, 10: 3, 11: 3, 12: 3, 1: 2, 8: 2, 9: 2, 2: 2, 5: 2, 6: 2, 3: 1, 4: 1}\n",
    "#save longer_delay_months to as a json file in the data/processed folder\n",
    "\n",
    "with open('data/processed/months_mapping_SCL.json', 'w') as fp:\n",
    "    json.dump(months_mapping, fp)\n",
    "\n",
    "\n",
    "period_day_mapping = {'morning': 1, 'afternoon': 0, 'night': 0}\n",
    "\n",
    "# save period_day_mapping to as a json file in the data/processed folder\n",
    "with open('data/processed/period_day_mapping_SCL.json', 'w') as fp:\n",
    "    json.dump(period_day_mapping, fp)\n",
    "\n",
    "tipo_vuelo_mapping = {'I': 1, 'N': 0}\n",
    "\n",
    "# save tipo_vuelo_mapping to as a json file in the data/processed folder\n",
    "with open('data/processed/tipo_vuelo_mapping_SCL.json', 'w') as fp:\n",
    "    json.dump(tipo_vuelo_mapping, fp)\n",
    "\n",
    "\n",
    "\n",
    "df_train.loc[:,'period_day']  = df_train['period_day'].apply(lambda x: 1 if x == 'morning' else 0)\n",
    "## TIPOVUELO 1 = international 0 otherwise\n",
    "df_train.loc[:,'TIPOVUELO']  = df_train['TIPOVUELO'].apply(lambda x: 1 if x == 'I' else 0)"
   ]
  },
  {
   "cell_type": "code",
   "execution_count": 12,
   "metadata": {},
   "outputs": [],
   "source": [
    "## load the data to validate the mapping\n",
    "\n",
    "\n",
    "X_train = pd.read_csv('data/interim/X_train_SCL.csv')\n",
    "y_train = pd.read_csv('data/interim/y_train_SCL.csv') \n",
    "\n",
    "df_train = pd.concat([X_train, y_train], axis=1) "
   ]
  },
  {
   "cell_type": "code",
   "execution_count": 13,
   "metadata": {},
   "outputs": [],
   "source": [
    "\n",
    "# Now I select the features that can be used in the model \n",
    "\n",
    "features = ['Des-I', 'Emp-I',   'Des-O',\n",
    "       'Emp-O',  'MES',  'DIANOM', 'TIPOVUELO', 'OPERA',\n",
    "       'SIGLADES',   'high_season', \n",
    "       'period_day', 'delay_15']\n",
    "       \n",
    "df_train = df_train[features]\n"
   ]
  },
  {
   "cell_type": "code",
   "execution_count": 14,
   "metadata": {},
   "outputs": [
    {
     "data": {
      "text/html": [
       "<div>\n",
       "<style scoped>\n",
       "    .dataframe tbody tr th:only-of-type {\n",
       "        vertical-align: middle;\n",
       "    }\n",
       "\n",
       "    .dataframe tbody tr th {\n",
       "        vertical-align: top;\n",
       "    }\n",
       "\n",
       "    .dataframe thead th {\n",
       "        text-align: right;\n",
       "    }\n",
       "</style>\n",
       "<table border=\"1\" class=\"dataframe\">\n",
       "  <thead>\n",
       "    <tr style=\"text-align: right;\">\n",
       "      <th></th>\n",
       "      <th>Des-I</th>\n",
       "      <th>Emp-I</th>\n",
       "      <th>Des-O</th>\n",
       "      <th>Emp-O</th>\n",
       "      <th>MES</th>\n",
       "      <th>DIANOM</th>\n",
       "      <th>TIPOVUELO</th>\n",
       "      <th>OPERA</th>\n",
       "      <th>SIGLADES</th>\n",
       "      <th>high_season</th>\n",
       "      <th>period_day</th>\n",
       "      <th>delay_15</th>\n",
       "    </tr>\n",
       "  </thead>\n",
       "  <tbody>\n",
       "    <tr>\n",
       "      <th>0</th>\n",
       "      <td>SPJC</td>\n",
       "      <td>SKU</td>\n",
       "      <td>SPJC</td>\n",
       "      <td>SKU</td>\n",
       "      <td>3</td>\n",
       "      <td>1</td>\n",
       "      <td>1</td>\n",
       "      <td>Sky Airline</td>\n",
       "      <td>Lima</td>\n",
       "      <td>0</td>\n",
       "      <td>0</td>\n",
       "      <td>1</td>\n",
       "    </tr>\n",
       "    <tr>\n",
       "      <th>1</th>\n",
       "      <td>SCIE</td>\n",
       "      <td>LAW</td>\n",
       "      <td>SCIE</td>\n",
       "      <td>JMR</td>\n",
       "      <td>1</td>\n",
       "      <td>1</td>\n",
       "      <td>0</td>\n",
       "      <td>Latin American Wings</td>\n",
       "      <td>Concepcion</td>\n",
       "      <td>0</td>\n",
       "      <td>0</td>\n",
       "      <td>0</td>\n",
       "    </tr>\n",
       "    <tr>\n",
       "      <th>2</th>\n",
       "      <td>MPTO</td>\n",
       "      <td>CMP</td>\n",
       "      <td>MPTO</td>\n",
       "      <td>CMP</td>\n",
       "      <td>2</td>\n",
       "      <td>1</td>\n",
       "      <td>1</td>\n",
       "      <td>Copa Air</td>\n",
       "      <td>Ciudad de Panama</td>\n",
       "      <td>0</td>\n",
       "      <td>0</td>\n",
       "      <td>1</td>\n",
       "    </tr>\n",
       "    <tr>\n",
       "      <th>3</th>\n",
       "      <td>SCTE</td>\n",
       "      <td>LAN</td>\n",
       "      <td>SCTE</td>\n",
       "      <td>LXP</td>\n",
       "      <td>2</td>\n",
       "      <td>1</td>\n",
       "      <td>0</td>\n",
       "      <td>Grupo LATAM</td>\n",
       "      <td>Puerto Montt</td>\n",
       "      <td>0</td>\n",
       "      <td>0</td>\n",
       "      <td>1</td>\n",
       "    </tr>\n",
       "    <tr>\n",
       "      <th>4</th>\n",
       "      <td>SBGR</td>\n",
       "      <td>TAM</td>\n",
       "      <td>SBGR</td>\n",
       "      <td>TAM</td>\n",
       "      <td>2</td>\n",
       "      <td>1</td>\n",
       "      <td>1</td>\n",
       "      <td>Grupo LATAM</td>\n",
       "      <td>Sao Paulo</td>\n",
       "      <td>0</td>\n",
       "      <td>0</td>\n",
       "      <td>0</td>\n",
       "    </tr>\n",
       "  </tbody>\n",
       "</table>\n",
       "</div>"
      ],
      "text/plain": [
       "  Des-I Emp-I Des-O Emp-O  MES  DIANOM  TIPOVUELO                 OPERA  \\\n",
       "0  SPJC   SKU  SPJC   SKU    3       1          1           Sky Airline   \n",
       "1  SCIE   LAW  SCIE   JMR    1       1          0  Latin American Wings   \n",
       "2  MPTO   CMP  MPTO   CMP    2       1          1              Copa Air   \n",
       "3  SCTE   LAN  SCTE   LXP    2       1          0           Grupo LATAM   \n",
       "4  SBGR   TAM  SBGR   TAM    2       1          1           Grupo LATAM   \n",
       "\n",
       "           SIGLADES  high_season  period_day  delay_15  \n",
       "0              Lima            0           0         1  \n",
       "1        Concepcion            0           0         0  \n",
       "2  Ciudad de Panama            0           0         1  \n",
       "3      Puerto Montt            0           0         1  \n",
       "4         Sao Paulo            0           0         0  "
      ]
     },
     "execution_count": 14,
     "metadata": {},
     "output_type": "execute_result"
    }
   ],
   "source": [
    "\n",
    "# map the values in the columns Des-I, Emp-I, Des-O, Emp-O, OPERA using the dictionaries created before\n",
    "df_train.loc[:,'Des-I'] = df_train['Des-I'].map(destination_mapping)\n",
    "df_train.loc[:,'Emp-I'] = df_train['Emp-I'].map(airline_mapping)\n",
    "df_train.loc[:,'Des-O'] = df_train['Des-O'].map(destination_mapping)\n",
    "df_train.loc[:,'Emp-O'] = df_train['Emp-O'].map(airline_mapping)\n",
    "df_train.loc[:,'OPERA'] = df_train['OPERA'].map(airline_mapping_op)\n",
    "#\n",
    "#\n",
    "#    \n",
    "## period_day 1 = morning 0 otherwise\n",
    "df_train.loc[:,'period_day']  = df_train['period_day'].map(period_day_mapping)\n",
    "## TIPOVUELO 1 = international 0 otherwise\n",
    "df_train.loc[:,'TIPOVUELO']  = df_train['TIPOVUELO'].map(tipo_vuelo_mapping)\n",
    "\n",
    "\n",
    "# map the values in the columns DIANOM and  MES\n",
    "df_train['DIANOM'] = df_train['DIANOM'].map(days_mapping)\n",
    "df_train['MES'] = df_train['MES'].map(months_mapping)\n",
    "\n",
    "df_train.head()"
   ]
  },
  {
   "cell_type": "code",
   "execution_count": 15,
   "metadata": {},
   "outputs": [
    {
     "name": "stderr",
     "output_type": "stream",
     "text": [
      "Done! Use 'show' commands to display/save.   |██████████| [100%]   00:00 -> (00:00 left)\n"
     ]
    },
    {
     "name": "stdout",
     "output_type": "stream",
     "text": [
      "Report ./reports/EDA_mod_report.html was generated! NOTEBOOK/COLAB USERS: the web browser MAY not pop up, regardless, the report IS saved in your notebook/colab files.\n"
     ]
    }
   ],
   "source": [
    "# Now I repeat the report analysis to see if the new features are relevant for the model\n",
    "my_report = sv.analyze(df_train,target_feat='delay_15')\n",
    "my_report.show_html(filepath='./reports/EDA_mod_report.html') \n"
   ]
  },
  {
   "attachments": {},
   "cell_type": "markdown",
   "metadata": {},
   "source": [
    "**In the bellow images we can see the variables that were more affected by the mapping:** "
   ]
  },
  {
   "attachments": {},
   "cell_type": "markdown",
   "metadata": {},
   "source": [
    "The variable month now has a linear relation of its value (1,2,3) and the increase in the rate of delays.  \n",
    "\n",
    "It might even be more relevant to the model than the hihg_season variable.  "
   ]
  },
  {
   "attachments": {
    "image-2.png": {
     "image/png": "[encoded data removed]"
    },
    "image.png": {
     "image/png": "[encoded data removed]"
    }
   },
   "cell_type": "markdown",
   "metadata": {},
   "source": [
    "![image.png](attachment:image.png)\n",
    "\n",
    "\n",
    "![image.png](attachment:image-2.png)"
   ]
  },
  {
   "attachments": {},
   "cell_type": "markdown",
   "metadata": {},
   "source": [
    "The day variable also has now a clear relation with the target variable "
   ]
  },
  {
   "attachments": {
    "image.png": {
     "image/png": "[encoded data removed]"
    }
   },
   "cell_type": "markdown",
   "metadata": {},
   "source": [
    "![image.png](attachment:image.png)"
   ]
  },
  {
   "attachments": {},
   "cell_type": "markdown",
   "metadata": {},
   "source": [
    "For the rest of the features is still required to apply a target encoding. "
   ]
  },
  {
   "attachments": {},
   "cell_type": "markdown",
   "metadata": {},
   "source": [
    "Regarding the variables that may have the larget impact on the model: \n",
    "\n",
    "* Mes: I expect this variable to have a large impact on the model. \n",
    "\n",
    "* TIPOVUELO: I expect this variable to have a large impact on the model.\n",
    "\n",
    "* OPERA (And similar): There is a large variance of the delay rate across the airlines, which is a good sign for the model. But they also have a large cardinality and are largely invalanced, so may need further work in order to encode the information propertly. \n",
    "\n",
    "* SIGLADES (And similar): Similarly to the opera variable there is a large variance of the delay rate and a high cardinality, with the advantage of been more balanced that 'OPERA'. The disadvantage is that a large proportion of its information may be already encoded in the variable 'TIPOVUELO'\n"
   ]
  },
  {
   "cell_type": "markdown",
   "metadata": {},
   "source": []
  },
  {
   "cell_type": "code",
   "execution_count": 97,
   "metadata": {},
   "outputs": [
    {
     "data": {
      "text/html": [
       "<div>\n",
       "<style scoped>\n",
       "    .dataframe tbody tr th:only-of-type {\n",
       "        vertical-align: middle;\n",
       "    }\n",
       "\n",
       "    .dataframe tbody tr th {\n",
       "        vertical-align: top;\n",
       "    }\n",
       "\n",
       "    .dataframe thead th {\n",
       "        text-align: right;\n",
       "    }\n",
       "</style>\n",
       "<table border=\"1\" class=\"dataframe\">\n",
       "  <thead>\n",
       "    <tr style=\"text-align: right;\">\n",
       "      <th></th>\n",
       "      <th>Des-I</th>\n",
       "      <th>Emp-I</th>\n",
       "      <th>Des-O</th>\n",
       "      <th>Emp-O</th>\n",
       "      <th>MES</th>\n",
       "      <th>DIANOM</th>\n",
       "      <th>TIPOVUELO</th>\n",
       "      <th>OPERA</th>\n",
       "      <th>SIGLADES</th>\n",
       "      <th>high_season</th>\n",
       "      <th>period_day</th>\n",
       "      <th>delay_15</th>\n",
       "    </tr>\n",
       "  </thead>\n",
       "  <tbody>\n",
       "    <tr>\n",
       "      <th>0</th>\n",
       "      <td>SPJC</td>\n",
       "      <td>SKU</td>\n",
       "      <td>SPJC</td>\n",
       "      <td>SKU</td>\n",
       "      <td>3</td>\n",
       "      <td>1</td>\n",
       "      <td>1</td>\n",
       "      <td>Sky Airline</td>\n",
       "      <td>Lima</td>\n",
       "      <td>0</td>\n",
       "      <td>0</td>\n",
       "      <td>1</td>\n",
       "    </tr>\n",
       "    <tr>\n",
       "      <th>1</th>\n",
       "      <td>SCIE</td>\n",
       "      <td>LAW</td>\n",
       "      <td>SCIE</td>\n",
       "      <td>JMR</td>\n",
       "      <td>1</td>\n",
       "      <td>1</td>\n",
       "      <td>0</td>\n",
       "      <td>Latin American Wings</td>\n",
       "      <td>Concepcion</td>\n",
       "      <td>0</td>\n",
       "      <td>0</td>\n",
       "      <td>0</td>\n",
       "    </tr>\n",
       "    <tr>\n",
       "      <th>2</th>\n",
       "      <td>MPTO</td>\n",
       "      <td>CMP</td>\n",
       "      <td>MPTO</td>\n",
       "      <td>CMP</td>\n",
       "      <td>2</td>\n",
       "      <td>1</td>\n",
       "      <td>1</td>\n",
       "      <td>Copa Air</td>\n",
       "      <td>Ciudad de Panama</td>\n",
       "      <td>0</td>\n",
       "      <td>0</td>\n",
       "      <td>1</td>\n",
       "    </tr>\n",
       "    <tr>\n",
       "      <th>3</th>\n",
       "      <td>SCTE</td>\n",
       "      <td>LAN</td>\n",
       "      <td>SCTE</td>\n",
       "      <td>LXP</td>\n",
       "      <td>2</td>\n",
       "      <td>1</td>\n",
       "      <td>0</td>\n",
       "      <td>Grupo LATAM</td>\n",
       "      <td>Puerto Montt</td>\n",
       "      <td>0</td>\n",
       "      <td>0</td>\n",
       "      <td>1</td>\n",
       "    </tr>\n",
       "    <tr>\n",
       "      <th>4</th>\n",
       "      <td>SBGR</td>\n",
       "      <td>TAM</td>\n",
       "      <td>SBGR</td>\n",
       "      <td>TAM</td>\n",
       "      <td>2</td>\n",
       "      <td>1</td>\n",
       "      <td>1</td>\n",
       "      <td>Grupo LATAM</td>\n",
       "      <td>Sao Paulo</td>\n",
       "      <td>0</td>\n",
       "      <td>0</td>\n",
       "      <td>0</td>\n",
       "    </tr>\n",
       "    <tr>\n",
       "      <th>...</th>\n",
       "      <td>...</td>\n",
       "      <td>...</td>\n",
       "      <td>...</td>\n",
       "      <td>...</td>\n",
       "      <td>...</td>\n",
       "      <td>...</td>\n",
       "      <td>...</td>\n",
       "      <td>...</td>\n",
       "      <td>...</td>\n",
       "      <td>...</td>\n",
       "      <td>...</td>\n",
       "      <td>...</td>\n",
       "    </tr>\n",
       "    <tr>\n",
       "      <th>54559</th>\n",
       "      <td>SAME</td>\n",
       "      <td>LAN</td>\n",
       "      <td>SAME</td>\n",
       "      <td>LAN</td>\n",
       "      <td>2</td>\n",
       "      <td>1</td>\n",
       "      <td>1</td>\n",
       "      <td>Grupo LATAM</td>\n",
       "      <td>Mendoza</td>\n",
       "      <td>1</td>\n",
       "      <td>0</td>\n",
       "      <td>0</td>\n",
       "    </tr>\n",
       "    <tr>\n",
       "      <th>54560</th>\n",
       "      <td>SBGL</td>\n",
       "      <td>TAM</td>\n",
       "      <td>SBGL</td>\n",
       "      <td>TAM</td>\n",
       "      <td>2</td>\n",
       "      <td>0</td>\n",
       "      <td>1</td>\n",
       "      <td>Grupo LATAM</td>\n",
       "      <td>Rio de Janeiro</td>\n",
       "      <td>0</td>\n",
       "      <td>1</td>\n",
       "      <td>1</td>\n",
       "    </tr>\n",
       "    <tr>\n",
       "      <th>54561</th>\n",
       "      <td>SCCF</td>\n",
       "      <td>SKU</td>\n",
       "      <td>SCCF</td>\n",
       "      <td>SKU</td>\n",
       "      <td>3</td>\n",
       "      <td>0</td>\n",
       "      <td>0</td>\n",
       "      <td>Sky Airline</td>\n",
       "      <td>Calama</td>\n",
       "      <td>0</td>\n",
       "      <td>0</td>\n",
       "      <td>0</td>\n",
       "    </tr>\n",
       "    <tr>\n",
       "      <th>54562</th>\n",
       "      <td>SCTE</td>\n",
       "      <td>LAN</td>\n",
       "      <td>SCTE</td>\n",
       "      <td>LAN</td>\n",
       "      <td>3</td>\n",
       "      <td>0</td>\n",
       "      <td>0</td>\n",
       "      <td>Grupo LATAM</td>\n",
       "      <td>Puerto Montt</td>\n",
       "      <td>0</td>\n",
       "      <td>1</td>\n",
       "      <td>0</td>\n",
       "    </tr>\n",
       "    <tr>\n",
       "      <th>54563</th>\n",
       "      <td>SUMU</td>\n",
       "      <td>LAN</td>\n",
       "      <td>SUMU</td>\n",
       "      <td>LAN</td>\n",
       "      <td>2</td>\n",
       "      <td>0</td>\n",
       "      <td>1</td>\n",
       "      <td>Grupo LATAM</td>\n",
       "      <td>Montevideo</td>\n",
       "      <td>1</td>\n",
       "      <td>0</td>\n",
       "      <td>0</td>\n",
       "    </tr>\n",
       "  </tbody>\n",
       "</table>\n",
       "<p>54564 rows × 12 columns</p>\n",
       "</div>"
      ],
      "text/plain": [
       "      Des-I Emp-I Des-O Emp-O  MES  DIANOM  TIPOVUELO                 OPERA  \\\n",
       "0      SPJC   SKU  SPJC   SKU    3       1          1           Sky Airline   \n",
       "1      SCIE   LAW  SCIE   JMR    1       1          0  Latin American Wings   \n",
       "2      MPTO   CMP  MPTO   CMP    2       1          1              Copa Air   \n",
       "3      SCTE   LAN  SCTE   LXP    2       1          0           Grupo LATAM   \n",
       "4      SBGR   TAM  SBGR   TAM    2       1          1           Grupo LATAM   \n",
       "...     ...   ...   ...   ...  ...     ...        ...                   ...   \n",
       "54559  SAME   LAN  SAME   LAN    2       1          1           Grupo LATAM   \n",
       "54560  SBGL   TAM  SBGL   TAM    2       0          1           Grupo LATAM   \n",
       "54561  SCCF   SKU  SCCF   SKU    3       0          0           Sky Airline   \n",
       "54562  SCTE   LAN  SCTE   LAN    3       0          0           Grupo LATAM   \n",
       "54563  SUMU   LAN  SUMU   LAN    2       0          1           Grupo LATAM   \n",
       "\n",
       "               SIGLADES  high_season  period_day  delay_15  \n",
       "0                  Lima            0           0         1  \n",
       "1            Concepcion            0           0         0  \n",
       "2      Ciudad de Panama            0           0         1  \n",
       "3          Puerto Montt            0           0         1  \n",
       "4             Sao Paulo            0           0         0  \n",
       "...                 ...          ...         ...       ...  \n",
       "54559           Mendoza            1           0         0  \n",
       "54560    Rio de Janeiro            0           1         1  \n",
       "54561            Calama            0           0         0  \n",
       "54562      Puerto Montt            0           1         0  \n",
       "54563        Montevideo            1           0         0  \n",
       "\n",
       "[54564 rows x 12 columns]"
      ]
     },
     "execution_count": 97,
     "metadata": {},
     "output_type": "execute_result"
    }
   ],
   "source": [
    "df_train"
   ]
  },
  {
   "cell_type": "code",
   "execution_count": null,
   "metadata": {},
   "outputs": [],
   "source": [
    " "
   ]
  },
  {
   "attachments": {},
   "cell_type": "markdown",
   "metadata": {},
   "source": [
    "# Question 4: \n",
    "\n",
    " Train one or several models (using the algorithm(s) of your choice) to estimate the likelihood of a flight delay.\n",
    "Feel free to generate additional variables and/or supplement with external variables."
   ]
  },
  {
   "attachments": {},
   "cell_type": "markdown",
   "metadata": {},
   "source": [
    "The first step is is to encode the categorical features with high cardinality, for that I used two methods:  weight of evidence (WoE) and Cat encoder, and compare the results with a logistic regresion model"
   ]
  },
  {
   "cell_type": "code",
   "execution_count": null,
   "metadata": {},
   "outputs": [],
   "source": []
  },
  {
   "cell_type": "code",
   "execution_count": 98,
   "metadata": {},
   "outputs": [],
   "source": [
    "woee =  ce.woe.WOEEncoder()\n",
    "cat_encoder = ce.cat_boost.CatBoostEncoder()"
   ]
  },
  {
   "cell_type": "code",
   "execution_count": 100,
   "metadata": {},
   "outputs": [],
   "source": [
    "X = df_train.drop('delay_15', axis=1)\n",
    "y = df_train['delay_15']\n",
    "# drop the month column\n",
    "X_train, X_val, y_train, y_val = train_test_split(X, y, test_size=0.2, random_state=0,stratify=y)\n"
   ]
  },
  {
   "cell_type": "code",
   "execution_count": 101,
   "metadata": {},
   "outputs": [],
   "source": [
    "hcardinality = ['Des-I', 'Emp-I', 'Des-O', 'Emp-O','SIGLADES','OPERA']\n",
    "\n",
    "woe_features_train  =  woee.fit_transform(X_train[hcardinality], y_train)\n",
    "cat_encoder_features_train = cat_encoder.fit_transform(X_train[hcardinality], y_train)"
   ]
  },
  {
   "cell_type": "code",
   "execution_count": 102,
   "metadata": {},
   "outputs": [],
   "source": [
    "# add _ woe to the columns names\n",
    "woe_features_train.columns = [col + '_woe' for col in woe_features_train.columns]\n",
    "# add _ cat to the columns names \n",
    "cat_encoder_features_train.columns = [col + '_cat' for col in cat_encoder_features_train.columns]"
   ]
  },
  {
   "cell_type": "code",
   "execution_count": 103,
   "metadata": {},
   "outputs": [],
   "source": [
    "# create the woe and cat encoder for the validation set \n",
    "woe_features_val  =  woee.transform(X_val[hcardinality])\n",
    "cat_encoder_features_val = cat_encoder.transform(X_val[hcardinality])\n",
    "\n",
    "# add _ woe to the columns names\n",
    "woe_features_val.columns = [col + '_woe' for col in woe_features_val.columns]\n",
    "# add _ cat to the columns names\n",
    "cat_encoder_features_val.columns = [col + '_cat' for col in cat_encoder_features_val.columns]\n"
   ]
  },
  {
   "cell_type": "code",
   "execution_count": 104,
   "metadata": {},
   "outputs": [],
   "source": [
    "X_train = X_train.drop(hcardinality, axis=1) \n",
    "X_val   = X_val.drop(hcardinality, axis=1)\n",
    "X_train = pd.concat([X_train, woe_features_train, cat_encoder_features_train], axis=1)\n",
    "X_val   = pd.concat([X_val, woe_features_val, cat_encoder_features_val], axis=1)\n"
   ]
  },
  {
   "attachments": {},
   "cell_type": "markdown",
   "metadata": {},
   "source": [
    "First I trained a logistic regression model with the simplest features to have it as a baseline "
   ]
  },
  {
   "cell_type": "code",
   "execution_count": 112,
   "metadata": {},
   "outputs": [
    {
     "name": "stdout",
     "output_type": "stream",
     "text": [
      "Train data report\n",
      "              precision    recall  f1-score   support\n",
      "\n",
      "           0       0.88      0.64      0.74     35578\n",
      "           1       0.28      0.60      0.38      8073\n",
      "\n",
      "    accuracy                           0.63     43651\n",
      "   macro avg       0.58      0.62      0.56     43651\n",
      "weighted avg       0.76      0.63      0.67     43651\n",
      "\n",
      "Test data report\n",
      "              precision    recall  f1-score   support\n",
      "\n",
      "           0       0.88      0.63      0.73      8895\n",
      "           1       0.27      0.61      0.37      2018\n",
      "\n",
      "    accuracy                           0.62     10913\n",
      "   macro avg       0.57      0.62      0.55     10913\n",
      "weighted avg       0.76      0.62      0.66     10913\n",
      "\n"
     ]
    },
    {
     "data": {
      "image/png": "[encoded data removed]",
      "text/plain": [
       "<Figure size 640x480 with 2 Axes>"
      ]
     },
     "metadata": {},
     "output_type": "display_data"
    }
   ],
   "source": [
    "features = ['MES', 'DIANOM', 'TIPOVUELO', 'high_season', 'period_day', \n",
    "       'Des-I_cat', 'Emp-I_cat', 'SIGLADES_cat',    'OPERA_cat']\n",
    "\n",
    "logreg = LogisticRegression(class_weight='balanced')\n",
    "model = train_base_model(logreg, X_train, y_train, X_val, y_val, features)"
   ]
  },
  {
   "attachments": {},
   "cell_type": "markdown",
   "metadata": {},
   "source": [
    "Now that we have a frame of reference we can try adding the cat and woe encoded features: "
   ]
  },
  {
   "cell_type": "code",
   "execution_count": 88,
   "metadata": {},
   "outputs": [
    {
     "name": "stdout",
     "output_type": "stream",
     "text": [
      "Train data report\n",
      "              precision    recall  f1-score   support\n",
      "\n",
      "           0       0.88      0.64      0.74     35578\n",
      "           1       0.28      0.60      0.38      8073\n",
      "\n",
      "    accuracy                           0.63     43651\n",
      "   macro avg       0.58      0.62      0.56     43651\n",
      "weighted avg       0.76      0.63      0.67     43651\n",
      "\n",
      "Test data report\n",
      "              precision    recall  f1-score   support\n",
      "\n",
      "           0       0.88      0.63      0.73      8895\n",
      "           1       0.27      0.61      0.37      2018\n",
      "\n",
      "    accuracy                           0.62     10913\n",
      "   macro avg       0.57      0.62      0.55     10913\n",
      "weighted avg       0.76      0.62      0.66     10913\n",
      "\n"
     ]
    },
    {
     "data": {
      "image/png": "[encoded data removed]",
      "text/plain": [
       "<Figure size 640x480 with 2 Axes>"
      ]
     },
     "metadata": {},
     "output_type": "display_data"
    },
    {
     "data": {
      "text/html": [
       "<style>#sk-container-id-1 {color: black;background-color: white;}#sk-container-id-1 pre{padding: 0;}#sk-container-id-1 div.sk-toggleable {background-color: white;}#sk-container-id-1 label.sk-toggleable__label {cursor: pointer;display: block;width: 100%;margin-bottom: 0;padding: 0.3em;box-sizing: border-box;text-align: center;}#sk-container-id-1 label.sk-toggleable__label-arrow:before {content: \"▸\";float: left;margin-right: 0.25em;color: #696969;}#sk-container-id-1 label.sk-toggleable__label-arrow:hover:before {color: black;}#sk-container-id-1 div.sk-estimator:hover label.sk-toggleable__label-arrow:before {color: black;}#sk-container-id-1 div.sk-toggleable__content {max-height: 0;max-width: 0;overflow: hidden;text-align: left;background-color: #f0f8ff;}#sk-container-id-1 div.sk-toggleable__content pre {margin: 0.2em;color: black;border-radius: 0.25em;background-color: #f0f8ff;}#sk-container-id-1 input.sk-toggleable__control:checked~div.sk-toggleable__content {max-height: 200px;max-width: 100%;overflow: auto;}#sk-container-id-1 input.sk-toggleable__control:checked~label.sk-toggleable__label-arrow:before {content: \"▾\";}#sk-container-id-1 div.sk-estimator input.sk-toggleable__control:checked~label.sk-toggleable__label {background-color: #d4ebff;}#sk-container-id-1 div.sk-label input.sk-toggleable__control:checked~label.sk-toggleable__label {background-color: #d4ebff;}#sk-container-id-1 input.sk-hidden--visually {border: 0;clip: rect(1px 1px 1px 1px);clip: rect(1px, 1px, 1px, 1px);height: 1px;margin: -1px;overflow: hidden;padding: 0;position: absolute;width: 1px;}#sk-container-id-1 div.sk-estimator {font-family: monospace;background-color: #f0f8ff;border: 1px dotted black;border-radius: 0.25em;box-sizing: border-box;margin-bottom: 0.5em;}#sk-container-id-1 div.sk-estimator:hover {background-color: #d4ebff;}#sk-container-id-1 div.sk-parallel-item::after {content: \"\";width: 100%;border-bottom: 1px solid gray;flex-grow: 1;}#sk-container-id-1 div.sk-label:hover label.sk-toggleable__label {background-color: #d4ebff;}#sk-container-id-1 div.sk-serial::before {content: \"\";position: absolute;border-left: 1px solid gray;box-sizing: border-box;top: 0;bottom: 0;left: 50%;z-index: 0;}#sk-container-id-1 div.sk-serial {display: flex;flex-direction: column;align-items: center;background-color: white;padding-right: 0.2em;padding-left: 0.2em;position: relative;}#sk-container-id-1 div.sk-item {position: relative;z-index: 1;}#sk-container-id-1 div.sk-parallel {display: flex;align-items: stretch;justify-content: center;background-color: white;position: relative;}#sk-container-id-1 div.sk-item::before, #sk-container-id-1 div.sk-parallel-item::before {content: \"\";position: absolute;border-left: 1px solid gray;box-sizing: border-box;top: 0;bottom: 0;left: 50%;z-index: -1;}#sk-container-id-1 div.sk-parallel-item {display: flex;flex-direction: column;z-index: 1;position: relative;background-color: white;}#sk-container-id-1 div.sk-parallel-item:first-child::after {align-self: flex-end;width: 50%;}#sk-container-id-1 div.sk-parallel-item:last-child::after {align-self: flex-start;width: 50%;}#sk-container-id-1 div.sk-parallel-item:only-child::after {width: 0;}#sk-container-id-1 div.sk-dashed-wrapped {border: 1px dashed gray;margin: 0 0.4em 0.5em 0.4em;box-sizing: border-box;padding-bottom: 0.4em;background-color: white;}#sk-container-id-1 div.sk-label label {font-family: monospace;font-weight: bold;display: inline-block;line-height: 1.2em;}#sk-container-id-1 div.sk-label-container {text-align: center;}#sk-container-id-1 div.sk-container {/* jupyter's `normalize.less` sets `[hidden] { display: none; }` but bootstrap.min.css set `[hidden] { display: none !important; }` so we also need the `!important` here to be able to override the default hidden behavior on the sphinx rendered scikit-learn.org. See: https://github.com/scikit-learn/scikit-learn/issues/21755 */display: inline-block !important;position: relative;}#sk-container-id-1 div.sk-text-repr-fallback {display: none;}</style><div id=\"sk-container-id-1\" class=\"sk-top-container\"><div class=\"sk-text-repr-fallback\"><pre>LogisticRegression(class_weight=&#x27;balanced&#x27;)</pre><b>In a Jupyter environment, please rerun this cell to show the HTML representation or trust the notebook. <br />On GitHub, the HTML representation is unable to render, please try loading this page with nbviewer.org.</b></div><div class=\"sk-container\" hidden><div class=\"sk-item\"><div class=\"sk-estimator sk-toggleable\"><input class=\"sk-toggleable__control sk-hidden--visually\" id=\"sk-estimator-id-1\" type=\"checkbox\" checked><label for=\"sk-estimator-id-1\" class=\"sk-toggleable__label sk-toggleable__label-arrow\">LogisticRegression</label><div class=\"sk-toggleable__content\"><pre>LogisticRegression(class_weight=&#x27;balanced&#x27;)</pre></div></div></div></div></div>"
      ],
      "text/plain": [
       "LogisticRegression(class_weight='balanced')"
      ]
     },
     "execution_count": 88,
     "metadata": {},
     "output_type": "execute_result"
    }
   ],
   "source": [
    "features = ['MES', 'DIANOM', 'TIPOVUELO', 'high_season', 'period_day', \n",
    "       'Des-I_cat', 'Emp-I_cat', 'SIGLADES_cat',    'OPERA_cat']\n",
    "\n",
    "logreg = LogisticRegression(class_weight='balanced')\n",
    "\n",
    "train_base_model(logreg,X_train, y_train, X_val, y_val,features)"
   ]
  },
  {
   "cell_type": "code",
   "execution_count": 97,
   "metadata": {},
   "outputs": [
    {
     "name": "stdout",
     "output_type": "stream",
     "text": [
      "Train data report\n",
      "              precision    recall  f1-score   support\n",
      "\n",
      "           0       0.88      0.63      0.73     35578\n",
      "           1       0.28      0.62      0.38      8073\n",
      "\n",
      "    accuracy                           0.63     43651\n",
      "   macro avg       0.58      0.63      0.56     43651\n",
      "weighted avg       0.77      0.63      0.67     43651\n",
      "\n",
      "Test data report\n",
      "              precision    recall  f1-score   support\n",
      "\n",
      "           0       0.88      0.63      0.73      8895\n",
      "           1       0.27      0.61      0.38      2018\n",
      "\n",
      "    accuracy                           0.62     10913\n",
      "   macro avg       0.57      0.62      0.55     10913\n",
      "weighted avg       0.76      0.62      0.66     10913\n",
      "\n"
     ]
    },
    {
     "data": {
      "image/png": "[encoded data removed]",
      "text/plain": [
       "<Figure size 640x480 with 2 Axes>"
      ]
     },
     "metadata": {},
     "output_type": "display_data"
    },
    {
     "data": {
      "text/plain": [
       "(LogisticRegression(class_weight='balanced'),\n",
       "        MES  DIANOM  TIPOVUELO  high_season  period_day  Des-I_woe  Emp-I_woe  \\\n",
       " 45845    1       1          1            0           0   0.292000  -0.098925   \n",
       " 30642    3       0          0            1           1  -0.269849  -0.098925   \n",
       " 4011     2       1          0            1           0  -0.260363  -0.098925   \n",
       " 46480    2       0          0            1           1  -0.106439  -0.098925   \n",
       " 9279     3       0          0            0           0  -0.260363  -0.098925   \n",
       " ...    ...     ...        ...          ...         ...        ...        ...   \n",
       " 6298     2       0          0            1           0  -0.523308  -0.098925   \n",
       " 420      3       0          0            0           0  -0.140231  -0.098925   \n",
       " 38183    3       1          1            0           0   0.333014  -0.113440   \n",
       " 45600    3       0          0            1           0  -0.232587  -0.098925   \n",
       " 53613    1       0          0            0           0  -0.140231  -0.098925   \n",
       " \n",
       "        Des-O_woe  Emp-O_woe  SIGLADES_woe  OPERA_woe  Des-I_cat  Emp-I_cat  \\\n",
       " 45845   0.292000  -0.029332      0.292000  -0.047846   0.184944   0.184944   \n",
       " 30642  -0.269849  -0.029332     -0.269849  -0.047846   0.184944   0.092472   \n",
       " 4011   -0.258445  -0.282428     -0.258445  -0.047846   0.184944   0.061648   \n",
       " 46480  -0.108976  -0.282428     -0.108976  -0.047846   0.184944   0.046236   \n",
       " 9279   -0.258445  -0.282428     -0.258445  -0.047846   0.092472   0.036989   \n",
       " ...          ...        ...           ...        ...        ...        ...   \n",
       " 6298   -0.523653  -0.029332     -0.523653  -0.047846   0.118365   0.170523   \n",
       " 420    -0.140231  -0.282428     -0.140231  -0.047846   0.164554   0.170516   \n",
       " 38183   0.333590  -0.113440      0.333590  -0.113440   0.240344   0.165851   \n",
       " 45600  -0.232587  -0.282428     -0.232587  -0.047846   0.151398   0.170509   \n",
       " 53613  -0.140231  -0.282428     -0.140231  -0.047846   0.164449   0.170502   \n",
       " \n",
       "        Des-O_cat  Emp-O_cat  SIGLADES_cat  OPERA_cat  \n",
       " 45845   0.184944   0.184944      0.184944   0.184944  \n",
       " 30642   0.184944   0.092472      0.184944   0.092472  \n",
       " 4011    0.184944   0.184944      0.184944   0.061648  \n",
       " 46480   0.184944   0.092472      0.184944   0.046236  \n",
       " 9279    0.092472   0.061648      0.092472   0.036989  \n",
       " ...          ...        ...           ...        ...  \n",
       " 6298    0.118329   0.180558      0.118329   0.177871  \n",
       " 420     0.164554   0.146086      0.164554   0.177864  \n",
       " 38183   0.240449   0.165851      0.240449   0.165851  \n",
       " 45600   0.151398   0.146070      0.151398   0.177858  \n",
       " 53613   0.164449   0.146055      0.164449   0.177851  \n",
       " \n",
       " [43651 rows x 17 columns],\n",
       " 45845    0\n",
       " 30642    0\n",
       " 4011     0\n",
       " 46480    0\n",
       " 9279     0\n",
       "         ..\n",
       " 6298     0\n",
       " 420      0\n",
       " 38183    0\n",
       " 45600    0\n",
       " 53613    0\n",
       " Name: delay_15, Length: 43651, dtype: int64,\n",
       "        MES  DIANOM  TIPOVUELO  high_season  period_day  Des-I_woe  Emp-I_woe  \\\n",
       " 29634    2       0          1            1           0   0.292000   0.413077   \n",
       " 6123     3       0          0            1           0  -0.231964  -0.098925   \n",
       " 29207    3       0          1            0           1   0.292000   1.207471   \n",
       " 29873    1       0          0            0           0  -0.523308  -0.098925   \n",
       " 34967    1       0          1            0           1   0.497139  -0.098925   \n",
       " ...    ...     ...        ...          ...         ...        ...        ...   \n",
       " 22201    3       1          0            0           0  -0.138506  -0.098925   \n",
       " 45482    3       1          0            0           1  -0.523308  -0.098925   \n",
       " 43638    1       1          0            0           0  -0.169189   0.615510   \n",
       " 50767    3       0          0            1           1  -0.106439  -0.098925   \n",
       " 6325     2       0          1            0           1   0.333014   0.413077   \n",
       " \n",
       "        Des-O_woe  Emp-O_woe  SIGLADES_woe  OPERA_woe  Des-I_cat  Emp-I_cat  \\\n",
       " 29634   0.292000   0.411779      0.292000  -0.047846   0.232907   0.255134   \n",
       " 6123   -0.231646  -0.029332     -0.231646  -0.047846   0.152341   0.170495   \n",
       " 29207   0.292000   1.160083      0.292000   1.170368   0.232907   0.431167   \n",
       " 29873  -0.523653  -0.282428     -0.523653  -0.047846   0.118329   0.170495   \n",
       " 34967   0.492295  -0.029332      0.389667  -0.047846   0.271457   0.170495   \n",
       " ...          ...        ...           ...        ...        ...        ...   \n",
       " 22201  -0.138506  -0.282428     -0.138506  -0.047846   0.164724   0.170495   \n",
       " 45482  -0.523653  -0.029332     -0.523653  -0.047846   0.118329   0.170495   \n",
       " 43638  -0.169189   1.160083     -0.169189   1.170368   0.160556   0.288356   \n",
       " 50767  -0.108976  -0.282428     -0.108976  -0.047846   0.169231   0.170495   \n",
       " 6325    0.333590   0.411779      0.333590  -0.047846   0.240238   0.255134   \n",
       " \n",
       "        Des-O_cat  Emp-O_cat  SIGLADES_cat  OPERA_cat  \n",
       " 29634   0.232907   0.254886      0.232907   0.177844  \n",
       " 6123    0.152382   0.180544      0.152382   0.177844  \n",
       " 29207   0.232907   0.419590      0.232907   0.422105  \n",
       " 29873   0.118293   0.146039      0.118293   0.177844  \n",
       " 34967   0.270498   0.180544      0.250850   0.177844  \n",
       " ...          ...        ...           ...        ...  \n",
       " 22201   0.164724   0.146039      0.164724   0.177844  \n",
       " 45482   0.118293   0.180544      0.118293   0.177844  \n",
       " 43638   0.160556   0.419590      0.160556   0.422105  \n",
       " 50767   0.168874   0.146039      0.168874   0.177844  \n",
       " 6325    0.240344   0.254886      0.240344   0.177844  \n",
       " \n",
       " [10913 rows x 17 columns],\n",
       " 29634    0\n",
       " 6123     1\n",
       " 29207    0\n",
       " 29873    0\n",
       " 34967    0\n",
       "         ..\n",
       " 22201    0\n",
       " 45482    0\n",
       " 43638    0\n",
       " 50767    1\n",
       " 6325     1\n",
       " Name: delay_15, Length: 10913, dtype: int64,\n",
       " ['MES',\n",
       "  'DIANOM',\n",
       "  'TIPOVUELO',\n",
       "  'high_season',\n",
       "  'period_day',\n",
       "  'Des-I_woe',\n",
       "  'Emp-I_woe',\n",
       "  'SIGLADES_woe',\n",
       "  'OPERA_woe'])"
      ]
     },
     "execution_count": 97,
     "metadata": {},
     "output_type": "execute_result"
    }
   ],
   "source": [
    "features = ['MES', 'DIANOM', 'TIPOVUELO', 'high_season', 'period_day', \n",
    "       'Des-I_woe', 'Emp-I_woe', 'SIGLADES_woe',    'OPERA_woe']\n",
    "\n",
    "logreg = LogisticRegression(class_weight='balanced')\n",
    "\n",
    "train_base_model(logreg,X_train, y_train, X_val, y_val,features)\n",
    "(logreg,X_train, y_train, X_val, y_val,features)"
   ]
  },
  {
   "cell_type": "code",
   "execution_count": null,
   "metadata": {},
   "outputs": [],
   "source": [
    "# really no better \n",
    "\n"
   ]
  },
  {
   "cell_type": "code",
   "execution_count": 89,
   "metadata": {},
   "outputs": [],
   "source": [
    "# create a lgbm classifier with balanced class weights \n",
    "# create a lgbm classifier with balanced class weights\n",
    "lgbm = LGBMClassifier(class_weight='balanced', random_state=0)\n"
   ]
  },
  {
   "cell_type": "code",
   "execution_count": 98,
   "metadata": {},
   "outputs": [
    {
     "name": "stdout",
     "output_type": "stream",
     "text": [
      "Train data report\n",
      "              precision    recall  f1-score   support\n",
      "\n",
      "           0       0.90      0.64      0.75     35578\n",
      "           1       0.30      0.68      0.41      8073\n",
      "\n",
      "    accuracy                           0.65     43651\n",
      "   macro avg       0.60      0.66      0.58     43651\n",
      "weighted avg       0.79      0.65      0.68     43651\n",
      "\n",
      "Test data report\n",
      "              precision    recall  f1-score   support\n",
      "\n",
      "           0       0.88      0.63      0.73      8895\n",
      "           1       0.28      0.64      0.39      2018\n",
      "\n",
      "    accuracy                           0.63     10913\n",
      "   macro avg       0.58      0.63      0.56     10913\n",
      "weighted avg       0.77      0.63      0.67     10913\n",
      "\n"
     ]
    },
    {
     "data": {
      "image/png": "[encoded data removed]",
      "text/plain": [
       "<Figure size 640x480 with 2 Axes>"
      ]
     },
     "metadata": {},
     "output_type": "display_data"
    },
    {
     "data": {
      "text/html": [
       "<style>#sk-container-id-3 {color: black;background-color: white;}#sk-container-id-3 pre{padding: 0;}#sk-container-id-3 div.sk-toggleable {background-color: white;}#sk-container-id-3 label.sk-toggleable__label {cursor: pointer;display: block;width: 100%;margin-bottom: 0;padding: 0.3em;box-sizing: border-box;text-align: center;}#sk-container-id-3 label.sk-toggleable__label-arrow:before {content: \"▸\";float: left;margin-right: 0.25em;color: #696969;}#sk-container-id-3 label.sk-toggleable__label-arrow:hover:before {color: black;}#sk-container-id-3 div.sk-estimator:hover label.sk-toggleable__label-arrow:before {color: black;}#sk-container-id-3 div.sk-toggleable__content {max-height: 0;max-width: 0;overflow: hidden;text-align: left;background-color: #f0f8ff;}#sk-container-id-3 div.sk-toggleable__content pre {margin: 0.2em;color: black;border-radius: 0.25em;background-color: #f0f8ff;}#sk-container-id-3 input.sk-toggleable__control:checked~div.sk-toggleable__content {max-height: 200px;max-width: 100%;overflow: auto;}#sk-container-id-3 input.sk-toggleable__control:checked~label.sk-toggleable__label-arrow:before {content: \"▾\";}#sk-container-id-3 div.sk-estimator input.sk-toggleable__control:checked~label.sk-toggleable__label {background-color: #d4ebff;}#sk-container-id-3 div.sk-label input.sk-toggleable__control:checked~label.sk-toggleable__label {background-color: #d4ebff;}#sk-container-id-3 input.sk-hidden--visually {border: 0;clip: rect(1px 1px 1px 1px);clip: rect(1px, 1px, 1px, 1px);height: 1px;margin: -1px;overflow: hidden;padding: 0;position: absolute;width: 1px;}#sk-container-id-3 div.sk-estimator {font-family: monospace;background-color: #f0f8ff;border: 1px dotted black;border-radius: 0.25em;box-sizing: border-box;margin-bottom: 0.5em;}#sk-container-id-3 div.sk-estimator:hover {background-color: #d4ebff;}#sk-container-id-3 div.sk-parallel-item::after {content: \"\";width: 100%;border-bottom: 1px solid gray;flex-grow: 1;}#sk-container-id-3 div.sk-label:hover label.sk-toggleable__label {background-color: #d4ebff;}#sk-container-id-3 div.sk-serial::before {content: \"\";position: absolute;border-left: 1px solid gray;box-sizing: border-box;top: 0;bottom: 0;left: 50%;z-index: 0;}#sk-container-id-3 div.sk-serial {display: flex;flex-direction: column;align-items: center;background-color: white;padding-right: 0.2em;padding-left: 0.2em;position: relative;}#sk-container-id-3 div.sk-item {position: relative;z-index: 1;}#sk-container-id-3 div.sk-parallel {display: flex;align-items: stretch;justify-content: center;background-color: white;position: relative;}#sk-container-id-3 div.sk-item::before, #sk-container-id-3 div.sk-parallel-item::before {content: \"\";position: absolute;border-left: 1px solid gray;box-sizing: border-box;top: 0;bottom: 0;left: 50%;z-index: -1;}#sk-container-id-3 div.sk-parallel-item {display: flex;flex-direction: column;z-index: 1;position: relative;background-color: white;}#sk-container-id-3 div.sk-parallel-item:first-child::after {align-self: flex-end;width: 50%;}#sk-container-id-3 div.sk-parallel-item:last-child::after {align-self: flex-start;width: 50%;}#sk-container-id-3 div.sk-parallel-item:only-child::after {width: 0;}#sk-container-id-3 div.sk-dashed-wrapped {border: 1px dashed gray;margin: 0 0.4em 0.5em 0.4em;box-sizing: border-box;padding-bottom: 0.4em;background-color: white;}#sk-container-id-3 div.sk-label label {font-family: monospace;font-weight: bold;display: inline-block;line-height: 1.2em;}#sk-container-id-3 div.sk-label-container {text-align: center;}#sk-container-id-3 div.sk-container {/* jupyter's `normalize.less` sets `[hidden] { display: none; }` but bootstrap.min.css set `[hidden] { display: none !important; }` so we also need the `!important` here to be able to override the default hidden behavior on the sphinx rendered scikit-learn.org. See: https://github.com/scikit-learn/scikit-learn/issues/21755 */display: inline-block !important;position: relative;}#sk-container-id-3 div.sk-text-repr-fallback {display: none;}</style><div id=\"sk-container-id-3\" class=\"sk-top-container\"><div class=\"sk-text-repr-fallback\"><pre>LGBMClassifier(class_weight=&#x27;balanced&#x27;, random_state=0)</pre><b>In a Jupyter environment, please rerun this cell to show the HTML representation or trust the notebook. <br />On GitHub, the HTML representation is unable to render, please try loading this page with nbviewer.org.</b></div><div class=\"sk-container\" hidden><div class=\"sk-item\"><div class=\"sk-estimator sk-toggleable\"><input class=\"sk-toggleable__control sk-hidden--visually\" id=\"sk-estimator-id-5\" type=\"checkbox\" checked><label for=\"sk-estimator-id-5\" class=\"sk-toggleable__label sk-toggleable__label-arrow\">LGBMClassifier</label><div class=\"sk-toggleable__content\"><pre>LGBMClassifier(class_weight=&#x27;balanced&#x27;, random_state=0)</pre></div></div></div></div></div>"
      ],
      "text/plain": [
       "LGBMClassifier(class_weight='balanced', random_state=0)"
      ]
     },
     "execution_count": 98,
     "metadata": {},
     "output_type": "execute_result"
    }
   ],
   "source": [
    "\n",
    "train_base_model(lgbm,X_train, y_train, X_val, y_val,features)"
   ]
  },
  {
   "cell_type": "code",
   "execution_count": null,
   "metadata": {},
   "outputs": [],
   "source": [
    "\n",
    "# slightly better "
   ]
  },
  {
   "cell_type": "code",
   "execution_count": 91,
   "metadata": {},
   "outputs": [
    {
     "data": {
      "text/html": [
       "<style>#sk-container-id-2 {color: black;background-color: white;}#sk-container-id-2 pre{padding: 0;}#sk-container-id-2 div.sk-toggleable {background-color: white;}#sk-container-id-2 label.sk-toggleable__label {cursor: pointer;display: block;width: 100%;margin-bottom: 0;padding: 0.3em;box-sizing: border-box;text-align: center;}#sk-container-id-2 label.sk-toggleable__label-arrow:before {content: \"▸\";float: left;margin-right: 0.25em;color: #696969;}#sk-container-id-2 label.sk-toggleable__label-arrow:hover:before {color: black;}#sk-container-id-2 div.sk-estimator:hover label.sk-toggleable__label-arrow:before {color: black;}#sk-container-id-2 div.sk-toggleable__content {max-height: 0;max-width: 0;overflow: hidden;text-align: left;background-color: #f0f8ff;}#sk-container-id-2 div.sk-toggleable__content pre {margin: 0.2em;color: black;border-radius: 0.25em;background-color: #f0f8ff;}#sk-container-id-2 input.sk-toggleable__control:checked~div.sk-toggleable__content {max-height: 200px;max-width: 100%;overflow: auto;}#sk-container-id-2 input.sk-toggleable__control:checked~label.sk-toggleable__label-arrow:before {content: \"▾\";}#sk-container-id-2 div.sk-estimator input.sk-toggleable__control:checked~label.sk-toggleable__label {background-color: #d4ebff;}#sk-container-id-2 div.sk-label input.sk-toggleable__control:checked~label.sk-toggleable__label {background-color: #d4ebff;}#sk-container-id-2 input.sk-hidden--visually {border: 0;clip: rect(1px 1px 1px 1px);clip: rect(1px, 1px, 1px, 1px);height: 1px;margin: -1px;overflow: hidden;padding: 0;position: absolute;width: 1px;}#sk-container-id-2 div.sk-estimator {font-family: monospace;background-color: #f0f8ff;border: 1px dotted black;border-radius: 0.25em;box-sizing: border-box;margin-bottom: 0.5em;}#sk-container-id-2 div.sk-estimator:hover {background-color: #d4ebff;}#sk-container-id-2 div.sk-parallel-item::after {content: \"\";width: 100%;border-bottom: 1px solid gray;flex-grow: 1;}#sk-container-id-2 div.sk-label:hover label.sk-toggleable__label {background-color: #d4ebff;}#sk-container-id-2 div.sk-serial::before {content: \"\";position: absolute;border-left: 1px solid gray;box-sizing: border-box;top: 0;bottom: 0;left: 50%;z-index: 0;}#sk-container-id-2 div.sk-serial {display: flex;flex-direction: column;align-items: center;background-color: white;padding-right: 0.2em;padding-left: 0.2em;position: relative;}#sk-container-id-2 div.sk-item {position: relative;z-index: 1;}#sk-container-id-2 div.sk-parallel {display: flex;align-items: stretch;justify-content: center;background-color: white;position: relative;}#sk-container-id-2 div.sk-item::before, #sk-container-id-2 div.sk-parallel-item::before {content: \"\";position: absolute;border-left: 1px solid gray;box-sizing: border-box;top: 0;bottom: 0;left: 50%;z-index: -1;}#sk-container-id-2 div.sk-parallel-item {display: flex;flex-direction: column;z-index: 1;position: relative;background-color: white;}#sk-container-id-2 div.sk-parallel-item:first-child::after {align-self: flex-end;width: 50%;}#sk-container-id-2 div.sk-parallel-item:last-child::after {align-self: flex-start;width: 50%;}#sk-container-id-2 div.sk-parallel-item:only-child::after {width: 0;}#sk-container-id-2 div.sk-dashed-wrapped {border: 1px dashed gray;margin: 0 0.4em 0.5em 0.4em;box-sizing: border-box;padding-bottom: 0.4em;background-color: white;}#sk-container-id-2 div.sk-label label {font-family: monospace;font-weight: bold;display: inline-block;line-height: 1.2em;}#sk-container-id-2 div.sk-label-container {text-align: center;}#sk-container-id-2 div.sk-container {/* jupyter's `normalize.less` sets `[hidden] { display: none; }` but bootstrap.min.css set `[hidden] { display: none !important; }` so we also need the `!important` here to be able to override the default hidden behavior on the sphinx rendered scikit-learn.org. See: https://github.com/scikit-learn/scikit-learn/issues/21755 */display: inline-block !important;position: relative;}#sk-container-id-2 div.sk-text-repr-fallback {display: none;}</style><div id=\"sk-container-id-2\" class=\"sk-top-container\"><div class=\"sk-text-repr-fallback\"><pre>RandomizedSearchCV(cv=3,\n",
       "                   estimator=LGBMClassifier(class_weight=&#x27;balanced&#x27;,\n",
       "                                            random_state=0),\n",
       "                   n_iter=50, n_jobs=-1,\n",
       "                   param_distributions={&#x27;colsample_bytree&#x27;: &lt;scipy.stats._distn_infrastructure.rv_continuous_frozen object at 0x7f3f9d01eaa0&gt;,\n",
       "                                        &#x27;learning_rate&#x27;: &lt;scipy.stats._distn_infrastructure.rv_continuous_frozen object at 0x7f3f9d01d6f0&gt;,\n",
       "                                        &#x27;max_depth&#x27;: &lt;scipy.stats._d...\n",
       "                                        &#x27;min_child_samples&#x27;: &lt;scipy.stats._distn_infrastructure.rv_discrete_frozen object at 0x7f3f9d01cc70&gt;,\n",
       "                                        &#x27;n_estimators&#x27;: &lt;scipy.stats._distn_infrastructure.rv_discrete_frozen object at 0x7f3f9cfa7eb0&gt;,\n",
       "                                        &#x27;num_leaves&#x27;: &lt;scipy.stats._distn_infrastructure.rv_discrete_frozen object at 0x7f3f9cfc1de0&gt;,\n",
       "                                        &#x27;subsample&#x27;: &lt;scipy.stats._distn_infrastructure.rv_continuous_frozen object at 0x7f3f9d01d780&gt;},\n",
       "                   random_state=0, scoring=&#x27;f1&#x27;)</pre><b>In a Jupyter environment, please rerun this cell to show the HTML representation or trust the notebook. <br />On GitHub, the HTML representation is unable to render, please try loading this page with nbviewer.org.</b></div><div class=\"sk-container\" hidden><div class=\"sk-item sk-dashed-wrapped\"><div class=\"sk-label-container\"><div class=\"sk-label sk-toggleable\"><input class=\"sk-toggleable__control sk-hidden--visually\" id=\"sk-estimator-id-2\" type=\"checkbox\" ><label for=\"sk-estimator-id-2\" class=\"sk-toggleable__label sk-toggleable__label-arrow\">RandomizedSearchCV</label><div class=\"sk-toggleable__content\"><pre>RandomizedSearchCV(cv=3,\n",
       "                   estimator=LGBMClassifier(class_weight=&#x27;balanced&#x27;,\n",
       "                                            random_state=0),\n",
       "                   n_iter=50, n_jobs=-1,\n",
       "                   param_distributions={&#x27;colsample_bytree&#x27;: &lt;scipy.stats._distn_infrastructure.rv_continuous_frozen object at 0x7f3f9d01eaa0&gt;,\n",
       "                                        &#x27;learning_rate&#x27;: &lt;scipy.stats._distn_infrastructure.rv_continuous_frozen object at 0x7f3f9d01d6f0&gt;,\n",
       "                                        &#x27;max_depth&#x27;: &lt;scipy.stats._d...\n",
       "                                        &#x27;min_child_samples&#x27;: &lt;scipy.stats._distn_infrastructure.rv_discrete_frozen object at 0x7f3f9d01cc70&gt;,\n",
       "                                        &#x27;n_estimators&#x27;: &lt;scipy.stats._distn_infrastructure.rv_discrete_frozen object at 0x7f3f9cfa7eb0&gt;,\n",
       "                                        &#x27;num_leaves&#x27;: &lt;scipy.stats._distn_infrastructure.rv_discrete_frozen object at 0x7f3f9cfc1de0&gt;,\n",
       "                                        &#x27;subsample&#x27;: &lt;scipy.stats._distn_infrastructure.rv_continuous_frozen object at 0x7f3f9d01d780&gt;},\n",
       "                   random_state=0, scoring=&#x27;f1&#x27;)</pre></div></div></div><div class=\"sk-parallel\"><div class=\"sk-parallel-item\"><div class=\"sk-item\"><div class=\"sk-label-container\"><div class=\"sk-label sk-toggleable\"><input class=\"sk-toggleable__control sk-hidden--visually\" id=\"sk-estimator-id-3\" type=\"checkbox\" ><label for=\"sk-estimator-id-3\" class=\"sk-toggleable__label sk-toggleable__label-arrow\">estimator: LGBMClassifier</label><div class=\"sk-toggleable__content\"><pre>LGBMClassifier(class_weight=&#x27;balanced&#x27;, random_state=0)</pre></div></div></div><div class=\"sk-serial\"><div class=\"sk-item\"><div class=\"sk-estimator sk-toggleable\"><input class=\"sk-toggleable__control sk-hidden--visually\" id=\"sk-estimator-id-4\" type=\"checkbox\" ><label for=\"sk-estimator-id-4\" class=\"sk-toggleable__label sk-toggleable__label-arrow\">LGBMClassifier</label><div class=\"sk-toggleable__content\"><pre>LGBMClassifier(class_weight=&#x27;balanced&#x27;, random_state=0)</pre></div></div></div></div></div></div></div></div></div></div>"
      ],
      "text/plain": [
       "RandomizedSearchCV(cv=3,\n",
       "                   estimator=LGBMClassifier(class_weight='balanced',\n",
       "                                            random_state=0),\n",
       "                   n_iter=50, n_jobs=-1,\n",
       "                   param_distributions={'colsample_bytree': <scipy.stats._distn_infrastructure.rv_continuous_frozen object at 0x7f3f9d01eaa0>,\n",
       "                                        'learning_rate': <scipy.stats._distn_infrastructure.rv_continuous_frozen object at 0x7f3f9d01d6f0>,\n",
       "                                        'max_depth': <scipy.stats._d...\n",
       "                                        'min_child_samples': <scipy.stats._distn_infrastructure.rv_discrete_frozen object at 0x7f3f9d01cc70>,\n",
       "                                        'n_estimators': <scipy.stats._distn_infrastructure.rv_discrete_frozen object at 0x7f3f9cfa7eb0>,\n",
       "                                        'num_leaves': <scipy.stats._distn_infrastructure.rv_discrete_frozen object at 0x7f3f9cfc1de0>,\n",
       "                                        'subsample': <scipy.stats._distn_infrastructure.rv_continuous_frozen object at 0x7f3f9d01d780>},\n",
       "                   random_state=0, scoring='f1')"
      ]
     },
     "execution_count": 91,
     "metadata": {},
     "output_type": "execute_result"
    }
   ],
   "source": [
    "# optimize the hyperparameters of the lgbm classifier \n",
    "\n",
    "\n",
    "# define the parameter space\n",
    "param_space = { 'n_estimators': sp_randint(50, 200),\n",
    "                'max_depth': sp_randint(3, 5), \n",
    "                'num_leaves': sp_randint(6, 20),\n",
    "                'learning_rate': sp_uniform(loc=0.01, scale=0.2),\n",
    "                'subsample': sp_uniform(loc=0.2, scale=0.8),\n",
    "                'colsample_bytree': sp_uniform(loc=0.4, scale=0.6),\n",
    "                'min_child_samples': sp_randint(10, 50)\n",
    "                }\n",
    "\n",
    "# create the classifier\n",
    "\n",
    "lgbm = LGBMClassifier(class_weight='balanced', random_state=0)\n",
    "\n",
    "# create the random search\n",
    "random_search = RandomizedSearchCV(lgbm, param_distributions=param_space, n_iter=50,\n",
    "                                      scoring='f1', n_jobs=-1, cv=3, random_state=0)    \n",
    "\n",
    "# run the random search\n",
    "random_search.fit(X_train, y_train)\n"
   ]
  },
  {
   "cell_type": "code",
   "execution_count": 101,
   "metadata": {},
   "outputs": [
    {
     "name": "stdout",
     "output_type": "stream",
     "text": [
      "Best F1 score:  0.38737311577983763\n",
      "Best parameters:  {'colsample_bytree': 0.6937293621346563, 'learning_rate': 0.07779702335595565, 'max_depth': 4, 'min_child_samples': 46, 'n_estimators': 50, 'num_leaves': 17, 'subsample': 0.5707607819075864}\n"
     ]
    }
   ],
   "source": [
    "# show the metric of the best model\n",
    "print('Best F1 score: ', random_search.best_score_)\n",
    "print('Best parameters: ', random_search.best_params_)\n",
    "# Best F1 score:  0.9999999999999999\n",
    "\n",
    "\n",
    "# assign the best model to the variable model \n",
    "model = random_search.best_estimator_\n"
   ]
  },
  {
   "cell_type": "code",
   "execution_count": null,
   "metadata": {},
   "outputs": [],
   "source": []
  },
  {
   "cell_type": "code",
   "execution_count": 102,
   "metadata": {},
   "outputs": [
    {
     "name": "stdout",
     "output_type": "stream",
     "text": [
      "Train data report\n",
      "              precision    recall  f1-score   support\n",
      "\n",
      "           0       0.89      0.61      0.72     35578\n",
      "           1       0.28      0.67      0.39      8073\n",
      "\n",
      "    accuracy                           0.62     43651\n",
      "   macro avg       0.58      0.64      0.56     43651\n",
      "weighted avg       0.78      0.62      0.66     43651\n",
      "\n",
      "Test data report\n",
      "              precision    recall  f1-score   support\n",
      "\n",
      "           0       0.88      0.60      0.71      8895\n",
      "           1       0.27      0.65      0.38      2018\n",
      "\n",
      "    accuracy                           0.61     10913\n",
      "   macro avg       0.58      0.63      0.55     10913\n",
      "weighted avg       0.77      0.61      0.65     10913\n",
      "\n"
     ]
    },
    {
     "data": {
      "image/png": "[encoded data removed]",
      "text/plain": [
       "<Figure size 640x480 with 2 Axes>"
      ]
     },
     "metadata": {},
     "output_type": "display_data"
    },
    {
     "data": {
      "text/html": [
       "<style>#sk-container-id-5 {color: black;background-color: white;}#sk-container-id-5 pre{padding: 0;}#sk-container-id-5 div.sk-toggleable {background-color: white;}#sk-container-id-5 label.sk-toggleable__label {cursor: pointer;display: block;width: 100%;margin-bottom: 0;padding: 0.3em;box-sizing: border-box;text-align: center;}#sk-container-id-5 label.sk-toggleable__label-arrow:before {content: \"▸\";float: left;margin-right: 0.25em;color: #696969;}#sk-container-id-5 label.sk-toggleable__label-arrow:hover:before {color: black;}#sk-container-id-5 div.sk-estimator:hover label.sk-toggleable__label-arrow:before {color: black;}#sk-container-id-5 div.sk-toggleable__content {max-height: 0;max-width: 0;overflow: hidden;text-align: left;background-color: #f0f8ff;}#sk-container-id-5 div.sk-toggleable__content pre {margin: 0.2em;color: black;border-radius: 0.25em;background-color: #f0f8ff;}#sk-container-id-5 input.sk-toggleable__control:checked~div.sk-toggleable__content {max-height: 200px;max-width: 100%;overflow: auto;}#sk-container-id-5 input.sk-toggleable__control:checked~label.sk-toggleable__label-arrow:before {content: \"▾\";}#sk-container-id-5 div.sk-estimator input.sk-toggleable__control:checked~label.sk-toggleable__label {background-color: #d4ebff;}#sk-container-id-5 div.sk-label input.sk-toggleable__control:checked~label.sk-toggleable__label {background-color: #d4ebff;}#sk-container-id-5 input.sk-hidden--visually {border: 0;clip: rect(1px 1px 1px 1px);clip: rect(1px, 1px, 1px, 1px);height: 1px;margin: -1px;overflow: hidden;padding: 0;position: absolute;width: 1px;}#sk-container-id-5 div.sk-estimator {font-family: monospace;background-color: #f0f8ff;border: 1px dotted black;border-radius: 0.25em;box-sizing: border-box;margin-bottom: 0.5em;}#sk-container-id-5 div.sk-estimator:hover {background-color: #d4ebff;}#sk-container-id-5 div.sk-parallel-item::after {content: \"\";width: 100%;border-bottom: 1px solid gray;flex-grow: 1;}#sk-container-id-5 div.sk-label:hover label.sk-toggleable__label {background-color: #d4ebff;}#sk-container-id-5 div.sk-serial::before {content: \"\";position: absolute;border-left: 1px solid gray;box-sizing: border-box;top: 0;bottom: 0;left: 50%;z-index: 0;}#sk-container-id-5 div.sk-serial {display: flex;flex-direction: column;align-items: center;background-color: white;padding-right: 0.2em;padding-left: 0.2em;position: relative;}#sk-container-id-5 div.sk-item {position: relative;z-index: 1;}#sk-container-id-5 div.sk-parallel {display: flex;align-items: stretch;justify-content: center;background-color: white;position: relative;}#sk-container-id-5 div.sk-item::before, #sk-container-id-5 div.sk-parallel-item::before {content: \"\";position: absolute;border-left: 1px solid gray;box-sizing: border-box;top: 0;bottom: 0;left: 50%;z-index: -1;}#sk-container-id-5 div.sk-parallel-item {display: flex;flex-direction: column;z-index: 1;position: relative;background-color: white;}#sk-container-id-5 div.sk-parallel-item:first-child::after {align-self: flex-end;width: 50%;}#sk-container-id-5 div.sk-parallel-item:last-child::after {align-self: flex-start;width: 50%;}#sk-container-id-5 div.sk-parallel-item:only-child::after {width: 0;}#sk-container-id-5 div.sk-dashed-wrapped {border: 1px dashed gray;margin: 0 0.4em 0.5em 0.4em;box-sizing: border-box;padding-bottom: 0.4em;background-color: white;}#sk-container-id-5 div.sk-label label {font-family: monospace;font-weight: bold;display: inline-block;line-height: 1.2em;}#sk-container-id-5 div.sk-label-container {text-align: center;}#sk-container-id-5 div.sk-container {/* jupyter's `normalize.less` sets `[hidden] { display: none; }` but bootstrap.min.css set `[hidden] { display: none !important; }` so we also need the `!important` here to be able to override the default hidden behavior on the sphinx rendered scikit-learn.org. See: https://github.com/scikit-learn/scikit-learn/issues/21755 */display: inline-block !important;position: relative;}#sk-container-id-5 div.sk-text-repr-fallback {display: none;}</style><div id=\"sk-container-id-5\" class=\"sk-top-container\"><div class=\"sk-text-repr-fallback\"><pre>LGBMClassifier(class_weight=&#x27;balanced&#x27;, colsample_bytree=0.6937293621346563,\n",
       "               learning_rate=0.07779702335595565, max_depth=4,\n",
       "               min_child_samples=46, n_estimators=50, num_leaves=17,\n",
       "               random_state=0, subsample=0.5707607819075864)</pre><b>In a Jupyter environment, please rerun this cell to show the HTML representation or trust the notebook. <br />On GitHub, the HTML representation is unable to render, please try loading this page with nbviewer.org.</b></div><div class=\"sk-container\" hidden><div class=\"sk-item\"><div class=\"sk-estimator sk-toggleable\"><input class=\"sk-toggleable__control sk-hidden--visually\" id=\"sk-estimator-id-7\" type=\"checkbox\" checked><label for=\"sk-estimator-id-7\" class=\"sk-toggleable__label sk-toggleable__label-arrow\">LGBMClassifier</label><div class=\"sk-toggleable__content\"><pre>LGBMClassifier(class_weight=&#x27;balanced&#x27;, colsample_bytree=0.6937293621346563,\n",
       "               learning_rate=0.07779702335595565, max_depth=4,\n",
       "               min_child_samples=46, n_estimators=50, num_leaves=17,\n",
       "               random_state=0, subsample=0.5707607819075864)</pre></div></div></div></div></div>"
      ],
      "text/plain": [
       "LGBMClassifier(class_weight='balanced', colsample_bytree=0.6937293621346563,\n",
       "               learning_rate=0.07779702335595565, max_depth=4,\n",
       "               min_child_samples=46, n_estimators=50, num_leaves=17,\n",
       "               random_state=0, subsample=0.5707607819075864)"
      ]
     },
     "execution_count": 102,
     "metadata": {},
     "output_type": "execute_result"
    }
   ],
   "source": [
    "train_base_model(model,X_train, y_train, X_val, y_val,features)"
   ]
  },
  {
   "cell_type": "code",
   "execution_count": 105,
   "metadata": {},
   "outputs": [
    {
     "data": {
      "text/plain": [
       "<AxesSubplot: title={'center': 'Feature importance'}, xlabel='Feature importance', ylabel='Features'>"
      ]
     },
     "execution_count": 105,
     "metadata": {},
     "output_type": "execute_result"
    },
    {
     "data": {
      "image/png": "[encoded data removed]",
      "text/plain": [
       "<Figure size 1000x1000 with 1 Axes>"
      ]
     },
     "metadata": {},
     "output_type": "display_data"
    }
   ],
   "source": [
    "import lightgbm \n",
    "lightgbm.plot_importance(model, max_num_features=10, figsize=(10, 10))\n"
   ]
  },
  {
   "attachments": {},
   "cell_type": "markdown",
   "metadata": {},
   "source": [
    "# not much better the problem is in the encoding of the features "
   ]
  },
  {
   "cell_type": "code",
   "execution_count": null,
   "metadata": {},
   "outputs": [],
   "source": [
    "# lets look into it "
   ]
  },
  {
   "cell_type": "code",
   "execution_count": 125,
   "metadata": {},
   "outputs": [
    {
     "data": {
      "text/plain": [
       "1"
      ]
     },
     "execution_count": 125,
     "metadata": {},
     "output_type": "execute_result"
    }
   ],
   "source": [
    "\n",
    "airlines = {\"Copa Air\": 1,\n",
    "            \"American Airlines\": 1,\n",
    "            \"Iberia\": 1,\n",
    "            \"Delta Air\": 1,\n",
    "            \"Aeromexico\": 1,\n",
    "            \"United Airlines\": 1,\n",
    "            \"Alitalia\": 1,\n",
    "            \"Latin American Wings\": 3,\n",
    "            \"Gol Trans\": 3}\n",
    "\n",
    "# Create the default dictionary with the default value of 2\n",
    "airlines_dict = defaultdict(lambda: 2)\n",
    "\n",
    "for k,v in airlines.items():\n",
    "    airlines_dict[k] = v\n",
    "    \n",
    "\n",
    "\n",
    "airlines_dict['Copa Air']"
   ]
  },
  {
   "cell_type": "code",
   "execution_count": 126,
   "metadata": {},
   "outputs": [],
   "source": [
    "dest = {\"Ciudad de Panama\":1,\n",
    "\"Calama\":2,\n",
    "\"Antofagasta\":3,\n",
    "\"Concepcion\":3,\n",
    "\"Iquique\":3,\n",
    "\"Temuco\":3,\n",
    "\"Arica\":3,\n",
    "\"La Serena\":3,\n",
    "\"Copiapo\":3,\n",
    "\"Buenos Aires\":5,\n",
    "\"Lima\":5,\n",
    "\"Sao Paulo\":5,\n",
    "\"Bogota\":5,\n",
    "\"Rio de Janeiro\":5,\n",
    "\"Mendoza\":5,\n",
    "}\n",
    "\n",
    "dest_dict = defaultdict(lambda: 4)\n",
    "\n",
    "for k,v in dest.items():\n",
    "    dest_dict[k] = v\n",
    "    \n",
    "\n"
   ]
  },
  {
   "cell_type": "code",
   "execution_count": 127,
   "metadata": {},
   "outputs": [],
   "source": [
    "\n"
   ]
  },
  {
   "cell_type": "code",
   "execution_count": 128,
   "metadata": {},
   "outputs": [
    {
     "data": {
      "text/html": [
       "<div>\n",
       "<style scoped>\n",
       "    .dataframe tbody tr th:only-of-type {\n",
       "        vertical-align: middle;\n",
       "    }\n",
       "\n",
       "    .dataframe tbody tr th {\n",
       "        vertical-align: top;\n",
       "    }\n",
       "\n",
       "    .dataframe thead th {\n",
       "        text-align: right;\n",
       "    }\n",
       "</style>\n",
       "<table border=\"1\" class=\"dataframe\">\n",
       "  <thead>\n",
       "    <tr style=\"text-align: right;\">\n",
       "      <th></th>\n",
       "      <th>Des-I</th>\n",
       "      <th>Emp-I</th>\n",
       "      <th>Des-O</th>\n",
       "      <th>Emp-O</th>\n",
       "      <th>MES</th>\n",
       "      <th>DIANOM</th>\n",
       "      <th>TIPOVUELO</th>\n",
       "      <th>OPERA</th>\n",
       "      <th>SIGLADES</th>\n",
       "      <th>month</th>\n",
       "      <th>high_season</th>\n",
       "      <th>period_day</th>\n",
       "      <th>delay_15</th>\n",
       "    </tr>\n",
       "  </thead>\n",
       "  <tbody>\n",
       "    <tr>\n",
       "      <th>0</th>\n",
       "      <td>SPJC</td>\n",
       "      <td>SKU</td>\n",
       "      <td>SPJC</td>\n",
       "      <td>SKU</td>\n",
       "      <td>3</td>\n",
       "      <td>1</td>\n",
       "      <td>1</td>\n",
       "      <td>Sky Airline</td>\n",
       "      <td>Lima</td>\n",
       "      <td>11</td>\n",
       "      <td>0</td>\n",
       "      <td>0</td>\n",
       "      <td>1</td>\n",
       "    </tr>\n",
       "    <tr>\n",
       "      <th>1</th>\n",
       "      <td>SCIE</td>\n",
       "      <td>LAW</td>\n",
       "      <td>SCIE</td>\n",
       "      <td>JMR</td>\n",
       "      <td>1</td>\n",
       "      <td>1</td>\n",
       "      <td>0</td>\n",
       "      <td>Latin American Wings</td>\n",
       "      <td>Concepcion</td>\n",
       "      <td>4</td>\n",
       "      <td>0</td>\n",
       "      <td>0</td>\n",
       "      <td>0</td>\n",
       "    </tr>\n",
       "    <tr>\n",
       "      <th>2</th>\n",
       "      <td>MPTO</td>\n",
       "      <td>CMP</td>\n",
       "      <td>MPTO</td>\n",
       "      <td>CMP</td>\n",
       "      <td>2</td>\n",
       "      <td>1</td>\n",
       "      <td>1</td>\n",
       "      <td>Copa Air</td>\n",
       "      <td>Ciudad de Panama</td>\n",
       "      <td>6</td>\n",
       "      <td>0</td>\n",
       "      <td>0</td>\n",
       "      <td>1</td>\n",
       "    </tr>\n",
       "    <tr>\n",
       "      <th>3</th>\n",
       "      <td>SCTE</td>\n",
       "      <td>LAN</td>\n",
       "      <td>SCTE</td>\n",
       "      <td>LXP</td>\n",
       "      <td>2</td>\n",
       "      <td>1</td>\n",
       "      <td>0</td>\n",
       "      <td>Grupo LATAM</td>\n",
       "      <td>Puerto Montt</td>\n",
       "      <td>6</td>\n",
       "      <td>0</td>\n",
       "      <td>0</td>\n",
       "      <td>1</td>\n",
       "    </tr>\n",
       "    <tr>\n",
       "      <th>4</th>\n",
       "      <td>SBGR</td>\n",
       "      <td>TAM</td>\n",
       "      <td>SBGR</td>\n",
       "      <td>TAM</td>\n",
       "      <td>2</td>\n",
       "      <td>1</td>\n",
       "      <td>1</td>\n",
       "      <td>Grupo LATAM</td>\n",
       "      <td>Sao Paulo</td>\n",
       "      <td>6</td>\n",
       "      <td>0</td>\n",
       "      <td>0</td>\n",
       "      <td>0</td>\n",
       "    </tr>\n",
       "    <tr>\n",
       "      <th>...</th>\n",
       "      <td>...</td>\n",
       "      <td>...</td>\n",
       "      <td>...</td>\n",
       "      <td>...</td>\n",
       "      <td>...</td>\n",
       "      <td>...</td>\n",
       "      <td>...</td>\n",
       "      <td>...</td>\n",
       "      <td>...</td>\n",
       "      <td>...</td>\n",
       "      <td>...</td>\n",
       "      <td>...</td>\n",
       "      <td>...</td>\n",
       "    </tr>\n",
       "    <tr>\n",
       "      <th>54559</th>\n",
       "      <td>SAME</td>\n",
       "      <td>LAN</td>\n",
       "      <td>SAME</td>\n",
       "      <td>LAN</td>\n",
       "      <td>2</td>\n",
       "      <td>1</td>\n",
       "      <td>1</td>\n",
       "      <td>Grupo LATAM</td>\n",
       "      <td>Mendoza</td>\n",
       "      <td>9</td>\n",
       "      <td>1</td>\n",
       "      <td>0</td>\n",
       "      <td>0</td>\n",
       "    </tr>\n",
       "    <tr>\n",
       "      <th>54560</th>\n",
       "      <td>SBGL</td>\n",
       "      <td>TAM</td>\n",
       "      <td>SBGL</td>\n",
       "      <td>TAM</td>\n",
       "      <td>2</td>\n",
       "      <td>0</td>\n",
       "      <td>1</td>\n",
       "      <td>Grupo LATAM</td>\n",
       "      <td>Rio de Janeiro</td>\n",
       "      <td>6</td>\n",
       "      <td>0</td>\n",
       "      <td>1</td>\n",
       "      <td>1</td>\n",
       "    </tr>\n",
       "    <tr>\n",
       "      <th>54561</th>\n",
       "      <td>SCCF</td>\n",
       "      <td>SKU</td>\n",
       "      <td>SCCF</td>\n",
       "      <td>SKU</td>\n",
       "      <td>3</td>\n",
       "      <td>0</td>\n",
       "      <td>0</td>\n",
       "      <td>Sky Airline</td>\n",
       "      <td>Calama</td>\n",
       "      <td>11</td>\n",
       "      <td>0</td>\n",
       "      <td>0</td>\n",
       "      <td>0</td>\n",
       "    </tr>\n",
       "    <tr>\n",
       "      <th>54562</th>\n",
       "      <td>SCTE</td>\n",
       "      <td>LAN</td>\n",
       "      <td>SCTE</td>\n",
       "      <td>LAN</td>\n",
       "      <td>3</td>\n",
       "      <td>0</td>\n",
       "      <td>0</td>\n",
       "      <td>Grupo LATAM</td>\n",
       "      <td>Puerto Montt</td>\n",
       "      <td>10</td>\n",
       "      <td>0</td>\n",
       "      <td>1</td>\n",
       "      <td>0</td>\n",
       "    </tr>\n",
       "    <tr>\n",
       "      <th>54563</th>\n",
       "      <td>SUMU</td>\n",
       "      <td>LAN</td>\n",
       "      <td>SUMU</td>\n",
       "      <td>LAN</td>\n",
       "      <td>2</td>\n",
       "      <td>0</td>\n",
       "      <td>1</td>\n",
       "      <td>Grupo LATAM</td>\n",
       "      <td>Montevideo</td>\n",
       "      <td>2</td>\n",
       "      <td>1</td>\n",
       "      <td>0</td>\n",
       "      <td>0</td>\n",
       "    </tr>\n",
       "  </tbody>\n",
       "</table>\n",
       "<p>54564 rows × 13 columns</p>\n",
       "</div>"
      ],
      "text/plain": [
       "      Des-I Emp-I Des-O Emp-O  MES  DIANOM  TIPOVUELO                 OPERA  \\\n",
       "0      SPJC   SKU  SPJC   SKU    3       1          1           Sky Airline   \n",
       "1      SCIE   LAW  SCIE   JMR    1       1          0  Latin American Wings   \n",
       "2      MPTO   CMP  MPTO   CMP    2       1          1              Copa Air   \n",
       "3      SCTE   LAN  SCTE   LXP    2       1          0           Grupo LATAM   \n",
       "4      SBGR   TAM  SBGR   TAM    2       1          1           Grupo LATAM   \n",
       "...     ...   ...   ...   ...  ...     ...        ...                   ...   \n",
       "54559  SAME   LAN  SAME   LAN    2       1          1           Grupo LATAM   \n",
       "54560  SBGL   TAM  SBGL   TAM    2       0          1           Grupo LATAM   \n",
       "54561  SCCF   SKU  SCCF   SKU    3       0          0           Sky Airline   \n",
       "54562  SCTE   LAN  SCTE   LAN    3       0          0           Grupo LATAM   \n",
       "54563  SUMU   LAN  SUMU   LAN    2       0          1           Grupo LATAM   \n",
       "\n",
       "               SIGLADES  month  high_season  period_day  delay_15  \n",
       "0                  Lima     11            0           0         1  \n",
       "1            Concepcion      4            0           0         0  \n",
       "2      Ciudad de Panama      6            0           0         1  \n",
       "3          Puerto Montt      6            0           0         1  \n",
       "4             Sao Paulo      6            0           0         0  \n",
       "...                 ...    ...          ...         ...       ...  \n",
       "54559           Mendoza      9            1           0         0  \n",
       "54560    Rio de Janeiro      6            0           1         1  \n",
       "54561            Calama     11            0           0         0  \n",
       "54562      Puerto Montt     10            0           1         0  \n",
       "54563        Montevideo      2            1           0         0  \n",
       "\n",
       "[54564 rows x 13 columns]"
      ]
     },
     "execution_count": 128,
     "metadata": {},
     "output_type": "execute_result"
    }
   ],
   "source": [
    "df_train_copy = df_train.copy() \n",
    "df_train_copy"
   ]
  },
  {
   "cell_type": "code",
   "execution_count": 129,
   "metadata": {},
   "outputs": [],
   "source": [
    "# map the columns to the dictionaries \n",
    "df_train_copy['OPERA'] = df_train_copy['OPERA'].map(airlines_dict)\n",
    "df_train_copy['SIGLADES'] = df_train_copy['SIGLADES'].map(dest_dict)\n"
   ]
  },
  {
   "cell_type": "code",
   "execution_count": 130,
   "metadata": {},
   "outputs": [],
   "source": [
    "cols = ['MES', 'DIANOM', 'TIPOVUELO',\n",
    "       'OPERA', 'SIGLADES', 'month', 'high_season', 'period_day', 'delay_15']\n",
    "\n",
    "df_train_copy  = df_train_copy[cols] "
   ]
  },
  {
   "cell_type": "code",
   "execution_count": 131,
   "metadata": {},
   "outputs": [
    {
     "name": "stderr",
     "output_type": "stream",
     "text": [
      "/home/codespace/.python/current/lib/python3.10/site-packages/sweetviz/dataframe_report.py:74: FutureWarning: iteritems is deprecated and will be removed in a future version. Use .items instead.\n",
      "  all_source_names = [cur_name for cur_name, cur_series in source_df.iteritems()]\n",
      "/home/codespace/.python/current/lib/python3.10/site-packages/sweetviz/dataframe_report.py:109: FutureWarning: iteritems is deprecated and will be removed in a future version. Use .items instead.\n",
      "  filtered_series_names_in_source = [cur_name for cur_name, cur_series in source_df.iteritems()\n",
      "Feature: delay_15 (TARGET)                   |█         | [ 10%]   00:00 -> (00:00 left)/home/codespace/.python/current/lib/python3.10/site-packages/sweetviz/series_analyzer_cat.py:28: FutureWarning: iteritems is deprecated and will be removed in a future version. Use .items instead.\n",
      "  for item in category_counts.iteritems():\n",
      "Feature: MES                                 |██        | [ 20%]   00:00 -> (00:00 left)/home/codespace/.python/current/lib/python3.10/site-packages/sweetviz/series_analyzer_cat.py:28: FutureWarning: iteritems is deprecated and will be removed in a future version. Use .items instead.\n",
      "  for item in category_counts.iteritems():\n",
      "Feature: DIANOM                              |███       | [ 30%]   00:00 -> (00:01 left)/home/codespace/.python/current/lib/python3.10/site-packages/sweetviz/series_analyzer_cat.py:28: FutureWarning: iteritems is deprecated and will be removed in a future version. Use .items instead.\n",
      "  for item in category_counts.iteritems():\n",
      "Feature: TIPOVUELO                           |████      | [ 40%]   00:00 -> (00:01 left)/home/codespace/.python/current/lib/python3.10/site-packages/sweetviz/series_analyzer_cat.py:28: FutureWarning: iteritems is deprecated and will be removed in a future version. Use .items instead.\n",
      "  for item in category_counts.iteritems():\n",
      "Feature: OPERA                               |█████     | [ 50%]   00:00 -> (00:01 left)/home/codespace/.python/current/lib/python3.10/site-packages/sweetviz/series_analyzer_cat.py:28: FutureWarning: iteritems is deprecated and will be removed in a future version. Use .items instead.\n",
      "  for item in category_counts.iteritems():\n",
      "Feature: SIGLADES                            |██████    | [ 60%]   00:01 -> (00:01 left)/home/codespace/.python/current/lib/python3.10/site-packages/sweetviz/series_analyzer_cat.py:28: FutureWarning: iteritems is deprecated and will be removed in a future version. Use .items instead.\n",
      "  for item in category_counts.iteritems():\n",
      "Feature: month                               |███████   | [ 70%]   00:01 -> (00:00 left)/home/codespace/.python/current/lib/python3.10/site-packages/sweetviz/series_analyzer_numeric.py:25: FutureWarning: The 'mad' method is deprecated and will be removed in a future version. To compute the same result, you may do `(df - df.mean()).abs().mean()`.\n",
      "  stats[\"mad\"] = series.mad()\n",
      "Feature: high_season                         |████████  | [ 80%]   00:02 -> (00:00 left)/home/codespace/.python/current/lib/python3.10/site-packages/sweetviz/series_analyzer_cat.py:28: FutureWarning: iteritems is deprecated and will be removed in a future version. Use .items instead.\n",
      "  for item in category_counts.iteritems():\n",
      "Feature: period_day                          |█████████ | [ 90%]   00:02 -> (00:00 left)/home/codespace/.python/current/lib/python3.10/site-packages/sweetviz/series_analyzer_cat.py:28: FutureWarning: iteritems is deprecated and will be removed in a future version. Use .items instead.\n",
      "  for item in category_counts.iteritems():\n",
      "Done! Use 'show' commands to display/save.   |██████████| [100%]   00:00 -> (00:00 left)\n"
     ]
    },
    {
     "name": "stdout",
     "output_type": "stream",
     "text": [
      "Report ./reports/EDA_manual_report.html was generated! NOTEBOOK/COLAB USERS: the web browser MAY not pop up, regardless, the report IS saved in your notebook/colab files.\n"
     ]
    }
   ],
   "source": [
    "df_train_copy\n",
    "\n",
    "# make as switviz report\n",
    "my_report = sv.analyze(df_train_copy,target_feat='delay_15')\n",
    "my_report.show_html(filepath='./reports/EDA_manual_report.html') "
   ]
  },
  {
   "cell_type": "code",
   "execution_count": 132,
   "metadata": {},
   "outputs": [],
   "source": [
    "X = df_train_copy.drop('delay_15', axis=1)\n",
    "y = df_train_copy['delay_15']\n",
    "# drop the month column\n",
    "X = X.drop('month', axis=1)\n",
    "X_train, X_val, y_train, y_val = train_test_split(X, y, test_size=0.2, random_state=0,stratify=y)"
   ]
  },
  {
   "cell_type": "code",
   "execution_count": 133,
   "metadata": {},
   "outputs": [
    {
     "data": {
      "text/plain": [
       "Index(['MES', 'DIANOM', 'TIPOVUELO', 'OPERA', 'SIGLADES', 'high_season',\n",
       "       'period_day'],\n",
       "      dtype='object')"
      ]
     },
     "execution_count": 133,
     "metadata": {},
     "output_type": "execute_result"
    }
   ],
   "source": [
    "X_train.columns"
   ]
  },
  {
   "cell_type": "code",
   "execution_count": 135,
   "metadata": {},
   "outputs": [
    {
     "data": {
      "text/html": [
       "<style>#sk-container-id-7 {color: black;background-color: white;}#sk-container-id-7 pre{padding: 0;}#sk-container-id-7 div.sk-toggleable {background-color: white;}#sk-container-id-7 label.sk-toggleable__label {cursor: pointer;display: block;width: 100%;margin-bottom: 0;padding: 0.3em;box-sizing: border-box;text-align: center;}#sk-container-id-7 label.sk-toggleable__label-arrow:before {content: \"▸\";float: left;margin-right: 0.25em;color: #696969;}#sk-container-id-7 label.sk-toggleable__label-arrow:hover:before {color: black;}#sk-container-id-7 div.sk-estimator:hover label.sk-toggleable__label-arrow:before {color: black;}#sk-container-id-7 div.sk-toggleable__content {max-height: 0;max-width: 0;overflow: hidden;text-align: left;background-color: #f0f8ff;}#sk-container-id-7 div.sk-toggleable__content pre {margin: 0.2em;color: black;border-radius: 0.25em;background-color: #f0f8ff;}#sk-container-id-7 input.sk-toggleable__control:checked~div.sk-toggleable__content {max-height: 200px;max-width: 100%;overflow: auto;}#sk-container-id-7 input.sk-toggleable__control:checked~label.sk-toggleable__label-arrow:before {content: \"▾\";}#sk-container-id-7 div.sk-estimator input.sk-toggleable__control:checked~label.sk-toggleable__label {background-color: #d4ebff;}#sk-container-id-7 div.sk-label input.sk-toggleable__control:checked~label.sk-toggleable__label {background-color: #d4ebff;}#sk-container-id-7 input.sk-hidden--visually {border: 0;clip: rect(1px 1px 1px 1px);clip: rect(1px, 1px, 1px, 1px);height: 1px;margin: -1px;overflow: hidden;padding: 0;position: absolute;width: 1px;}#sk-container-id-7 div.sk-estimator {font-family: monospace;background-color: #f0f8ff;border: 1px dotted black;border-radius: 0.25em;box-sizing: border-box;margin-bottom: 0.5em;}#sk-container-id-7 div.sk-estimator:hover {background-color: #d4ebff;}#sk-container-id-7 div.sk-parallel-item::after {content: \"\";width: 100%;border-bottom: 1px solid gray;flex-grow: 1;}#sk-container-id-7 div.sk-label:hover label.sk-toggleable__label {background-color: #d4ebff;}#sk-container-id-7 div.sk-serial::before {content: \"\";position: absolute;border-left: 1px solid gray;box-sizing: border-box;top: 0;bottom: 0;left: 50%;z-index: 0;}#sk-container-id-7 div.sk-serial {display: flex;flex-direction: column;align-items: center;background-color: white;padding-right: 0.2em;padding-left: 0.2em;position: relative;}#sk-container-id-7 div.sk-item {position: relative;z-index: 1;}#sk-container-id-7 div.sk-parallel {display: flex;align-items: stretch;justify-content: center;background-color: white;position: relative;}#sk-container-id-7 div.sk-item::before, #sk-container-id-7 div.sk-parallel-item::before {content: \"\";position: absolute;border-left: 1px solid gray;box-sizing: border-box;top: 0;bottom: 0;left: 50%;z-index: -1;}#sk-container-id-7 div.sk-parallel-item {display: flex;flex-direction: column;z-index: 1;position: relative;background-color: white;}#sk-container-id-7 div.sk-parallel-item:first-child::after {align-self: flex-end;width: 50%;}#sk-container-id-7 div.sk-parallel-item:last-child::after {align-self: flex-start;width: 50%;}#sk-container-id-7 div.sk-parallel-item:only-child::after {width: 0;}#sk-container-id-7 div.sk-dashed-wrapped {border: 1px dashed gray;margin: 0 0.4em 0.5em 0.4em;box-sizing: border-box;padding-bottom: 0.4em;background-color: white;}#sk-container-id-7 div.sk-label label {font-family: monospace;font-weight: bold;display: inline-block;line-height: 1.2em;}#sk-container-id-7 div.sk-label-container {text-align: center;}#sk-container-id-7 div.sk-container {/* jupyter's `normalize.less` sets `[hidden] { display: none; }` but bootstrap.min.css set `[hidden] { display: none !important; }` so we also need the `!important` here to be able to override the default hidden behavior on the sphinx rendered scikit-learn.org. See: https://github.com/scikit-learn/scikit-learn/issues/21755 */display: inline-block !important;position: relative;}#sk-container-id-7 div.sk-text-repr-fallback {display: none;}</style><div id=\"sk-container-id-7\" class=\"sk-top-container\"><div class=\"sk-text-repr-fallback\"><pre>RandomizedSearchCV(cv=3,\n",
       "                   estimator=LGBMClassifier(class_weight=&#x27;balanced&#x27;,\n",
       "                                            random_state=0),\n",
       "                   n_iter=50, n_jobs=-1,\n",
       "                   param_distributions={&#x27;colsample_bytree&#x27;: &lt;scipy.stats._distn_infrastructure.rv_continuous_frozen object at 0x7f3f9c181ae0&gt;,\n",
       "                                        &#x27;learning_rate&#x27;: &lt;scipy.stats._distn_infrastructure.rv_continuous_frozen object at 0x7f3f9e5d2740&gt;,\n",
       "                                        &#x27;max_depth&#x27;: &lt;scipy.stats._d...\n",
       "                                        &#x27;min_child_samples&#x27;: &lt;scipy.stats._distn_infrastructure.rv_discrete_frozen object at 0x7f3f9e334040&gt;,\n",
       "                                        &#x27;n_estimators&#x27;: &lt;scipy.stats._distn_infrastructure.rv_discrete_frozen object at 0x7f3f9c83b8b0&gt;,\n",
       "                                        &#x27;num_leaves&#x27;: &lt;scipy.stats._distn_infrastructure.rv_discrete_frozen object at 0x7f3fa1c96ec0&gt;,\n",
       "                                        &#x27;subsample&#x27;: &lt;scipy.stats._distn_infrastructure.rv_continuous_frozen object at 0x7f3f9c181a20&gt;},\n",
       "                   random_state=0, scoring=&#x27;f1&#x27;)</pre><b>In a Jupyter environment, please rerun this cell to show the HTML representation or trust the notebook. <br />On GitHub, the HTML representation is unable to render, please try loading this page with nbviewer.org.</b></div><div class=\"sk-container\" hidden><div class=\"sk-item sk-dashed-wrapped\"><div class=\"sk-label-container\"><div class=\"sk-label sk-toggleable\"><input class=\"sk-toggleable__control sk-hidden--visually\" id=\"sk-estimator-id-9\" type=\"checkbox\" ><label for=\"sk-estimator-id-9\" class=\"sk-toggleable__label sk-toggleable__label-arrow\">RandomizedSearchCV</label><div class=\"sk-toggleable__content\"><pre>RandomizedSearchCV(cv=3,\n",
       "                   estimator=LGBMClassifier(class_weight=&#x27;balanced&#x27;,\n",
       "                                            random_state=0),\n",
       "                   n_iter=50, n_jobs=-1,\n",
       "                   param_distributions={&#x27;colsample_bytree&#x27;: &lt;scipy.stats._distn_infrastructure.rv_continuous_frozen object at 0x7f3f9c181ae0&gt;,\n",
       "                                        &#x27;learning_rate&#x27;: &lt;scipy.stats._distn_infrastructure.rv_continuous_frozen object at 0x7f3f9e5d2740&gt;,\n",
       "                                        &#x27;max_depth&#x27;: &lt;scipy.stats._d...\n",
       "                                        &#x27;min_child_samples&#x27;: &lt;scipy.stats._distn_infrastructure.rv_discrete_frozen object at 0x7f3f9e334040&gt;,\n",
       "                                        &#x27;n_estimators&#x27;: &lt;scipy.stats._distn_infrastructure.rv_discrete_frozen object at 0x7f3f9c83b8b0&gt;,\n",
       "                                        &#x27;num_leaves&#x27;: &lt;scipy.stats._distn_infrastructure.rv_discrete_frozen object at 0x7f3fa1c96ec0&gt;,\n",
       "                                        &#x27;subsample&#x27;: &lt;scipy.stats._distn_infrastructure.rv_continuous_frozen object at 0x7f3f9c181a20&gt;},\n",
       "                   random_state=0, scoring=&#x27;f1&#x27;)</pre></div></div></div><div class=\"sk-parallel\"><div class=\"sk-parallel-item\"><div class=\"sk-item\"><div class=\"sk-label-container\"><div class=\"sk-label sk-toggleable\"><input class=\"sk-toggleable__control sk-hidden--visually\" id=\"sk-estimator-id-10\" type=\"checkbox\" ><label for=\"sk-estimator-id-10\" class=\"sk-toggleable__label sk-toggleable__label-arrow\">estimator: LGBMClassifier</label><div class=\"sk-toggleable__content\"><pre>LGBMClassifier(class_weight=&#x27;balanced&#x27;, random_state=0)</pre></div></div></div><div class=\"sk-serial\"><div class=\"sk-item\"><div class=\"sk-estimator sk-toggleable\"><input class=\"sk-toggleable__control sk-hidden--visually\" id=\"sk-estimator-id-11\" type=\"checkbox\" ><label for=\"sk-estimator-id-11\" class=\"sk-toggleable__label sk-toggleable__label-arrow\">LGBMClassifier</label><div class=\"sk-toggleable__content\"><pre>LGBMClassifier(class_weight=&#x27;balanced&#x27;, random_state=0)</pre></div></div></div></div></div></div></div></div></div></div>"
      ],
      "text/plain": [
       "RandomizedSearchCV(cv=3,\n",
       "                   estimator=LGBMClassifier(class_weight='balanced',\n",
       "                                            random_state=0),\n",
       "                   n_iter=50, n_jobs=-1,\n",
       "                   param_distributions={'colsample_bytree': <scipy.stats._distn_infrastructure.rv_continuous_frozen object at 0x7f3f9c181ae0>,\n",
       "                                        'learning_rate': <scipy.stats._distn_infrastructure.rv_continuous_frozen object at 0x7f3f9e5d2740>,\n",
       "                                        'max_depth': <scipy.stats._d...\n",
       "                                        'min_child_samples': <scipy.stats._distn_infrastructure.rv_discrete_frozen object at 0x7f3f9e334040>,\n",
       "                                        'n_estimators': <scipy.stats._distn_infrastructure.rv_discrete_frozen object at 0x7f3f9c83b8b0>,\n",
       "                                        'num_leaves': <scipy.stats._distn_infrastructure.rv_discrete_frozen object at 0x7f3fa1c96ec0>,\n",
       "                                        'subsample': <scipy.stats._distn_infrastructure.rv_continuous_frozen object at 0x7f3f9c181a20>},\n",
       "                   random_state=0, scoring='f1')"
      ]
     },
     "execution_count": 135,
     "metadata": {},
     "output_type": "execute_result"
    }
   ],
   "source": [
    "# define the parameter space\n",
    "param_space = { 'n_estimators': sp_randint(50, 200),\n",
    "                'max_depth': sp_randint(3, 5), \n",
    "                'num_leaves': sp_randint(6, 20),\n",
    "                'learning_rate': sp_uniform(loc=0.01, scale=0.2),\n",
    "                'subsample': sp_uniform(loc=0.2, scale=0.8),\n",
    "                'colsample_bytree': sp_uniform(loc=0.4, scale=0.6),\n",
    "                'min_child_samples': sp_randint(10, 50)\n",
    "                }\n",
    "\n",
    "# create the classifier\n",
    "\n",
    "lgbm = LGBMClassifier(class_weight='balanced', random_state=0)\n",
    "\n",
    "# create the random search\n",
    "random_search = RandomizedSearchCV(lgbm, param_distributions=param_space, n_iter=50,\n",
    "                                      scoring='f1', n_jobs=-1, cv=3, random_state=0)    \n",
    "\n",
    "# run the random search\n",
    "random_search.fit(X_train, y_train)\n"
   ]
  },
  {
   "cell_type": "code",
   "execution_count": 136,
   "metadata": {},
   "outputs": [
    {
     "name": "stdout",
     "output_type": "stream",
     "text": [
      "Best F1 score:  0.37877894276163654\n",
      "Best parameters:  {'colsample_bytree': 0.6768876173517591, 'learning_rate': 0.1661058352572911, 'max_depth': 3, 'min_child_samples': 49, 'n_estimators': 82, 'num_leaves': 7, 'subsample': 0.31468262992723717}\n",
      "Train data report\n",
      "              precision    recall  f1-score   support\n",
      "\n",
      "           0       0.89      0.55      0.68     35578\n",
      "           1       0.26      0.69      0.38      8073\n",
      "\n",
      "    accuracy                           0.58     43651\n",
      "   macro avg       0.57      0.62      0.53     43651\n",
      "weighted avg       0.77      0.58      0.63     43651\n",
      "\n",
      "Test data report\n",
      "              precision    recall  f1-score   support\n",
      "\n",
      "           0       0.88      0.55      0.68      8895\n",
      "           1       0.26      0.68      0.37      2018\n",
      "\n",
      "    accuracy                           0.57     10913\n",
      "   macro avg       0.57      0.62      0.52     10913\n",
      "weighted avg       0.77      0.57      0.62     10913\n",
      "\n"
     ]
    },
    {
     "data": {
      "image/png": "[encoded data removed]",
      "text/plain": [
       "<Figure size 640x480 with 2 Axes>"
      ]
     },
     "metadata": {},
     "output_type": "display_data"
    },
    {
     "data": {
      "text/html": [
       "<style>#sk-container-id-8 {color: black;background-color: white;}#sk-container-id-8 pre{padding: 0;}#sk-container-id-8 div.sk-toggleable {background-color: white;}#sk-container-id-8 label.sk-toggleable__label {cursor: pointer;display: block;width: 100%;margin-bottom: 0;padding: 0.3em;box-sizing: border-box;text-align: center;}#sk-container-id-8 label.sk-toggleable__label-arrow:before {content: \"▸\";float: left;margin-right: 0.25em;color: #696969;}#sk-container-id-8 label.sk-toggleable__label-arrow:hover:before {color: black;}#sk-container-id-8 div.sk-estimator:hover label.sk-toggleable__label-arrow:before {color: black;}#sk-container-id-8 div.sk-toggleable__content {max-height: 0;max-width: 0;overflow: hidden;text-align: left;background-color: #f0f8ff;}#sk-container-id-8 div.sk-toggleable__content pre {margin: 0.2em;color: black;border-radius: 0.25em;background-color: #f0f8ff;}#sk-container-id-8 input.sk-toggleable__control:checked~div.sk-toggleable__content {max-height: 200px;max-width: 100%;overflow: auto;}#sk-container-id-8 input.sk-toggleable__control:checked~label.sk-toggleable__label-arrow:before {content: \"▾\";}#sk-container-id-8 div.sk-estimator input.sk-toggleable__control:checked~label.sk-toggleable__label {background-color: #d4ebff;}#sk-container-id-8 div.sk-label input.sk-toggleable__control:checked~label.sk-toggleable__label {background-color: #d4ebff;}#sk-container-id-8 input.sk-hidden--visually {border: 0;clip: rect(1px 1px 1px 1px);clip: rect(1px, 1px, 1px, 1px);height: 1px;margin: -1px;overflow: hidden;padding: 0;position: absolute;width: 1px;}#sk-container-id-8 div.sk-estimator {font-family: monospace;background-color: #f0f8ff;border: 1px dotted black;border-radius: 0.25em;box-sizing: border-box;margin-bottom: 0.5em;}#sk-container-id-8 div.sk-estimator:hover {background-color: #d4ebff;}#sk-container-id-8 div.sk-parallel-item::after {content: \"\";width: 100%;border-bottom: 1px solid gray;flex-grow: 1;}#sk-container-id-8 div.sk-label:hover label.sk-toggleable__label {background-color: #d4ebff;}#sk-container-id-8 div.sk-serial::before {content: \"\";position: absolute;border-left: 1px solid gray;box-sizing: border-box;top: 0;bottom: 0;left: 50%;z-index: 0;}#sk-container-id-8 div.sk-serial {display: flex;flex-direction: column;align-items: center;background-color: white;padding-right: 0.2em;padding-left: 0.2em;position: relative;}#sk-container-id-8 div.sk-item {position: relative;z-index: 1;}#sk-container-id-8 div.sk-parallel {display: flex;align-items: stretch;justify-content: center;background-color: white;position: relative;}#sk-container-id-8 div.sk-item::before, #sk-container-id-8 div.sk-parallel-item::before {content: \"\";position: absolute;border-left: 1px solid gray;box-sizing: border-box;top: 0;bottom: 0;left: 50%;z-index: -1;}#sk-container-id-8 div.sk-parallel-item {display: flex;flex-direction: column;z-index: 1;position: relative;background-color: white;}#sk-container-id-8 div.sk-parallel-item:first-child::after {align-self: flex-end;width: 50%;}#sk-container-id-8 div.sk-parallel-item:last-child::after {align-self: flex-start;width: 50%;}#sk-container-id-8 div.sk-parallel-item:only-child::after {width: 0;}#sk-container-id-8 div.sk-dashed-wrapped {border: 1px dashed gray;margin: 0 0.4em 0.5em 0.4em;box-sizing: border-box;padding-bottom: 0.4em;background-color: white;}#sk-container-id-8 div.sk-label label {font-family: monospace;font-weight: bold;display: inline-block;line-height: 1.2em;}#sk-container-id-8 div.sk-label-container {text-align: center;}#sk-container-id-8 div.sk-container {/* jupyter's `normalize.less` sets `[hidden] { display: none; }` but bootstrap.min.css set `[hidden] { display: none !important; }` so we also need the `!important` here to be able to override the default hidden behavior on the sphinx rendered scikit-learn.org. See: https://github.com/scikit-learn/scikit-learn/issues/21755 */display: inline-block !important;position: relative;}#sk-container-id-8 div.sk-text-repr-fallback {display: none;}</style><div id=\"sk-container-id-8\" class=\"sk-top-container\"><div class=\"sk-text-repr-fallback\"><pre>LGBMClassifier(class_weight=&#x27;balanced&#x27;, colsample_bytree=0.6768876173517591,\n",
       "               learning_rate=0.1661058352572911, max_depth=3,\n",
       "               min_child_samples=49, n_estimators=82, num_leaves=7,\n",
       "               random_state=0, subsample=0.31468262992723717)</pre><b>In a Jupyter environment, please rerun this cell to show the HTML representation or trust the notebook. <br />On GitHub, the HTML representation is unable to render, please try loading this page with nbviewer.org.</b></div><div class=\"sk-container\" hidden><div class=\"sk-item\"><div class=\"sk-estimator sk-toggleable\"><input class=\"sk-toggleable__control sk-hidden--visually\" id=\"sk-estimator-id-12\" type=\"checkbox\" checked><label for=\"sk-estimator-id-12\" class=\"sk-toggleable__label sk-toggleable__label-arrow\">LGBMClassifier</label><div class=\"sk-toggleable__content\"><pre>LGBMClassifier(class_weight=&#x27;balanced&#x27;, colsample_bytree=0.6768876173517591,\n",
       "               learning_rate=0.1661058352572911, max_depth=3,\n",
       "               min_child_samples=49, n_estimators=82, num_leaves=7,\n",
       "               random_state=0, subsample=0.31468262992723717)</pre></div></div></div></div></div>"
      ],
      "text/plain": [
       "LGBMClassifier(class_weight='balanced', colsample_bytree=0.6768876173517591,\n",
       "               learning_rate=0.1661058352572911, max_depth=3,\n",
       "               min_child_samples=49, n_estimators=82, num_leaves=7,\n",
       "               random_state=0, subsample=0.31468262992723717)"
      ]
     },
     "execution_count": 136,
     "metadata": {},
     "output_type": "execute_result"
    }
   ],
   "source": [
    "# show the metric of the best model\n",
    "print('Best F1 score: ', random_search.best_score_)\n",
    "print('Best parameters: ', random_search.best_params_)\n",
    "# Best F1 score:  0.9999999999999999\n",
    "\n",
    "\n",
    "# assign the best model to the variable model \n",
    "model = random_search.best_estimator_\n",
    "train_base_model(model,X_train, y_train, X_val, y_val,features)\n"
   ]
  },
  {
   "cell_type": "code",
   "execution_count": 140,
   "metadata": {},
   "outputs": [],
   "source": [
    "# make a prediction on the train set  return the label and the score \n",
    "y_pred_train = model.predict(X_train)\n",
    "y_pred_train_proba = model.predict_proba(X_train)[:,1]\n"
   ]
  },
  {
   "cell_type": "code",
   "execution_count": 159,
   "metadata": {},
   "outputs": [
    {
     "data": {
      "text/html": [
       "<div>\n",
       "<style scoped>\n",
       "    .dataframe tbody tr th:only-of-type {\n",
       "        vertical-align: middle;\n",
       "    }\n",
       "\n",
       "    .dataframe tbody tr th {\n",
       "        vertical-align: top;\n",
       "    }\n",
       "\n",
       "    .dataframe thead th {\n",
       "        text-align: right;\n",
       "    }\n",
       "</style>\n",
       "<table border=\"1\" class=\"dataframe\">\n",
       "  <thead>\n",
       "    <tr style=\"text-align: right;\">\n",
       "      <th></th>\n",
       "      <th>y_pred_train</th>\n",
       "      <th>y_pred_train_proba</th>\n",
       "      <th>y_train</th>\n",
       "    </tr>\n",
       "  </thead>\n",
       "  <tbody>\n",
       "    <tr>\n",
       "      <th>46480</th>\n",
       "      <td>0</td>\n",
       "      <td>0.306895</td>\n",
       "      <td>0</td>\n",
       "    </tr>\n",
       "    <tr>\n",
       "      <th>11894</th>\n",
       "      <td>0</td>\n",
       "      <td>0.356832</td>\n",
       "      <td>0</td>\n",
       "    </tr>\n",
       "    <tr>\n",
       "      <th>20983</th>\n",
       "      <td>1</td>\n",
       "      <td>0.667040</td>\n",
       "      <td>1</td>\n",
       "    </tr>\n",
       "    <tr>\n",
       "      <th>27663</th>\n",
       "      <td>0</td>\n",
       "      <td>0.263523</td>\n",
       "      <td>0</td>\n",
       "    </tr>\n",
       "    <tr>\n",
       "      <th>46443</th>\n",
       "      <td>0</td>\n",
       "      <td>0.336809</td>\n",
       "      <td>0</td>\n",
       "    </tr>\n",
       "    <tr>\n",
       "      <th>...</th>\n",
       "      <td>...</td>\n",
       "      <td>...</td>\n",
       "      <td>...</td>\n",
       "    </tr>\n",
       "    <tr>\n",
       "      <th>22064</th>\n",
       "      <td>0</td>\n",
       "      <td>0.278581</td>\n",
       "      <td>0</td>\n",
       "    </tr>\n",
       "    <tr>\n",
       "      <th>6298</th>\n",
       "      <td>0</td>\n",
       "      <td>0.278581</td>\n",
       "      <td>0</td>\n",
       "    </tr>\n",
       "    <tr>\n",
       "      <th>38183</th>\n",
       "      <td>1</td>\n",
       "      <td>0.671944</td>\n",
       "      <td>0</td>\n",
       "    </tr>\n",
       "    <tr>\n",
       "      <th>45600</th>\n",
       "      <td>1</td>\n",
       "      <td>0.636680</td>\n",
       "      <td>0</td>\n",
       "    </tr>\n",
       "    <tr>\n",
       "      <th>53613</th>\n",
       "      <td>0</td>\n",
       "      <td>0.263523</td>\n",
       "      <td>0</td>\n",
       "    </tr>\n",
       "  </tbody>\n",
       "</table>\n",
       "<p>22939 rows × 3 columns</p>\n",
       "</div>"
      ],
      "text/plain": [
       "       y_pred_train  y_pred_train_proba  y_train\n",
       "46480             0            0.306895        0\n",
       "11894             0            0.356832        0\n",
       "20983             1            0.667040        1\n",
       "27663             0            0.263523        0\n",
       "46443             0            0.336809        0\n",
       "...             ...                 ...      ...\n",
       "22064             0            0.278581        0\n",
       "6298              0            0.278581        0\n",
       "38183             1            0.671944        0\n",
       "45600             1            0.636680        0\n",
       "53613             0            0.263523        0\n",
       "\n",
       "[22939 rows x 3 columns]"
      ]
     },
     "execution_count": 159,
     "metadata": {},
     "output_type": "execute_result"
    }
   ],
   "source": [
    "# create a dataframe with y_pred_train and y_pred_train_proba\n",
    "df_train_pred22 = pd.DataFrame({'y_pred_train': y_pred_train, 'y_pred_train_proba': y_pred_train_proba,'y_train': y_train})\n",
    "df_train_pred22\n",
    "\n",
    "# only kept the prediction were the model has over 70% of confidence or below 30% of confidence \n",
    "df_train_pred22 = df_train_pred22[(df_train_pred22['y_pred_train_proba'] > 0.6) | (df_train_pred22['y_pred_train_proba'] < 0.4)]\n",
    "df_train_pred22"
   ]
  },
  {
   "cell_type": "code",
   "execution_count": null,
   "metadata": {},
   "outputs": [],
   "source": []
  },
  {
   "cell_type": "code",
   "execution_count": null,
   "metadata": {},
   "outputs": [],
   "source": []
  },
  {
   "cell_type": "code",
   "execution_count": null,
   "metadata": {},
   "outputs": [],
   "source": []
  },
  {
   "cell_type": "code",
   "execution_count": null,
   "metadata": {},
   "outputs": [],
   "source": [
    "\n"
   ]
  },
  {
   "cell_type": "code",
   "execution_count": null,
   "metadata": {},
   "outputs": [],
   "source": []
  }
 ],
 "metadata": {
  "kernelspec": {
   "display_name": "Python 3",
   "language": "python",
   "name": "python3"
  },
  "language_info": {
   "codemirror_mode": {
    "name": "ipython",
    "version": 3
   },
   "file_extension": ".py",
   "mimetype": "text/x-python",
   "name": "python",
   "nbconvert_exporter": "python",
   "pygments_lexer": "ipython3",
   "version": "3.10.4"
  },
  "orig_nbformat": 4,
  "vscode": {
   "interpreter": {
    "hash": "3ad933181bd8a04b432d3370b9dc3b0662ad032c4dfaa4e4f1596c548f763858"
   }
  }
 },
 "nbformat": 4,
 "nbformat_minor": 2
}
