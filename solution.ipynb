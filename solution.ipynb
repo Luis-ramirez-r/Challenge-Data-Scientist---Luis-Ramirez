{
 "cells": [
  {
   "cell_type": "code",
   "execution_count": 1,
   "metadata": {},
   "outputs": [],
   "source": [
    "%load_ext autoreload\n",
    "%autoreload 2"
   ]
  },
  {
   "cell_type": "code",
   "execution_count": 2,
   "metadata": {},
   "outputs": [],
   "source": [
    "import pandas as pd \n",
    "from pathlib import Path\n",
    "import matplotlib.pyplot as plt\n",
    "import seaborn as sns\n",
    "import numpy as np\n",
    "from collections import defaultdict\n",
    "import json\n",
    "\n"
   ]
  },
  {
   "cell_type": "code",
   "execution_count": 3,
   "metadata": {},
   "outputs": [],
   "source": [
    "from utils.utils import make_bar_plot, get_high_season"
   ]
  },
  {
   "attachments": {},
   "cell_type": "markdown",
   "metadata": {},
   "source": []
  },
  {
   "cell_type": "code",
   "execution_count": 4,
   "metadata": {},
   "outputs": [],
   "source": [
    "base_color = '#3B3B3B'"
   ]
  },
  {
   "cell_type": "code",
   "execution_count": 5,
   "metadata": {},
   "outputs": [],
   "source": [
    "data_dir = 'data/raw/'\n",
    "data_file = 'dataset_SCL.csv'\n",
    "\n",
    "# use pathlib to create a path to the data file \n",
    "data_path = Path(data_dir + data_file)"
   ]
  },
  {
   "cell_type": "code",
   "execution_count": 65,
   "metadata": {},
   "outputs": [
    {
     "data": {
      "text/html": [
       "<div>\n",
       "<style scoped>\n",
       "    .dataframe tbody tr th:only-of-type {\n",
       "        vertical-align: middle;\n",
       "    }\n",
       "\n",
       "    .dataframe tbody tr th {\n",
       "        vertical-align: top;\n",
       "    }\n",
       "\n",
       "    .dataframe thead th {\n",
       "        text-align: right;\n",
       "    }\n",
       "</style>\n",
       "<table border=\"1\" class=\"dataframe\">\n",
       "  <thead>\n",
       "    <tr style=\"text-align: right;\">\n",
       "      <th></th>\n",
       "      <th>Fecha-I</th>\n",
       "      <th>Vlo-I</th>\n",
       "      <th>Ori-I</th>\n",
       "      <th>Des-I</th>\n",
       "      <th>Emp-I</th>\n",
       "      <th>Fecha-O</th>\n",
       "      <th>Vlo-O</th>\n",
       "      <th>Ori-O</th>\n",
       "      <th>Des-O</th>\n",
       "      <th>Emp-O</th>\n",
       "      <th>DIA</th>\n",
       "      <th>MES</th>\n",
       "      <th>AÑO</th>\n",
       "      <th>DIANOM</th>\n",
       "      <th>TIPOVUELO</th>\n",
       "      <th>OPERA</th>\n",
       "      <th>SIGLAORI</th>\n",
       "      <th>SIGLADES</th>\n",
       "    </tr>\n",
       "  </thead>\n",
       "  <tbody>\n",
       "    <tr>\n",
       "      <th>0</th>\n",
       "      <td>2017-01-01 23:30:00</td>\n",
       "      <td>226</td>\n",
       "      <td>SCEL</td>\n",
       "      <td>KMIA</td>\n",
       "      <td>AAL</td>\n",
       "      <td>2017-01-01 23:33:00</td>\n",
       "      <td>226</td>\n",
       "      <td>SCEL</td>\n",
       "      <td>KMIA</td>\n",
       "      <td>AAL</td>\n",
       "      <td>1</td>\n",
       "      <td>1</td>\n",
       "      <td>2017</td>\n",
       "      <td>Domingo</td>\n",
       "      <td>I</td>\n",
       "      <td>American Airlines</td>\n",
       "      <td>Santiago</td>\n",
       "      <td>Miami</td>\n",
       "    </tr>\n",
       "    <tr>\n",
       "      <th>1</th>\n",
       "      <td>2017-01-02 23:30:00</td>\n",
       "      <td>226</td>\n",
       "      <td>SCEL</td>\n",
       "      <td>KMIA</td>\n",
       "      <td>AAL</td>\n",
       "      <td>2017-01-02 23:39:00</td>\n",
       "      <td>226</td>\n",
       "      <td>SCEL</td>\n",
       "      <td>KMIA</td>\n",
       "      <td>AAL</td>\n",
       "      <td>2</td>\n",
       "      <td>1</td>\n",
       "      <td>2017</td>\n",
       "      <td>Lunes</td>\n",
       "      <td>I</td>\n",
       "      <td>American Airlines</td>\n",
       "      <td>Santiago</td>\n",
       "      <td>Miami</td>\n",
       "    </tr>\n",
       "    <tr>\n",
       "      <th>2</th>\n",
       "      <td>2017-01-03 23:30:00</td>\n",
       "      <td>226</td>\n",
       "      <td>SCEL</td>\n",
       "      <td>KMIA</td>\n",
       "      <td>AAL</td>\n",
       "      <td>2017-01-03 23:39:00</td>\n",
       "      <td>226</td>\n",
       "      <td>SCEL</td>\n",
       "      <td>KMIA</td>\n",
       "      <td>AAL</td>\n",
       "      <td>3</td>\n",
       "      <td>1</td>\n",
       "      <td>2017</td>\n",
       "      <td>Martes</td>\n",
       "      <td>I</td>\n",
       "      <td>American Airlines</td>\n",
       "      <td>Santiago</td>\n",
       "      <td>Miami</td>\n",
       "    </tr>\n",
       "    <tr>\n",
       "      <th>3</th>\n",
       "      <td>2017-01-04 23:30:00</td>\n",
       "      <td>226</td>\n",
       "      <td>SCEL</td>\n",
       "      <td>KMIA</td>\n",
       "      <td>AAL</td>\n",
       "      <td>2017-01-04 23:33:00</td>\n",
       "      <td>226</td>\n",
       "      <td>SCEL</td>\n",
       "      <td>KMIA</td>\n",
       "      <td>AAL</td>\n",
       "      <td>4</td>\n",
       "      <td>1</td>\n",
       "      <td>2017</td>\n",
       "      <td>Miercoles</td>\n",
       "      <td>I</td>\n",
       "      <td>American Airlines</td>\n",
       "      <td>Santiago</td>\n",
       "      <td>Miami</td>\n",
       "    </tr>\n",
       "    <tr>\n",
       "      <th>4</th>\n",
       "      <td>2017-01-05 23:30:00</td>\n",
       "      <td>226</td>\n",
       "      <td>SCEL</td>\n",
       "      <td>KMIA</td>\n",
       "      <td>AAL</td>\n",
       "      <td>2017-01-05 23:28:00</td>\n",
       "      <td>226</td>\n",
       "      <td>SCEL</td>\n",
       "      <td>KMIA</td>\n",
       "      <td>AAL</td>\n",
       "      <td>5</td>\n",
       "      <td>1</td>\n",
       "      <td>2017</td>\n",
       "      <td>Jueves</td>\n",
       "      <td>I</td>\n",
       "      <td>American Airlines</td>\n",
       "      <td>Santiago</td>\n",
       "      <td>Miami</td>\n",
       "    </tr>\n",
       "  </tbody>\n",
       "</table>\n",
       "</div>"
      ],
      "text/plain": [
       "               Fecha-I Vlo-I Ori-I Des-I Emp-I              Fecha-O Vlo-O  \\\n",
       "0  2017-01-01 23:30:00   226  SCEL  KMIA   AAL  2017-01-01 23:33:00   226   \n",
       "1  2017-01-02 23:30:00   226  SCEL  KMIA   AAL  2017-01-02 23:39:00   226   \n",
       "2  2017-01-03 23:30:00   226  SCEL  KMIA   AAL  2017-01-03 23:39:00   226   \n",
       "3  2017-01-04 23:30:00   226  SCEL  KMIA   AAL  2017-01-04 23:33:00   226   \n",
       "4  2017-01-05 23:30:00   226  SCEL  KMIA   AAL  2017-01-05 23:28:00   226   \n",
       "\n",
       "  Ori-O Des-O Emp-O  DIA  MES   AÑO     DIANOM TIPOVUELO              OPERA  \\\n",
       "0  SCEL  KMIA   AAL    1    1  2017    Domingo         I  American Airlines   \n",
       "1  SCEL  KMIA   AAL    2    1  2017      Lunes         I  American Airlines   \n",
       "2  SCEL  KMIA   AAL    3    1  2017     Martes         I  American Airlines   \n",
       "3  SCEL  KMIA   AAL    4    1  2017  Miercoles         I  American Airlines   \n",
       "4  SCEL  KMIA   AAL    5    1  2017     Jueves         I  American Airlines   \n",
       "\n",
       "   SIGLAORI SIGLADES  \n",
       "0  Santiago    Miami  \n",
       "1  Santiago    Miami  \n",
       "2  Santiago    Miami  \n",
       "3  Santiago    Miami  \n",
       "4  Santiago    Miami  "
      ]
     },
     "execution_count": 65,
     "metadata": {},
     "output_type": "execute_result"
    }
   ],
   "source": [
    "df = pd.read_csv(data_path,low_memory=False) \n",
    "df.head()\n"
   ]
  },
  {
   "cell_type": "code",
   "execution_count": 66,
   "metadata": {},
   "outputs": [
    {
     "data": {
      "text/plain": [
       "Fecha-I      53252\n",
       "Vlo-I          584\n",
       "Ori-I            1\n",
       "Des-I           64\n",
       "Emp-I           30\n",
       "Fecha-O      62774\n",
       "Vlo-O          861\n",
       "Ori-O            1\n",
       "Des-O           63\n",
       "Emp-O           32\n",
       "DIA             31\n",
       "MES             12\n",
       "AÑO              2\n",
       "DIANOM           7\n",
       "TIPOVUELO        2\n",
       "OPERA           23\n",
       "SIGLAORI         1\n",
       "SIGLADES        62\n",
       "dtype: int64"
      ]
     },
     "execution_count": 66,
     "metadata": {},
     "output_type": "execute_result"
    }
   ],
   "source": [
    "df.nunique()"
   ]
  },
  {
   "attachments": {},
   "cell_type": "markdown",
   "metadata": {},
   "source": [
    "### Question 1: How is the data distributed? Did you find any noteworthy insight to share? What can you conclude about this?\n"
   ]
  },
  {
   "cell_type": "code",
   "execution_count": 7,
   "metadata": {},
   "outputs": [
    {
     "data": {
      "text/html": [
       "<div>\n",
       "<style scoped>\n",
       "    .dataframe tbody tr th:only-of-type {\n",
       "        vertical-align: middle;\n",
       "    }\n",
       "\n",
       "    .dataframe tbody tr th {\n",
       "        vertical-align: top;\n",
       "    }\n",
       "\n",
       "    .dataframe thead th {\n",
       "        text-align: right;\n",
       "    }\n",
       "</style>\n",
       "<table border=\"1\" class=\"dataframe\">\n",
       "  <thead>\n",
       "    <tr style=\"text-align: right;\">\n",
       "      <th></th>\n",
       "      <th>Fecha-I</th>\n",
       "      <th>Vlo-I</th>\n",
       "      <th>Ori-I</th>\n",
       "      <th>Des-I</th>\n",
       "      <th>Emp-I</th>\n",
       "      <th>Fecha-O</th>\n",
       "      <th>Vlo-O</th>\n",
       "      <th>Ori-O</th>\n",
       "      <th>Des-O</th>\n",
       "      <th>Emp-O</th>\n",
       "      <th>DIA</th>\n",
       "      <th>MES</th>\n",
       "      <th>AÑO</th>\n",
       "      <th>DIANOM</th>\n",
       "      <th>TIPOVUELO</th>\n",
       "      <th>OPERA</th>\n",
       "      <th>SIGLAORI</th>\n",
       "      <th>SIGLADES</th>\n",
       "    </tr>\n",
       "  </thead>\n",
       "  <tbody>\n",
       "    <tr>\n",
       "      <th>0</th>\n",
       "      <td>0</td>\n",
       "      <td>0</td>\n",
       "      <td>0</td>\n",
       "      <td>0</td>\n",
       "      <td>0</td>\n",
       "      <td>0</td>\n",
       "      <td>1</td>\n",
       "      <td>0</td>\n",
       "      <td>0</td>\n",
       "      <td>0</td>\n",
       "      <td>0</td>\n",
       "      <td>0</td>\n",
       "      <td>0</td>\n",
       "      <td>0</td>\n",
       "      <td>0</td>\n",
       "      <td>0</td>\n",
       "      <td>0</td>\n",
       "      <td>0</td>\n",
       "    </tr>\n",
       "  </tbody>\n",
       "</table>\n",
       "</div>"
      ],
      "text/plain": [
       "   Fecha-I  Vlo-I  Ori-I  Des-I  Emp-I  Fecha-O  Vlo-O  Ori-O  Des-O  Emp-O  \\\n",
       "0        0      0      0      0      0        0      1      0      0      0   \n",
       "\n",
       "   DIA  MES  AÑO  DIANOM  TIPOVUELO  OPERA  SIGLAORI  SIGLADES  \n",
       "0    0    0    0       0          0      0         0         0  "
      ]
     },
     "execution_count": 7,
     "metadata": {},
     "output_type": "execute_result"
    }
   ],
   "source": [
    "df.isnull().sum().to_frame().T"
   ]
  },
  {
   "cell_type": "code",
   "execution_count": 8,
   "metadata": {},
   "outputs": [
    {
     "data": {
      "text/html": [
       "<div>\n",
       "<style scoped>\n",
       "    .dataframe tbody tr th:only-of-type {\n",
       "        vertical-align: middle;\n",
       "    }\n",
       "\n",
       "    .dataframe tbody tr th {\n",
       "        vertical-align: top;\n",
       "    }\n",
       "\n",
       "    .dataframe thead th {\n",
       "        text-align: right;\n",
       "    }\n",
       "</style>\n",
       "<table border=\"1\" class=\"dataframe\">\n",
       "  <thead>\n",
       "    <tr style=\"text-align: right;\">\n",
       "      <th></th>\n",
       "      <th>Fecha-I</th>\n",
       "      <th>Vlo-I</th>\n",
       "      <th>Ori-I</th>\n",
       "      <th>Des-I</th>\n",
       "      <th>Emp-I</th>\n",
       "      <th>Fecha-O</th>\n",
       "      <th>Vlo-O</th>\n",
       "      <th>Ori-O</th>\n",
       "      <th>Des-O</th>\n",
       "      <th>Emp-O</th>\n",
       "      <th>DIA</th>\n",
       "      <th>MES</th>\n",
       "      <th>AÑO</th>\n",
       "      <th>DIANOM</th>\n",
       "      <th>TIPOVUELO</th>\n",
       "      <th>OPERA</th>\n",
       "      <th>SIGLAORI</th>\n",
       "      <th>SIGLADES</th>\n",
       "    </tr>\n",
       "  </thead>\n",
       "  <tbody>\n",
       "    <tr>\n",
       "      <th>6068</th>\n",
       "      <td>2017-01-19 11:00:00</td>\n",
       "      <td>200</td>\n",
       "      <td>SCEL</td>\n",
       "      <td>SPJC</td>\n",
       "      <td>LAW</td>\n",
       "      <td>2017-01-19 11:03:00</td>\n",
       "      <td>NaN</td>\n",
       "      <td>SCEL</td>\n",
       "      <td>SPJC</td>\n",
       "      <td>56R</td>\n",
       "      <td>19</td>\n",
       "      <td>1</td>\n",
       "      <td>2017</td>\n",
       "      <td>Jueves</td>\n",
       "      <td>I</td>\n",
       "      <td>Latin American Wings</td>\n",
       "      <td>Santiago</td>\n",
       "      <td>Lima</td>\n",
       "    </tr>\n",
       "  </tbody>\n",
       "</table>\n",
       "</div>"
      ],
      "text/plain": [
       "                  Fecha-I Vlo-I Ori-I Des-I Emp-I              Fecha-O Vlo-O  \\\n",
       "6068  2017-01-19 11:00:00   200  SCEL  SPJC   LAW  2017-01-19 11:03:00   NaN   \n",
       "\n",
       "     Ori-O Des-O Emp-O  DIA  MES   AÑO  DIANOM TIPOVUELO  \\\n",
       "6068  SCEL  SPJC   56R   19    1  2017  Jueves         I   \n",
       "\n",
       "                     OPERA  SIGLAORI SIGLADES  \n",
       "6068  Latin American Wings  Santiago     Lima  "
      ]
     },
     "execution_count": 8,
     "metadata": {},
     "output_type": "execute_result"
    }
   ],
   "source": [
    "df[df.isnull().any(axis=1)]\n"
   ]
  },
  {
   "cell_type": "code",
   "execution_count": 9,
   "metadata": {},
   "outputs": [
    {
     "data": {
      "text/html": [
       "<div>\n",
       "<style scoped>\n",
       "    .dataframe tbody tr th:only-of-type {\n",
       "        vertical-align: middle;\n",
       "    }\n",
       "\n",
       "    .dataframe tbody tr th {\n",
       "        vertical-align: top;\n",
       "    }\n",
       "\n",
       "    .dataframe thead th {\n",
       "        text-align: right;\n",
       "    }\n",
       "</style>\n",
       "<table border=\"1\" class=\"dataframe\">\n",
       "  <thead>\n",
       "    <tr style=\"text-align: right;\">\n",
       "      <th></th>\n",
       "      <th>Fecha-I</th>\n",
       "      <th>Vlo-I</th>\n",
       "      <th>Ori-I</th>\n",
       "      <th>Des-I</th>\n",
       "      <th>Emp-I</th>\n",
       "      <th>Fecha-O</th>\n",
       "      <th>Vlo-O</th>\n",
       "      <th>Ori-O</th>\n",
       "      <th>Des-O</th>\n",
       "      <th>Emp-O</th>\n",
       "      <th>DIA</th>\n",
       "      <th>MES</th>\n",
       "      <th>AÑO</th>\n",
       "      <th>DIANOM</th>\n",
       "      <th>TIPOVUELO</th>\n",
       "      <th>OPERA</th>\n",
       "      <th>SIGLAORI</th>\n",
       "      <th>SIGLADES</th>\n",
       "    </tr>\n",
       "  </thead>\n",
       "  <tbody>\n",
       "    <tr>\n",
       "      <th>0</th>\n",
       "      <td>0.780752</td>\n",
       "      <td>0.008562</td>\n",
       "      <td>0.000015</td>\n",
       "      <td>0.000938</td>\n",
       "      <td>0.00044</td>\n",
       "      <td>0.920359</td>\n",
       "      <td>0.012624</td>\n",
       "      <td>0.000015</td>\n",
       "      <td>0.000924</td>\n",
       "      <td>0.000469</td>\n",
       "      <td>0.000455</td>\n",
       "      <td>0.000176</td>\n",
       "      <td>0.000029</td>\n",
       "      <td>0.000103</td>\n",
       "      <td>0.000029</td>\n",
       "      <td>0.000337</td>\n",
       "      <td>0.000015</td>\n",
       "      <td>0.000909</td>\n",
       "    </tr>\n",
       "  </tbody>\n",
       "</table>\n",
       "</div>"
      ],
      "text/plain": [
       "    Fecha-I     Vlo-I     Ori-I     Des-I    Emp-I   Fecha-O     Vlo-O  \\\n",
       "0  0.780752  0.008562  0.000015  0.000938  0.00044  0.920359  0.012624   \n",
       "\n",
       "      Ori-O     Des-O     Emp-O       DIA       MES       AÑO    DIANOM  \\\n",
       "0  0.000015  0.000924  0.000469  0.000455  0.000176  0.000029  0.000103   \n",
       "\n",
       "   TIPOVUELO     OPERA  SIGLAORI  SIGLADES  \n",
       "0   0.000029  0.000337  0.000015  0.000909  "
      ]
     },
     "metadata": {},
     "output_type": "display_data"
    }
   ],
   "source": [
    "ratio = df.nunique() / df.shape[0]\n",
    "display(ratio.to_frame().T)"
   ]
  },
  {
   "cell_type": "code",
   "execution_count": 10,
   "metadata": {},
   "outputs": [],
   "source": [
    "# since there is only one missing value we can drop the row \n",
    "df = df.dropna()"
   ]
  },
  {
   "cell_type": "code",
   "execution_count": 11,
   "metadata": {},
   "outputs": [
    {
     "data": {
      "text/html": [
       "<div>\n",
       "<style scoped>\n",
       "    .dataframe tbody tr th:only-of-type {\n",
       "        vertical-align: middle;\n",
       "    }\n",
       "\n",
       "    .dataframe tbody tr th {\n",
       "        vertical-align: top;\n",
       "    }\n",
       "\n",
       "    .dataframe thead th {\n",
       "        text-align: right;\n",
       "    }\n",
       "</style>\n",
       "<table border=\"1\" class=\"dataframe\">\n",
       "  <thead>\n",
       "    <tr style=\"text-align: right;\">\n",
       "      <th></th>\n",
       "      <th>Fecha-I</th>\n",
       "      <th>Vlo-I</th>\n",
       "      <th>Ori-I</th>\n",
       "      <th>Des-I</th>\n",
       "      <th>Emp-I</th>\n",
       "      <th>Fecha-O</th>\n",
       "      <th>Vlo-O</th>\n",
       "      <th>Ori-O</th>\n",
       "      <th>Des-O</th>\n",
       "      <th>Emp-O</th>\n",
       "      <th>DIA</th>\n",
       "      <th>MES</th>\n",
       "      <th>AÑO</th>\n",
       "      <th>DIANOM</th>\n",
       "      <th>TIPOVUELO</th>\n",
       "      <th>OPERA</th>\n",
       "      <th>SIGLAORI</th>\n",
       "      <th>SIGLADES</th>\n",
       "    </tr>\n",
       "  </thead>\n",
       "  <tbody>\n",
       "    <tr>\n",
       "      <th>0</th>\n",
       "      <td>object</td>\n",
       "      <td>object</td>\n",
       "      <td>object</td>\n",
       "      <td>object</td>\n",
       "      <td>object</td>\n",
       "      <td>object</td>\n",
       "      <td>object</td>\n",
       "      <td>object</td>\n",
       "      <td>object</td>\n",
       "      <td>object</td>\n",
       "      <td>int64</td>\n",
       "      <td>int64</td>\n",
       "      <td>int64</td>\n",
       "      <td>object</td>\n",
       "      <td>object</td>\n",
       "      <td>object</td>\n",
       "      <td>object</td>\n",
       "      <td>object</td>\n",
       "    </tr>\n",
       "  </tbody>\n",
       "</table>\n",
       "</div>"
      ],
      "text/plain": [
       "  Fecha-I   Vlo-I   Ori-I   Des-I   Emp-I Fecha-O   Vlo-O   Ori-O   Des-O  \\\n",
       "0  object  object  object  object  object  object  object  object  object   \n",
       "\n",
       "    Emp-O    DIA    MES    AÑO  DIANOM TIPOVUELO   OPERA SIGLAORI SIGLADES  \n",
       "0  object  int64  int64  int64  object    object  object   object   object  "
      ]
     },
     "execution_count": 11,
     "metadata": {},
     "output_type": "execute_result"
    }
   ],
   "source": [
    "df.dtypes.to_frame().T\n"
   ]
  },
  {
   "cell_type": "code",
   "execution_count": 12,
   "metadata": {},
   "outputs": [],
   "source": [
    "# conver the date columns to datetime (Fecha-I\t and Fecha-O) \n",
    "df['Fecha-I'] = pd.to_datetime(df['Fecha-I'])\n",
    "df['Fecha-O'] = pd.to_datetime(df['Fecha-O'])\n"
   ]
  },
  {
   "cell_type": "code",
   "execution_count": 13,
   "metadata": {},
   "outputs": [
    {
     "data": {
      "text/html": [
       "<div>\n",
       "<style scoped>\n",
       "    .dataframe tbody tr th:only-of-type {\n",
       "        vertical-align: middle;\n",
       "    }\n",
       "\n",
       "    .dataframe tbody tr th {\n",
       "        vertical-align: top;\n",
       "    }\n",
       "\n",
       "    .dataframe thead th {\n",
       "        text-align: right;\n",
       "    }\n",
       "</style>\n",
       "<table border=\"1\" class=\"dataframe\">\n",
       "  <thead>\n",
       "    <tr style=\"text-align: right;\">\n",
       "      <th></th>\n",
       "      <th>Fecha-I</th>\n",
       "      <th>Vlo-I</th>\n",
       "      <th>Ori-I</th>\n",
       "      <th>Des-I</th>\n",
       "      <th>Emp-I</th>\n",
       "      <th>Fecha-O</th>\n",
       "      <th>Vlo-O</th>\n",
       "      <th>Ori-O</th>\n",
       "      <th>Des-O</th>\n",
       "      <th>Emp-O</th>\n",
       "      <th>DIA</th>\n",
       "      <th>MES</th>\n",
       "      <th>AÑO</th>\n",
       "      <th>DIANOM</th>\n",
       "      <th>TIPOVUELO</th>\n",
       "      <th>OPERA</th>\n",
       "      <th>SIGLAORI</th>\n",
       "      <th>SIGLADES</th>\n",
       "    </tr>\n",
       "  </thead>\n",
       "  <tbody>\n",
       "    <tr>\n",
       "      <th>0</th>\n",
       "      <td>datetime64[ns]</td>\n",
       "      <td>object</td>\n",
       "      <td>object</td>\n",
       "      <td>object</td>\n",
       "      <td>object</td>\n",
       "      <td>datetime64[ns]</td>\n",
       "      <td>object</td>\n",
       "      <td>object</td>\n",
       "      <td>object</td>\n",
       "      <td>object</td>\n",
       "      <td>int64</td>\n",
       "      <td>int64</td>\n",
       "      <td>int64</td>\n",
       "      <td>object</td>\n",
       "      <td>object</td>\n",
       "      <td>object</td>\n",
       "      <td>object</td>\n",
       "      <td>object</td>\n",
       "    </tr>\n",
       "  </tbody>\n",
       "</table>\n",
       "</div>"
      ],
      "text/plain": [
       "          Fecha-I   Vlo-I   Ori-I   Des-I   Emp-I         Fecha-O   Vlo-O  \\\n",
       "0  datetime64[ns]  object  object  object  object  datetime64[ns]  object   \n",
       "\n",
       "    Ori-O   Des-O   Emp-O    DIA    MES    AÑO  DIANOM TIPOVUELO   OPERA  \\\n",
       "0  object  object  object  int64  int64  int64  object    object  object   \n",
       "\n",
       "  SIGLAORI SIGLADES  \n",
       "0   object   object  "
      ]
     },
     "execution_count": 13,
     "metadata": {},
     "output_type": "execute_result"
    }
   ],
   "source": [
    "df.dtypes.to_frame().T\n"
   ]
  },
  {
   "cell_type": "code",
   "execution_count": 14,
   "metadata": {},
   "outputs": [],
   "source": [
    "# create two new columns for the year and month  \n",
    "df['year'] = df['Fecha-I'].dt.year\n",
    "df['month'] = df['Fecha-I'].dt.month\n"
   ]
  },
  {
   "attachments": {},
   "cell_type": "markdown",
   "metadata": {},
   "source": [
    "## Univariate analysis "
   ]
  },
  {
   "cell_type": "code",
   "execution_count": 15,
   "metadata": {},
   "outputs": [
    {
     "data": {
      "text/html": [
       "<div>\n",
       "<style scoped>\n",
       "    .dataframe tbody tr th:only-of-type {\n",
       "        vertical-align: middle;\n",
       "    }\n",
       "\n",
       "    .dataframe tbody tr th {\n",
       "        vertical-align: top;\n",
       "    }\n",
       "\n",
       "    .dataframe thead th {\n",
       "        text-align: right;\n",
       "    }\n",
       "</style>\n",
       "<table border=\"1\" class=\"dataframe\">\n",
       "  <thead>\n",
       "    <tr style=\"text-align: right;\">\n",
       "      <th></th>\n",
       "      <th>Fecha-I</th>\n",
       "      <th>Vlo-I</th>\n",
       "      <th>Ori-I</th>\n",
       "      <th>Des-I</th>\n",
       "      <th>Emp-I</th>\n",
       "      <th>Fecha-O</th>\n",
       "      <th>Vlo-O</th>\n",
       "      <th>Ori-O</th>\n",
       "      <th>Des-O</th>\n",
       "      <th>Emp-O</th>\n",
       "      <th>DIA</th>\n",
       "      <th>MES</th>\n",
       "      <th>AÑO</th>\n",
       "      <th>DIANOM</th>\n",
       "      <th>TIPOVUELO</th>\n",
       "      <th>OPERA</th>\n",
       "      <th>SIGLAORI</th>\n",
       "      <th>SIGLADES</th>\n",
       "      <th>year</th>\n",
       "      <th>month</th>\n",
       "    </tr>\n",
       "  </thead>\n",
       "  <tbody>\n",
       "    <tr>\n",
       "      <th>0</th>\n",
       "      <td>2017-01-01 23:30:00</td>\n",
       "      <td>226</td>\n",
       "      <td>SCEL</td>\n",
       "      <td>KMIA</td>\n",
       "      <td>AAL</td>\n",
       "      <td>2017-01-01 23:33:00</td>\n",
       "      <td>226</td>\n",
       "      <td>SCEL</td>\n",
       "      <td>KMIA</td>\n",
       "      <td>AAL</td>\n",
       "      <td>1</td>\n",
       "      <td>1</td>\n",
       "      <td>2017</td>\n",
       "      <td>Domingo</td>\n",
       "      <td>I</td>\n",
       "      <td>American Airlines</td>\n",
       "      <td>Santiago</td>\n",
       "      <td>Miami</td>\n",
       "      <td>2017</td>\n",
       "      <td>1</td>\n",
       "    </tr>\n",
       "    <tr>\n",
       "      <th>1</th>\n",
       "      <td>2017-01-02 23:30:00</td>\n",
       "      <td>226</td>\n",
       "      <td>SCEL</td>\n",
       "      <td>KMIA</td>\n",
       "      <td>AAL</td>\n",
       "      <td>2017-01-02 23:39:00</td>\n",
       "      <td>226</td>\n",
       "      <td>SCEL</td>\n",
       "      <td>KMIA</td>\n",
       "      <td>AAL</td>\n",
       "      <td>2</td>\n",
       "      <td>1</td>\n",
       "      <td>2017</td>\n",
       "      <td>Lunes</td>\n",
       "      <td>I</td>\n",
       "      <td>American Airlines</td>\n",
       "      <td>Santiago</td>\n",
       "      <td>Miami</td>\n",
       "      <td>2017</td>\n",
       "      <td>1</td>\n",
       "    </tr>\n",
       "    <tr>\n",
       "      <th>2</th>\n",
       "      <td>2017-01-03 23:30:00</td>\n",
       "      <td>226</td>\n",
       "      <td>SCEL</td>\n",
       "      <td>KMIA</td>\n",
       "      <td>AAL</td>\n",
       "      <td>2017-01-03 23:39:00</td>\n",
       "      <td>226</td>\n",
       "      <td>SCEL</td>\n",
       "      <td>KMIA</td>\n",
       "      <td>AAL</td>\n",
       "      <td>3</td>\n",
       "      <td>1</td>\n",
       "      <td>2017</td>\n",
       "      <td>Martes</td>\n",
       "      <td>I</td>\n",
       "      <td>American Airlines</td>\n",
       "      <td>Santiago</td>\n",
       "      <td>Miami</td>\n",
       "      <td>2017</td>\n",
       "      <td>1</td>\n",
       "    </tr>\n",
       "    <tr>\n",
       "      <th>3</th>\n",
       "      <td>2017-01-04 23:30:00</td>\n",
       "      <td>226</td>\n",
       "      <td>SCEL</td>\n",
       "      <td>KMIA</td>\n",
       "      <td>AAL</td>\n",
       "      <td>2017-01-04 23:33:00</td>\n",
       "      <td>226</td>\n",
       "      <td>SCEL</td>\n",
       "      <td>KMIA</td>\n",
       "      <td>AAL</td>\n",
       "      <td>4</td>\n",
       "      <td>1</td>\n",
       "      <td>2017</td>\n",
       "      <td>Miercoles</td>\n",
       "      <td>I</td>\n",
       "      <td>American Airlines</td>\n",
       "      <td>Santiago</td>\n",
       "      <td>Miami</td>\n",
       "      <td>2017</td>\n",
       "      <td>1</td>\n",
       "    </tr>\n",
       "    <tr>\n",
       "      <th>4</th>\n",
       "      <td>2017-01-05 23:30:00</td>\n",
       "      <td>226</td>\n",
       "      <td>SCEL</td>\n",
       "      <td>KMIA</td>\n",
       "      <td>AAL</td>\n",
       "      <td>2017-01-05 23:28:00</td>\n",
       "      <td>226</td>\n",
       "      <td>SCEL</td>\n",
       "      <td>KMIA</td>\n",
       "      <td>AAL</td>\n",
       "      <td>5</td>\n",
       "      <td>1</td>\n",
       "      <td>2017</td>\n",
       "      <td>Jueves</td>\n",
       "      <td>I</td>\n",
       "      <td>American Airlines</td>\n",
       "      <td>Santiago</td>\n",
       "      <td>Miami</td>\n",
       "      <td>2017</td>\n",
       "      <td>1</td>\n",
       "    </tr>\n",
       "  </tbody>\n",
       "</table>\n",
       "</div>"
      ],
      "text/plain": [
       "              Fecha-I Vlo-I Ori-I Des-I Emp-I             Fecha-O Vlo-O Ori-O  \\\n",
       "0 2017-01-01 23:30:00   226  SCEL  KMIA   AAL 2017-01-01 23:33:00   226  SCEL   \n",
       "1 2017-01-02 23:30:00   226  SCEL  KMIA   AAL 2017-01-02 23:39:00   226  SCEL   \n",
       "2 2017-01-03 23:30:00   226  SCEL  KMIA   AAL 2017-01-03 23:39:00   226  SCEL   \n",
       "3 2017-01-04 23:30:00   226  SCEL  KMIA   AAL 2017-01-04 23:33:00   226  SCEL   \n",
       "4 2017-01-05 23:30:00   226  SCEL  KMIA   AAL 2017-01-05 23:28:00   226  SCEL   \n",
       "\n",
       "  Des-O Emp-O  DIA  MES   AÑO     DIANOM TIPOVUELO              OPERA  \\\n",
       "0  KMIA   AAL    1    1  2017    Domingo         I  American Airlines   \n",
       "1  KMIA   AAL    2    1  2017      Lunes         I  American Airlines   \n",
       "2  KMIA   AAL    3    1  2017     Martes         I  American Airlines   \n",
       "3  KMIA   AAL    4    1  2017  Miercoles         I  American Airlines   \n",
       "4  KMIA   AAL    5    1  2017     Jueves         I  American Airlines   \n",
       "\n",
       "   SIGLAORI SIGLADES  year  month  \n",
       "0  Santiago    Miami  2017      1  \n",
       "1  Santiago    Miami  2017      1  \n",
       "2  Santiago    Miami  2017      1  \n",
       "3  Santiago    Miami  2017      1  \n",
       "4  Santiago    Miami  2017      1  "
      ]
     },
     "execution_count": 15,
     "metadata": {},
     "output_type": "execute_result"
    }
   ],
   "source": [
    "df.head()"
   ]
  },
  {
   "attachments": {},
   "cell_type": "markdown",
   "metadata": {},
   "source": [
    "I'll start looking for patterns in the data that may help to create decide the data transformation steps.\n"
   ]
  },
  {
   "cell_type": "code",
   "execution_count": 16,
   "metadata": {},
   "outputs": [
    {
     "data": {
      "image/png": "[encoded data removed]",
      "text/plain": [
       "<Figure size 640x480 with 1 Axes>"
      ]
     },
     "metadata": {},
     "output_type": "display_data"
    }
   ],
   "source": [
    "# From the above plot we can see that the number of flights is not evenly distributed over the months. \n",
    "# It seems to be some seasonal pattern, since the months with the highest number of flights are the consecutive (October, November, December and January) this could be due to the summer and vacation season in Chile \n",
    "\n",
    "make_bar_plot(df,'MES','Percentage of flights per month')"
   ]
  },
  {
   "cell_type": "code",
   "execution_count": 17,
   "metadata": {},
   "outputs": [
    {
     "data": {
      "image/png": "[encoded data removed]",
      "text/plain": [
       "<Figure size 640x480 with 1 Axes>"
      ]
     },
     "metadata": {},
     "output_type": "display_data"
    }
   ],
   "source": [
    "make_bar_plot(df,'DIA','Percentage of flights per day')"
   ]
  },
  {
   "cell_type": "code",
   "execution_count": 18,
   "metadata": {},
   "outputs": [
    {
     "data": {
      "image/png": "[encoded data removed]",
      "text/plain": [
       "<Figure size 640x480 with 1 Axes>"
      ]
     },
     "metadata": {},
     "output_type": "display_data"
    }
   ],
   "source": [
    "# For the days we can see an interesting pattern,\n",
    "# the number of fligths on monday is the higher than the average which could be related to work, to take the most of the weekdays  \n",
    "# a similar pattern is observed on thrusday and friday which could be related to travel for the weekend \n",
    "\n",
    "day_map = {'Lunes':1, 'Martes':2, 'Miercoles':3, 'Jueves':4, 'Viernes':5, 'Sabado':6, 'Domingo':7}\n",
    "\n",
    "make_bar_plot(df,'DIANOM','Percentage of flights per day',day_map)"
   ]
  },
  {
   "cell_type": "code",
   "execution_count": 19,
   "metadata": {},
   "outputs": [
    {
     "name": "stdout",
     "output_type": "stream",
     "text": [
      "'Vlo-I ' has 584 unique values\n"
     ]
    },
    {
     "data": {
      "text/html": [
       "<div>\n",
       "<style scoped>\n",
       "    .dataframe tbody tr th:only-of-type {\n",
       "        vertical-align: middle;\n",
       "    }\n",
       "\n",
       "    .dataframe tbody tr th {\n",
       "        vertical-align: top;\n",
       "    }\n",
       "\n",
       "    .dataframe thead th {\n",
       "        text-align: right;\n",
       "    }\n",
       "</style>\n",
       "<table border=\"1\" class=\"dataframe\">\n",
       "  <thead>\n",
       "    <tr style=\"text-align: right;\">\n",
       "      <th></th>\n",
       "      <th>174</th>\n",
       "      <th>11</th>\n",
       "      <th>116</th>\n",
       "      <th>150</th>\n",
       "      <th>704</th>\n",
       "      <th>162</th>\n",
       "      <th>164</th>\n",
       "      <th>118</th>\n",
       "      <th>172</th>\n",
       "      <th>170</th>\n",
       "      <th>...</th>\n",
       "      <th>1218</th>\n",
       "      <th>1906</th>\n",
       "      <th>1158</th>\n",
       "      <th>1154</th>\n",
       "      <th>1351</th>\n",
       "      <th>1121</th>\n",
       "      <th>1116</th>\n",
       "      <th>1065</th>\n",
       "      <th>1054</th>\n",
       "      <th>1234</th>\n",
       "    </tr>\n",
       "  </thead>\n",
       "  <tbody>\n",
       "    <tr>\n",
       "      <th>Vlo-I</th>\n",
       "      <td>686</td>\n",
       "      <td>645</td>\n",
       "      <td>608</td>\n",
       "      <td>557</td>\n",
       "      <td>556</td>\n",
       "      <td>553</td>\n",
       "      <td>550</td>\n",
       "      <td>508</td>\n",
       "      <td>498</td>\n",
       "      <td>495</td>\n",
       "      <td>...</td>\n",
       "      <td>1</td>\n",
       "      <td>1</td>\n",
       "      <td>1</td>\n",
       "      <td>1</td>\n",
       "      <td>1</td>\n",
       "      <td>1</td>\n",
       "      <td>1</td>\n",
       "      <td>1</td>\n",
       "      <td>1</td>\n",
       "      <td>1</td>\n",
       "    </tr>\n",
       "  </tbody>\n",
       "</table>\n",
       "<p>1 rows × 584 columns</p>\n",
       "</div>"
      ],
      "text/plain": [
       "       174   11  116  150  704  162  164  118  172  170  ...  1218  1906  \\\n",
       "Vlo-I  686  645  608  557  556  553  550  508  498  495  ...     1     1   \n",
       "\n",
       "       1158  1154  1351  1121  1116  1065  1054  1234  \n",
       "Vlo-I     1     1     1     1     1     1     1     1  \n",
       "\n",
       "[1 rows x 584 columns]"
      ]
     },
     "metadata": {},
     "output_type": "display_data"
    },
    {
     "name": "stdout",
     "output_type": "stream",
     "text": [
      "'Vlo-O ' has 861 unique values\n"
     ]
    },
    {
     "data": {
      "text/html": [
       "<div>\n",
       "<style scoped>\n",
       "    .dataframe tbody tr th:only-of-type {\n",
       "        vertical-align: middle;\n",
       "    }\n",
       "\n",
       "    .dataframe tbody tr th {\n",
       "        vertical-align: top;\n",
       "    }\n",
       "\n",
       "    .dataframe thead th {\n",
       "        text-align: right;\n",
       "    }\n",
       "</style>\n",
       "<table border=\"1\" class=\"dataframe\">\n",
       "  <thead>\n",
       "    <tr style=\"text-align: right;\">\n",
       "      <th></th>\n",
       "      <th>174</th>\n",
       "      <th>11</th>\n",
       "      <th>116</th>\n",
       "      <th>150</th>\n",
       "      <th>704</th>\n",
       "      <th>162</th>\n",
       "      <th>164</th>\n",
       "      <th>118</th>\n",
       "      <th>172</th>\n",
       "      <th>170</th>\n",
       "      <th>...</th>\n",
       "      <th>9701</th>\n",
       "      <th>9662</th>\n",
       "      <th>9629</th>\n",
       "      <th>9600</th>\n",
       "      <th>9956</th>\n",
       "      <th>2726</th>\n",
       "      <th>9860</th>\n",
       "      <th>9858</th>\n",
       "      <th>1297</th>\n",
       "      <th>1134</th>\n",
       "    </tr>\n",
       "  </thead>\n",
       "  <tbody>\n",
       "    <tr>\n",
       "      <th>Vlo-O</th>\n",
       "      <td>649</td>\n",
       "      <td>646</td>\n",
       "      <td>608</td>\n",
       "      <td>517</td>\n",
       "      <td>514</td>\n",
       "      <td>512</td>\n",
       "      <td>508</td>\n",
       "      <td>507</td>\n",
       "      <td>466</td>\n",
       "      <td>452</td>\n",
       "      <td>...</td>\n",
       "      <td>1</td>\n",
       "      <td>1</td>\n",
       "      <td>1</td>\n",
       "      <td>1</td>\n",
       "      <td>1</td>\n",
       "      <td>1</td>\n",
       "      <td>1</td>\n",
       "      <td>1</td>\n",
       "      <td>1</td>\n",
       "      <td>1</td>\n",
       "    </tr>\n",
       "  </tbody>\n",
       "</table>\n",
       "<p>1 rows × 861 columns</p>\n",
       "</div>"
      ],
      "text/plain": [
       "       174   11  116  150  704  162  164  118  172  170  ...  9701  9662  \\\n",
       "Vlo-O  649  646  608  517  514  512  508  507  466  452  ...     1     1   \n",
       "\n",
       "       9629  9600  9956  2726  9860  9858  1297  1134  \n",
       "Vlo-O     1     1     1     1     1     1     1     1  \n",
       "\n",
       "[1 rows x 861 columns]"
      ]
     },
     "metadata": {},
     "output_type": "display_data"
    }
   ],
   "source": [
    "# The Scheduled fligths have 116 more unique values than the actual fligths, \n",
    "# this could have a correlation with the delay of the fligths \n",
    "\n",
    "print (\"'Vlo-I ' has {} unique values\".format(df['Vlo-I'].nunique()))\n",
    "display (df['Vlo-I'].value_counts(dropna=False).to_frame().T)\n",
    "\n",
    "print (\"'Vlo-O ' has {} unique values\".format(df['Vlo-O'].nunique()))\n",
    "display (df['Vlo-O'].value_counts(dropna=False).to_frame().T)"
   ]
  },
  {
   "cell_type": "code",
   "execution_count": 20,
   "metadata": {},
   "outputs": [
    {
     "data": {
      "text/html": [
       "<div>\n",
       "<style scoped>\n",
       "    .dataframe tbody tr th:only-of-type {\n",
       "        vertical-align: middle;\n",
       "    }\n",
       "\n",
       "    .dataframe tbody tr th {\n",
       "        vertical-align: top;\n",
       "    }\n",
       "\n",
       "    .dataframe thead th {\n",
       "        text-align: right;\n",
       "    }\n",
       "</style>\n",
       "<table border=\"1\" class=\"dataframe\">\n",
       "  <thead>\n",
       "    <tr style=\"text-align: right;\">\n",
       "      <th></th>\n",
       "      <th>SCEL</th>\n",
       "    </tr>\n",
       "  </thead>\n",
       "  <tbody>\n",
       "    <tr>\n",
       "      <th>Ori-I</th>\n",
       "      <td>68205</td>\n",
       "    </tr>\n",
       "  </tbody>\n",
       "</table>\n",
       "</div>"
      ],
      "text/plain": [
       "        SCEL\n",
       "Ori-I  68205"
      ]
     },
     "metadata": {},
     "output_type": "display_data"
    },
    {
     "data": {
      "text/html": [
       "<div>\n",
       "<style scoped>\n",
       "    .dataframe tbody tr th:only-of-type {\n",
       "        vertical-align: middle;\n",
       "    }\n",
       "\n",
       "    .dataframe tbody tr th {\n",
       "        vertical-align: top;\n",
       "    }\n",
       "\n",
       "    .dataframe thead th {\n",
       "        text-align: right;\n",
       "    }\n",
       "</style>\n",
       "<table border=\"1\" class=\"dataframe\">\n",
       "  <thead>\n",
       "    <tr style=\"text-align: right;\">\n",
       "      <th></th>\n",
       "      <th>SCEL</th>\n",
       "    </tr>\n",
       "  </thead>\n",
       "  <tbody>\n",
       "    <tr>\n",
       "      <th>Ori-O</th>\n",
       "      <td>68205</td>\n",
       "    </tr>\n",
       "  </tbody>\n",
       "</table>\n",
       "</div>"
      ],
      "text/plain": [
       "        SCEL\n",
       "Ori-O  68205"
      ]
     },
     "metadata": {},
     "output_type": "display_data"
    }
   ],
   "source": [
    "# The variables 'Vlo-I' and 'Vlo-O' are constant, hence we will not use them in the rest of the analysis \n",
    "\n",
    "display (df['Ori-I'].value_counts(dropna=False).to_frame().T)\n",
    "\n",
    "display (df['Ori-O'].value_counts(dropna=False).to_frame().T)\n",
    "\n",
    "\n",
    "df = df.drop(['Vlo-I','Vlo-O'],axis=1) "
   ]
  },
  {
   "cell_type": "code",
   "execution_count": 21,
   "metadata": {},
   "outputs": [
    {
     "data": {
      "text/html": [
       "<div>\n",
       "<style scoped>\n",
       "    .dataframe tbody tr th:only-of-type {\n",
       "        vertical-align: middle;\n",
       "    }\n",
       "\n",
       "    .dataframe tbody tr th {\n",
       "        vertical-align: top;\n",
       "    }\n",
       "\n",
       "    .dataframe thead th {\n",
       "        text-align: right;\n",
       "    }\n",
       "</style>\n",
       "<table border=\"1\" class=\"dataframe\">\n",
       "  <thead>\n",
       "    <tr style=\"text-align: right;\">\n",
       "      <th></th>\n",
       "      <th>SCFA</th>\n",
       "      <th>SPJC</th>\n",
       "      <th>SCCF</th>\n",
       "      <th>SCTE</th>\n",
       "      <th>SCIE</th>\n",
       "      <th>SCDA</th>\n",
       "      <th>SBGR</th>\n",
       "      <th>SAEZ</th>\n",
       "      <th>SABE</th>\n",
       "      <th>SCQP</th>\n",
       "      <th>...</th>\n",
       "      <th>SULS</th>\n",
       "      <th>SBCT</th>\n",
       "      <th>SAZS</th>\n",
       "      <th>SLCB</th>\n",
       "      <th>EGYP</th>\n",
       "      <th>SBFI</th>\n",
       "      <th>SPSO</th>\n",
       "      <th>SEQU</th>\n",
       "      <th>SEQM</th>\n",
       "      <th>SARI</th>\n",
       "    </tr>\n",
       "  </thead>\n",
       "  <tbody>\n",
       "    <tr>\n",
       "      <th>Des-I</th>\n",
       "      <td>5787</td>\n",
       "      <td>5269</td>\n",
       "      <td>5145</td>\n",
       "      <td>4357</td>\n",
       "      <td>3995</td>\n",
       "      <td>3747</td>\n",
       "      <td>3570</td>\n",
       "      <td>3240</td>\n",
       "      <td>3094</td>\n",
       "      <td>2583</td>\n",
       "      <td>...</td>\n",
       "      <td>6</td>\n",
       "      <td>3</td>\n",
       "      <td>2</td>\n",
       "      <td>1</td>\n",
       "      <td>1</td>\n",
       "      <td>1</td>\n",
       "      <td>1</td>\n",
       "      <td>1</td>\n",
       "      <td>1</td>\n",
       "      <td>1</td>\n",
       "    </tr>\n",
       "  </tbody>\n",
       "</table>\n",
       "<p>1 rows × 64 columns</p>\n",
       "</div>"
      ],
      "text/plain": [
       "       SCFA  SPJC  SCCF  SCTE  SCIE  SCDA  SBGR  SAEZ  SABE  SCQP  ...  SULS  \\\n",
       "Des-I  5787  5269  5145  4357  3995  3747  3570  3240  3094  2583  ...     6   \n",
       "\n",
       "       SBCT  SAZS  SLCB  EGYP  SBFI  SPSO  SEQU  SEQM  SARI  \n",
       "Des-I     3     2     1     1     1     1     1     1     1  \n",
       "\n",
       "[1 rows x 64 columns]"
      ]
     },
     "metadata": {},
     "output_type": "display_data"
    },
    {
     "data": {
      "text/html": [
       "<div>\n",
       "<style scoped>\n",
       "    .dataframe tbody tr th:only-of-type {\n",
       "        vertical-align: middle;\n",
       "    }\n",
       "\n",
       "    .dataframe tbody tr th {\n",
       "        vertical-align: top;\n",
       "    }\n",
       "\n",
       "    .dataframe thead th {\n",
       "        text-align: right;\n",
       "    }\n",
       "</style>\n",
       "<table border=\"1\" class=\"dataframe\">\n",
       "  <thead>\n",
       "    <tr style=\"text-align: right;\">\n",
       "      <th></th>\n",
       "      <th>SCFA</th>\n",
       "      <th>SPJC</th>\n",
       "      <th>SCCF</th>\n",
       "      <th>SCTE</th>\n",
       "      <th>SCIE</th>\n",
       "      <th>SCDA</th>\n",
       "      <th>SBGR</th>\n",
       "      <th>SAEZ</th>\n",
       "      <th>SABE</th>\n",
       "      <th>SCQP</th>\n",
       "      <th>...</th>\n",
       "      <th>SULS</th>\n",
       "      <th>SAWH</th>\n",
       "      <th>SBCT</th>\n",
       "      <th>SBFI</th>\n",
       "      <th>SAZS</th>\n",
       "      <th>SEQM</th>\n",
       "      <th>KIAD</th>\n",
       "      <th>SPSO</th>\n",
       "      <th>EGYP</th>\n",
       "      <th>SLCB</th>\n",
       "    </tr>\n",
       "  </thead>\n",
       "  <tbody>\n",
       "    <tr>\n",
       "      <th>Des-O</th>\n",
       "      <td>5786</td>\n",
       "      <td>5269</td>\n",
       "      <td>5146</td>\n",
       "      <td>4357</td>\n",
       "      <td>3993</td>\n",
       "      <td>3747</td>\n",
       "      <td>3569</td>\n",
       "      <td>3241</td>\n",
       "      <td>3094</td>\n",
       "      <td>2589</td>\n",
       "      <td>...</td>\n",
       "      <td>6</td>\n",
       "      <td>6</td>\n",
       "      <td>3</td>\n",
       "      <td>2</td>\n",
       "      <td>2</td>\n",
       "      <td>2</td>\n",
       "      <td>1</td>\n",
       "      <td>1</td>\n",
       "      <td>1</td>\n",
       "      <td>1</td>\n",
       "    </tr>\n",
       "  </tbody>\n",
       "</table>\n",
       "<p>1 rows × 63 columns</p>\n",
       "</div>"
      ],
      "text/plain": [
       "       SCFA  SPJC  SCCF  SCTE  SCIE  SCDA  SBGR  SAEZ  SABE  SCQP  ...  SULS  \\\n",
       "Des-O  5786  5269  5146  4357  3993  3747  3569  3241  3094  2589  ...     6   \n",
       "\n",
       "       SAWH  SBCT  SBFI  SAZS  SEQM  KIAD  SPSO  EGYP  SLCB  \n",
       "Des-O     6     3     2     2     2     1     1     1     1  \n",
       "\n",
       "[1 rows x 63 columns]"
      ]
     },
     "metadata": {},
     "output_type": "display_data"
    }
   ],
   "source": [
    "# At first glance we can see there are a few differences between Des-I and Des-O, \n",
    "# this could be relevant for stimated delays \n",
    "\n",
    "display (df['Des-I'].value_counts(dropna=False).to_frame().T)\n",
    "\n",
    "display (df['Des-O'].value_counts(dropna=False).to_frame().T)"
   ]
  },
  {
   "cell_type": "code",
   "execution_count": 22,
   "metadata": {},
   "outputs": [
    {
     "data": {
      "text/html": [
       "<div>\n",
       "<style scoped>\n",
       "    .dataframe tbody tr th:only-of-type {\n",
       "        vertical-align: middle;\n",
       "    }\n",
       "\n",
       "    .dataframe tbody tr th {\n",
       "        vertical-align: top;\n",
       "    }\n",
       "\n",
       "    .dataframe thead th {\n",
       "        text-align: right;\n",
       "    }\n",
       "</style>\n",
       "<table border=\"1\" class=\"dataframe\">\n",
       "  <thead>\n",
       "    <tr style=\"text-align: right;\">\n",
       "      <th></th>\n",
       "      <th>LAN</th>\n",
       "      <th>SKU</th>\n",
       "      <th>TAM</th>\n",
       "      <th>ARG</th>\n",
       "      <th>CMP</th>\n",
       "      <th>LAW</th>\n",
       "      <th>AVA</th>\n",
       "      <th>JAT</th>\n",
       "      <th>GLO</th>\n",
       "      <th>AAL</th>\n",
       "      <th>...</th>\n",
       "      <th>BAW</th>\n",
       "      <th>QFU</th>\n",
       "      <th>JMR</th>\n",
       "      <th>LRC</th>\n",
       "      <th>AUT</th>\n",
       "      <th>PUE</th>\n",
       "      <th>LXP</th>\n",
       "      <th>LPE</th>\n",
       "      <th>DSM</th>\n",
       "      <th>LNE</th>\n",
       "    </tr>\n",
       "  </thead>\n",
       "  <tbody>\n",
       "    <tr>\n",
       "      <th>Emp-I</th>\n",
       "      <td>37611</td>\n",
       "      <td>14298</td>\n",
       "      <td>3049</td>\n",
       "      <td>1949</td>\n",
       "      <td>1850</td>\n",
       "      <td>1573</td>\n",
       "      <td>1152</td>\n",
       "      <td>1095</td>\n",
       "      <td>806</td>\n",
       "      <td>757</td>\n",
       "      <td>...</td>\n",
       "      <td>205</td>\n",
       "      <td>195</td>\n",
       "      <td>100</td>\n",
       "      <td>92</td>\n",
       "      <td>74</td>\n",
       "      <td>49</td>\n",
       "      <td>9</td>\n",
       "      <td>4</td>\n",
       "      <td>2</td>\n",
       "      <td>1</td>\n",
       "    </tr>\n",
       "  </tbody>\n",
       "</table>\n",
       "<p>1 rows × 30 columns</p>\n",
       "</div>"
      ],
      "text/plain": [
       "         LAN    SKU   TAM   ARG   CMP   LAW   AVA   JAT  GLO  AAL  ...  BAW  \\\n",
       "Emp-I  37611  14298  3049  1949  1850  1573  1152  1095  806  757  ...  205   \n",
       "\n",
       "       QFU  JMR  LRC  AUT  PUE  LXP  LPE  DSM  LNE  \n",
       "Emp-I  195  100   92   74   49    9    4    2    1  \n",
       "\n",
       "[1 rows x 30 columns]"
      ]
     },
     "metadata": {},
     "output_type": "display_data"
    },
    {
     "data": {
      "text/html": [
       "<div>\n",
       "<style scoped>\n",
       "    .dataframe tbody tr th:only-of-type {\n",
       "        vertical-align: middle;\n",
       "    }\n",
       "\n",
       "    .dataframe tbody tr th {\n",
       "        vertical-align: top;\n",
       "    }\n",
       "\n",
       "    .dataframe thead th {\n",
       "        text-align: right;\n",
       "    }\n",
       "</style>\n",
       "<table border=\"1\" class=\"dataframe\">\n",
       "  <thead>\n",
       "    <tr style=\"text-align: right;\">\n",
       "      <th></th>\n",
       "      <th>LAN</th>\n",
       "      <th>LXP</th>\n",
       "      <th>SKU</th>\n",
       "      <th>TAM</th>\n",
       "      <th>ARG</th>\n",
       "      <th>CMP</th>\n",
       "      <th>JMR</th>\n",
       "      <th>LPE</th>\n",
       "      <th>JAT</th>\n",
       "      <th>AVA</th>\n",
       "      <th>...</th>\n",
       "      <th>AZA</th>\n",
       "      <th>KLM</th>\n",
       "      <th>LAP</th>\n",
       "      <th>BAW</th>\n",
       "      <th>QFA</th>\n",
       "      <th>AUT</th>\n",
       "      <th>PUE</th>\n",
       "      <th>56R</th>\n",
       "      <th>48O</th>\n",
       "      <th>TPU</th>\n",
       "    </tr>\n",
       "  </thead>\n",
       "  <tbody>\n",
       "    <tr>\n",
       "      <th>Emp-O</th>\n",
       "      <td>20988</td>\n",
       "      <td>14558</td>\n",
       "      <td>14298</td>\n",
       "      <td>3046</td>\n",
       "      <td>1946</td>\n",
       "      <td>1850</td>\n",
       "      <td>1647</td>\n",
       "      <td>1214</td>\n",
       "      <td>1095</td>\n",
       "      <td>885</td>\n",
       "      <td>...</td>\n",
       "      <td>259</td>\n",
       "      <td>251</td>\n",
       "      <td>219</td>\n",
       "      <td>205</td>\n",
       "      <td>195</td>\n",
       "      <td>77</td>\n",
       "      <td>49</td>\n",
       "      <td>16</td>\n",
       "      <td>10</td>\n",
       "      <td>2</td>\n",
       "    </tr>\n",
       "  </tbody>\n",
       "</table>\n",
       "<p>1 rows × 32 columns</p>\n",
       "</div>"
      ],
      "text/plain": [
       "         LAN    LXP    SKU   TAM   ARG   CMP   JMR   LPE   JAT  AVA  ...  AZA  \\\n",
       "Emp-O  20988  14558  14298  3046  1946  1850  1647  1214  1095  885  ...  259   \n",
       "\n",
       "       KLM  LAP  BAW  QFA  AUT  PUE  56R  48O  TPU  \n",
       "Emp-O  251  219  205  195   77   49   16   10    2  \n",
       "\n",
       "[1 rows x 32 columns]"
      ]
     },
     "metadata": {},
     "output_type": "display_data"
    }
   ],
   "source": [
    "# We can see that there are significant discrepancies between Emp-I and Emp-O\n",
    "\n",
    "display (df['Emp-I'].value_counts(dropna=False).to_frame().T    )\n",
    "\n",
    "display (df['Emp-O'].value_counts(dropna=False).to_frame().T)"
   ]
  },
  {
   "cell_type": "code",
   "execution_count": 23,
   "metadata": {},
   "outputs": [
    {
     "data": {
      "text/html": [
       "<div>\n",
       "<style scoped>\n",
       "    .dataframe tbody tr th:only-of-type {\n",
       "        vertical-align: middle;\n",
       "    }\n",
       "\n",
       "    .dataframe tbody tr th {\n",
       "        vertical-align: top;\n",
       "    }\n",
       "\n",
       "    .dataframe thead th {\n",
       "        text-align: right;\n",
       "    }\n",
       "</style>\n",
       "<table border=\"1\" class=\"dataframe\">\n",
       "  <thead>\n",
       "    <tr style=\"text-align: right;\">\n",
       "      <th></th>\n",
       "      <th>2017-07-28 13:30:00</th>\n",
       "      <th>2017-03-19 18:00:00</th>\n",
       "      <th>2017-03-26 18:00:00</th>\n",
       "      <th>2017-12-16 13:35:00</th>\n",
       "      <th>2017-02-15 13:35:00</th>\n",
       "      <th>2017-04-02 18:00:00</th>\n",
       "      <th>2017-09-06 12:00:00</th>\n",
       "      <th>2017-07-29 06:45:00</th>\n",
       "      <th>2017-08-01 05:00:00</th>\n",
       "      <th>2017-06-27 05:00:00</th>\n",
       "      <th>...</th>\n",
       "      <th>2017-06-05 15:16:00</th>\n",
       "      <th>2017-06-27 06:53:00</th>\n",
       "      <th>2017-06-28 06:53:00</th>\n",
       "      <th>2017-06-29 06:53:00</th>\n",
       "      <th>2017-06-30 06:53:00</th>\n",
       "      <th>2017-06-01 15:16:00</th>\n",
       "      <th>2017-06-02 15:16:00</th>\n",
       "      <th>2017-06-03 15:16:00</th>\n",
       "      <th>2017-06-04 15:16:00</th>\n",
       "      <th>2017-12-31 14:55:00</th>\n",
       "    </tr>\n",
       "  </thead>\n",
       "  <tbody>\n",
       "    <tr>\n",
       "      <th>Fecha-I</th>\n",
       "      <td>6</td>\n",
       "      <td>6</td>\n",
       "      <td>6</td>\n",
       "      <td>5</td>\n",
       "      <td>5</td>\n",
       "      <td>5</td>\n",
       "      <td>5</td>\n",
       "      <td>5</td>\n",
       "      <td>5</td>\n",
       "      <td>5</td>\n",
       "      <td>...</td>\n",
       "      <td>1</td>\n",
       "      <td>1</td>\n",
       "      <td>1</td>\n",
       "      <td>1</td>\n",
       "      <td>1</td>\n",
       "      <td>1</td>\n",
       "      <td>1</td>\n",
       "      <td>1</td>\n",
       "      <td>1</td>\n",
       "      <td>1</td>\n",
       "    </tr>\n",
       "  </tbody>\n",
       "</table>\n",
       "<p>1 rows × 53252 columns</p>\n",
       "</div>"
      ],
      "text/plain": [
       "         2017-07-28 13:30:00  2017-03-19 18:00:00  2017-03-26 18:00:00  \\\n",
       "Fecha-I                    6                    6                    6   \n",
       "\n",
       "         2017-12-16 13:35:00  2017-02-15 13:35:00  2017-04-02 18:00:00  \\\n",
       "Fecha-I                    5                    5                    5   \n",
       "\n",
       "         2017-09-06 12:00:00  2017-07-29 06:45:00  2017-08-01 05:00:00  \\\n",
       "Fecha-I                    5                    5                    5   \n",
       "\n",
       "         2017-06-27 05:00:00  ...  2017-06-05 15:16:00  2017-06-27 06:53:00  \\\n",
       "Fecha-I                    5  ...                    1                    1   \n",
       "\n",
       "         2017-06-28 06:53:00  2017-06-29 06:53:00  2017-06-30 06:53:00  \\\n",
       "Fecha-I                    1                    1                    1   \n",
       "\n",
       "         2017-06-01 15:16:00  2017-06-02 15:16:00  2017-06-03 15:16:00  \\\n",
       "Fecha-I                    1                    1                    1   \n",
       "\n",
       "         2017-06-04 15:16:00  2017-12-31 14:55:00  \n",
       "Fecha-I                    1                    1  \n",
       "\n",
       "[1 rows x 53252 columns]"
      ]
     },
     "metadata": {},
     "output_type": "display_data"
    },
    {
     "data": {
      "text/html": [
       "<div>\n",
       "<style scoped>\n",
       "    .dataframe tbody tr th:only-of-type {\n",
       "        vertical-align: middle;\n",
       "    }\n",
       "\n",
       "    .dataframe tbody tr th {\n",
       "        vertical-align: top;\n",
       "    }\n",
       "\n",
       "    .dataframe thead th {\n",
       "        text-align: right;\n",
       "    }\n",
       "</style>\n",
       "<table border=\"1\" class=\"dataframe\">\n",
       "  <thead>\n",
       "    <tr style=\"text-align: right;\">\n",
       "      <th></th>\n",
       "      <th>2017-05-19 07:01:00</th>\n",
       "      <th>2017-11-05 14:51:00</th>\n",
       "      <th>2017-10-25 07:37:00</th>\n",
       "      <th>2017-03-08 13:34:00</th>\n",
       "      <th>2017-09-07 20:10:00</th>\n",
       "      <th>2017-02-12 09:12:00</th>\n",
       "      <th>2017-05-28 08:12:00</th>\n",
       "      <th>2017-05-23 08:50:00</th>\n",
       "      <th>2017-02-15 09:20:00</th>\n",
       "      <th>2017-12-01 13:49:00</th>\n",
       "      <th>...</th>\n",
       "      <th>2017-05-30 11:44:00</th>\n",
       "      <th>2017-05-31 11:04:00</th>\n",
       "      <th>2017-05-01 17:10:00</th>\n",
       "      <th>2017-05-02 17:03:00</th>\n",
       "      <th>2017-05-03 17:03:00</th>\n",
       "      <th>2017-05-04 15:48:00</th>\n",
       "      <th>2017-05-05 17:02:00</th>\n",
       "      <th>2017-05-07 17:03:00</th>\n",
       "      <th>2017-05-08 17:06:00</th>\n",
       "      <th>2017-12-31 15:04:00</th>\n",
       "    </tr>\n",
       "  </thead>\n",
       "  <tbody>\n",
       "    <tr>\n",
       "      <th>Fecha-O</th>\n",
       "      <td>5</td>\n",
       "      <td>5</td>\n",
       "      <td>4</td>\n",
       "      <td>4</td>\n",
       "      <td>4</td>\n",
       "      <td>4</td>\n",
       "      <td>4</td>\n",
       "      <td>4</td>\n",
       "      <td>4</td>\n",
       "      <td>4</td>\n",
       "      <td>...</td>\n",
       "      <td>1</td>\n",
       "      <td>1</td>\n",
       "      <td>1</td>\n",
       "      <td>1</td>\n",
       "      <td>1</td>\n",
       "      <td>1</td>\n",
       "      <td>1</td>\n",
       "      <td>1</td>\n",
       "      <td>1</td>\n",
       "      <td>1</td>\n",
       "    </tr>\n",
       "  </tbody>\n",
       "</table>\n",
       "<p>1 rows × 62774 columns</p>\n",
       "</div>"
      ],
      "text/plain": [
       "         2017-05-19 07:01:00  2017-11-05 14:51:00  2017-10-25 07:37:00  \\\n",
       "Fecha-O                    5                    5                    4   \n",
       "\n",
       "         2017-03-08 13:34:00  2017-09-07 20:10:00  2017-02-12 09:12:00  \\\n",
       "Fecha-O                    4                    4                    4   \n",
       "\n",
       "         2017-05-28 08:12:00  2017-05-23 08:50:00  2017-02-15 09:20:00  \\\n",
       "Fecha-O                    4                    4                    4   \n",
       "\n",
       "         2017-12-01 13:49:00  ...  2017-05-30 11:44:00  2017-05-31 11:04:00  \\\n",
       "Fecha-O                    4  ...                    1                    1   \n",
       "\n",
       "         2017-05-01 17:10:00  2017-05-02 17:03:00  2017-05-03 17:03:00  \\\n",
       "Fecha-O                    1                    1                    1   \n",
       "\n",
       "         2017-05-04 15:48:00  2017-05-05 17:02:00  2017-05-07 17:03:00  \\\n",
       "Fecha-O                    1                    1                    1   \n",
       "\n",
       "         2017-05-08 17:06:00  2017-12-31 15:04:00  \n",
       "Fecha-O                    1                    1  \n",
       "\n",
       "[1 rows x 62774 columns]"
      ]
     },
     "metadata": {},
     "output_type": "display_data"
    }
   ],
   "source": [
    "# For Fecha-I and Fecha-O we can see that Fecha-O has more unique values, which is expected since \n",
    "#  the programed flighs use to have more round times e.g. 12:00 vs a delayed flight that could be 12:03 \n",
    "\n",
    "\n",
    "display (df['Fecha-I'].value_counts(dropna=False).to_frame().T)\n",
    "display (df['Fecha-O'].value_counts(dropna=False).to_frame().T)"
   ]
  },
  {
   "cell_type": "code",
   "execution_count": 24,
   "metadata": {},
   "outputs": [
    {
     "data": {
      "text/plain": [
       "<AxesSubplot: >"
      ]
     },
     "execution_count": 24,
     "metadata": {},
     "output_type": "execute_result"
    },
    {
     "data": {
      "image/png": "[encoded data removed]",
      "text/plain": [
       "<Figure size 640x480 with 1 Axes>"
      ]
     },
     "metadata": {},
     "output_type": "display_data"
    }
   ],
   "source": [
    "df['OPERA'].value_counts(dropna=False).sort_values(ascending=False).to_frame().T\n",
    "\n",
    "df.groupby('OPERA').size().reset_index(name='counts').sort_values(by='counts', ascending=False).cumsum().reset_index()['counts'].plot(color='#3B3B3B',grid=True)\n"
   ]
  },
  {
   "cell_type": "code",
   "execution_count": 25,
   "metadata": {},
   "outputs": [
    {
     "data": {
      "text/html": [
       "<div>\n",
       "<style scoped>\n",
       "    .dataframe tbody tr th:only-of-type {\n",
       "        vertical-align: middle;\n",
       "    }\n",
       "\n",
       "    .dataframe tbody tr th {\n",
       "        vertical-align: top;\n",
       "    }\n",
       "\n",
       "    .dataframe thead th {\n",
       "        text-align: right;\n",
       "    }\n",
       "</style>\n",
       "<table border=\"1\" class=\"dataframe\">\n",
       "  <thead>\n",
       "    <tr style=\"text-align: right;\">\n",
       "      <th></th>\n",
       "      <th>SIGLAORI</th>\n",
       "      <th>counts</th>\n",
       "    </tr>\n",
       "  </thead>\n",
       "  <tbody>\n",
       "    <tr>\n",
       "      <th>0</th>\n",
       "      <td>Santiago</td>\n",
       "      <td>68205</td>\n",
       "    </tr>\n",
       "  </tbody>\n",
       "</table>\n",
       "</div>"
      ],
      "text/plain": [
       "   SIGLAORI  counts\n",
       "0  Santiago   68205"
      ]
     },
     "metadata": {},
     "output_type": "display_data"
    },
    {
     "data": {
      "text/html": [
       "<div>\n",
       "<style scoped>\n",
       "    .dataframe tbody tr th:only-of-type {\n",
       "        vertical-align: middle;\n",
       "    }\n",
       "\n",
       "    .dataframe tbody tr th {\n",
       "        vertical-align: top;\n",
       "    }\n",
       "\n",
       "    .dataframe thead th {\n",
       "        text-align: right;\n",
       "    }\n",
       "</style>\n",
       "<table border=\"1\" class=\"dataframe\">\n",
       "  <thead>\n",
       "    <tr style=\"text-align: right;\">\n",
       "      <th></th>\n",
       "      <th>SIGLADES</th>\n",
       "      <th>counts</th>\n",
       "    </tr>\n",
       "  </thead>\n",
       "  <tbody>\n",
       "    <tr>\n",
       "      <th>8</th>\n",
       "      <td>Buenos Aires</td>\n",
       "      <td>6335</td>\n",
       "    </tr>\n",
       "    <tr>\n",
       "      <th>0</th>\n",
       "      <td>Antofagasta</td>\n",
       "      <td>5786</td>\n",
       "    </tr>\n",
       "    <tr>\n",
       "      <th>28</th>\n",
       "      <td>Lima</td>\n",
       "      <td>5269</td>\n",
       "    </tr>\n",
       "    <tr>\n",
       "      <th>9</th>\n",
       "      <td>Calama</td>\n",
       "      <td>5146</td>\n",
       "    </tr>\n",
       "    <tr>\n",
       "      <th>42</th>\n",
       "      <td>Puerto Montt</td>\n",
       "      <td>4357</td>\n",
       "    </tr>\n",
       "    <tr>\n",
       "      <th>...</th>\n",
       "      <td>...</td>\n",
       "      <td>...</td>\n",
       "    </tr>\n",
       "    <tr>\n",
       "      <th>12</th>\n",
       "      <td>Cataratas Iguacu</td>\n",
       "      <td>2</td>\n",
       "    </tr>\n",
       "    <tr>\n",
       "      <th>41</th>\n",
       "      <td>Pisco, Peru</td>\n",
       "      <td>1</td>\n",
       "    </tr>\n",
       "    <tr>\n",
       "      <th>44</th>\n",
       "      <td>Puerto Stanley</td>\n",
       "      <td>1</td>\n",
       "    </tr>\n",
       "    <tr>\n",
       "      <th>15</th>\n",
       "      <td>Cochabamba</td>\n",
       "      <td>1</td>\n",
       "    </tr>\n",
       "    <tr>\n",
       "      <th>61</th>\n",
       "      <td>Washington</td>\n",
       "      <td>1</td>\n",
       "    </tr>\n",
       "  </tbody>\n",
       "</table>\n",
       "<p>62 rows × 2 columns</p>\n",
       "</div>"
      ],
      "text/plain": [
       "            SIGLADES  counts\n",
       "8       Buenos Aires    6335\n",
       "0        Antofagasta    5786\n",
       "28              Lima    5269\n",
       "9             Calama    5146\n",
       "42      Puerto Montt    4357\n",
       "..               ...     ...\n",
       "12  Cataratas Iguacu       2\n",
       "41       Pisco, Peru       1\n",
       "44    Puerto Stanley       1\n",
       "15        Cochabamba       1\n",
       "61        Washington       1\n",
       "\n",
       "[62 rows x 2 columns]"
      ]
     },
     "metadata": {},
     "output_type": "display_data"
    }
   ],
   "source": [
    "# For the origin airport we can see that all the flights are from Santiago (SCL)\n",
    "\n",
    "display (df.groupby('SIGLAORI').size().reset_index(name='counts'))\n",
    "\n",
    "display (df\n",
    ".groupby('SIGLADES')\n",
    ".size()\n",
    ".reset_index(name='counts')\n",
    ".sort_values(by='counts', ascending=False)\n",
    ")\n"
   ]
  },
  {
   "cell_type": "code",
   "execution_count": 26,
   "metadata": {},
   "outputs": [
    {
     "data": {
      "text/plain": [
       "array([[<AxesSubplot: title={'center': 'counts'}>]], dtype=object)"
      ]
     },
     "execution_count": 26,
     "metadata": {},
     "output_type": "execute_result"
    },
    {
     "data": {
      "image/png": "[encoded data removed]",
      "text/plain": [
       "<Figure size 640x480 with 1 Axes>"
      ]
     },
     "metadata": {},
     "output_type": "display_data"
    }
   ],
   "source": [
    "df.groupby('SIGLADES').size().reset_index(name='counts').hist(color=base_color,bins=20)"
   ]
  },
  {
   "cell_type": "code",
   "execution_count": 27,
   "metadata": {},
   "outputs": [
    {
     "data": {
      "text/plain": [
       "<AxesSubplot: >"
      ]
     },
     "execution_count": 27,
     "metadata": {},
     "output_type": "execute_result"
    },
    {
     "data": {
      "image/png": "[encoded data removed]",
      "text/plain": [
       "<Figure size 640x480 with 1 Axes>"
      ]
     },
     "metadata": {},
     "output_type": "display_data"
    }
   ],
   "source": [
    "# from the below plot we can see that the top 10 destinations account for about 60% of the total flights\n",
    "df.groupby('SIGLADES').size().reset_index(name='counts').sort_values(by='counts', ascending=False).cumsum().reset_index()['counts'].plot(color=base_color,grid=True)\n",
    "# In relation to the target variable it can be expected that on average the delay on the frequent flights is lower than the delay on the less frequent flights. "
   ]
  },
  {
   "cell_type": "code",
   "execution_count": 28,
   "metadata": {},
   "outputs": [
    {
     "data": {
      "image/png": "[encoded data removed]",
      "text/plain": [
       "<Figure size 640x480 with 1 Axes>"
      ]
     },
     "metadata": {},
     "output_type": "display_data"
    }
   ],
   "source": [
    "# Regarding the type of flight we can see that the majority of the flights are domestic flights (Nacional)\n",
    "# but the percentage of international flights is close to half of the domestic flights.\n",
    "df['TIPOVUELO'].value_counts(dropna=False).to_frame().T\n",
    "make_bar_plot(df, 'TIPOVUELO', 'TIPOVUELO', key_map={})\n"
   ]
  },
  {
   "attachments": {},
   "cell_type": "markdown",
   "metadata": {},
   "source": [
    "## Question 2: \n",
    "\n",
    "Generate the following additional columns. Please export them to a CSV file named synthetic_features.csv:\n",
    "\n",
    "\n",
    "* high_season : 1 if Date-I is between Dec-15 and Mar-3, or Jul-15 and Jul-31, or Sep-11 and Sep-30, 0 otherwise.\n",
    "* min_diff : difference in minutes between Date-O and Date-I .\n",
    "* delay_15 : 1 if min_diff > 15, 0 if not.\n",
    "* period_day : morning (between 5:00 and 11:59), afternoon (between 12:00 and 18:59) and night (between 19:00 and 4:59), based\n",
    "onDate-I .\n",
    "\n",
    "\n"
   ]
  },
  {
   "cell_type": "code",
   "execution_count": 29,
   "metadata": {},
   "outputs": [
    {
     "data": {
      "text/html": [
       "<div>\n",
       "<style scoped>\n",
       "    .dataframe tbody tr th:only-of-type {\n",
       "        vertical-align: middle;\n",
       "    }\n",
       "\n",
       "    .dataframe tbody tr th {\n",
       "        vertical-align: top;\n",
       "    }\n",
       "\n",
       "    .dataframe thead th {\n",
       "        text-align: right;\n",
       "    }\n",
       "</style>\n",
       "<table border=\"1\" class=\"dataframe\">\n",
       "  <thead>\n",
       "    <tr style=\"text-align: right;\">\n",
       "      <th></th>\n",
       "      <th>MES</th>\n",
       "      <th>DIA</th>\n",
       "      <th>high_season</th>\n",
       "    </tr>\n",
       "  </thead>\n",
       "  <tbody>\n",
       "    <tr>\n",
       "      <th>0</th>\n",
       "      <td>1</td>\n",
       "      <td>1</td>\n",
       "      <td>1</td>\n",
       "    </tr>\n",
       "    <tr>\n",
       "      <th>1</th>\n",
       "      <td>1</td>\n",
       "      <td>2</td>\n",
       "      <td>1</td>\n",
       "    </tr>\n",
       "    <tr>\n",
       "      <th>2</th>\n",
       "      <td>1</td>\n",
       "      <td>3</td>\n",
       "      <td>1</td>\n",
       "    </tr>\n",
       "    <tr>\n",
       "      <th>3</th>\n",
       "      <td>1</td>\n",
       "      <td>4</td>\n",
       "      <td>1</td>\n",
       "    </tr>\n",
       "    <tr>\n",
       "      <th>4</th>\n",
       "      <td>1</td>\n",
       "      <td>5</td>\n",
       "      <td>1</td>\n",
       "    </tr>\n",
       "    <tr>\n",
       "      <th>...</th>\n",
       "      <td>...</td>\n",
       "      <td>...</td>\n",
       "      <td>...</td>\n",
       "    </tr>\n",
       "    <tr>\n",
       "      <th>68201</th>\n",
       "      <td>12</td>\n",
       "      <td>22</td>\n",
       "      <td>1</td>\n",
       "    </tr>\n",
       "    <tr>\n",
       "      <th>68202</th>\n",
       "      <td>12</td>\n",
       "      <td>25</td>\n",
       "      <td>1</td>\n",
       "    </tr>\n",
       "    <tr>\n",
       "      <th>68203</th>\n",
       "      <td>12</td>\n",
       "      <td>27</td>\n",
       "      <td>1</td>\n",
       "    </tr>\n",
       "    <tr>\n",
       "      <th>68204</th>\n",
       "      <td>12</td>\n",
       "      <td>29</td>\n",
       "      <td>1</td>\n",
       "    </tr>\n",
       "    <tr>\n",
       "      <th>68205</th>\n",
       "      <td>12</td>\n",
       "      <td>31</td>\n",
       "      <td>1</td>\n",
       "    </tr>\n",
       "  </tbody>\n",
       "</table>\n",
       "<p>68205 rows × 3 columns</p>\n",
       "</div>"
      ],
      "text/plain": [
       "       MES  DIA  high_season\n",
       "0        1    1            1\n",
       "1        1    2            1\n",
       "2        1    3            1\n",
       "3        1    4            1\n",
       "4        1    5            1\n",
       "...    ...  ...          ...\n",
       "68201   12   22            1\n",
       "68202   12   25            1\n",
       "68203   12   27            1\n",
       "68204   12   29            1\n",
       "68205   12   31            1\n",
       "\n",
       "[68205 rows x 3 columns]"
      ]
     },
     "execution_count": 29,
     "metadata": {},
     "output_type": "execute_result"
    }
   ],
   "source": [
    "\n",
    "\n",
    "df['high_season'] = get_high_season(df)\n",
    "\n",
    "df[['MES','DIA','high_season']]\n"
   ]
  },
  {
   "attachments": {},
   "cell_type": "markdown",
   "metadata": {},
   "source": []
  },
  {
   "cell_type": "code",
   "execution_count": 30,
   "metadata": {},
   "outputs": [],
   "source": [
    "# convert df['Fecha-O'] and  df['Fecha-I'] to datetime format \n",
    "df['Fecha-O'] = pd.to_datetime(df['Fecha-O'])\n",
    "df['Fecha-I'] = pd.to_datetime(df['Fecha-I'])\n",
    "\n",
    "# min_diff : difference in minutes between Date-O and Date-I . \n",
    "df['min_diff'] = (df['Fecha-O'] - df['Fecha-I']).dt.total_seconds() / 60\n",
    "\n",
    "# delay_15 : 1 if min_diff > 15, 0 if not. \n",
    "df['delay_15'] = 0\n",
    "df.loc[df['min_diff'] > 15, 'delay_15'] = 1\n",
    "\n"
   ]
  },
  {
   "cell_type": "code",
   "execution_count": 31,
   "metadata": {},
   "outputs": [],
   "source": [
    "# period_day : morning (between 5:00 and 11:59), afternoon (between 12:00 and 18:59) and night (between 19:00 and 4:59), based onDate-I use dt.hour to extract the hour.\n",
    "\n",
    "\n",
    "df['period_day'] = 'morning'\n",
    "df.loc[(df['Fecha-I'].dt.hour  >= 12) & (df['Fecha-I'].dt.hour  <= 18), 'period_day'] = 'afternoon'\n",
    "df.loc[(df['Fecha-I'].dt.hour  >= 19) | (df['Fecha-I'].dt.hour  <= 4), 'period_day'] = 'night'\n"
   ]
  },
  {
   "cell_type": "code",
   "execution_count": 32,
   "metadata": {},
   "outputs": [
    {
     "data": {
      "text/html": [
       "<div>\n",
       "<style scoped>\n",
       "    .dataframe tbody tr th:only-of-type {\n",
       "        vertical-align: middle;\n",
       "    }\n",
       "\n",
       "    .dataframe tbody tr th {\n",
       "        vertical-align: top;\n",
       "    }\n",
       "\n",
       "    .dataframe thead th {\n",
       "        text-align: right;\n",
       "    }\n",
       "</style>\n",
       "<table border=\"1\" class=\"dataframe\">\n",
       "  <thead>\n",
       "    <tr style=\"text-align: right;\">\n",
       "      <th></th>\n",
       "      <th>period_day</th>\n",
       "      <th>Fecha-I</th>\n",
       "    </tr>\n",
       "  </thead>\n",
       "  <tbody>\n",
       "    <tr>\n",
       "      <th>50739</th>\n",
       "      <td>afternoon</td>\n",
       "      <td>2017-10-30 18:10:00</td>\n",
       "    </tr>\n",
       "    <tr>\n",
       "      <th>57285</th>\n",
       "      <td>afternoon</td>\n",
       "      <td>2017-11-12 15:30:00</td>\n",
       "    </tr>\n",
       "    <tr>\n",
       "      <th>12820</th>\n",
       "      <td>afternoon</td>\n",
       "      <td>2017-03-17 12:50:00</td>\n",
       "    </tr>\n",
       "    <tr>\n",
       "      <th>52494</th>\n",
       "      <td>morning</td>\n",
       "      <td>2017-10-24 10:37:00</td>\n",
       "    </tr>\n",
       "    <tr>\n",
       "      <th>55946</th>\n",
       "      <td>morning</td>\n",
       "      <td>2017-11-21 10:35:00</td>\n",
       "    </tr>\n",
       "    <tr>\n",
       "      <th>62438</th>\n",
       "      <td>night</td>\n",
       "      <td>2017-12-27 01:41:00</td>\n",
       "    </tr>\n",
       "    <tr>\n",
       "      <th>45788</th>\n",
       "      <td>morning</td>\n",
       "      <td>2017-09-17 07:45:00</td>\n",
       "    </tr>\n",
       "    <tr>\n",
       "      <th>43458</th>\n",
       "      <td>afternoon</td>\n",
       "      <td>2017-08-05 18:10:00</td>\n",
       "    </tr>\n",
       "    <tr>\n",
       "      <th>35194</th>\n",
       "      <td>afternoon</td>\n",
       "      <td>2017-07-27 16:59:00</td>\n",
       "    </tr>\n",
       "    <tr>\n",
       "      <th>20277</th>\n",
       "      <td>morning</td>\n",
       "      <td>2017-04-11 07:45:00</td>\n",
       "    </tr>\n",
       "  </tbody>\n",
       "</table>\n",
       "</div>"
      ],
      "text/plain": [
       "      period_day             Fecha-I\n",
       "50739  afternoon 2017-10-30 18:10:00\n",
       "57285  afternoon 2017-11-12 15:30:00\n",
       "12820  afternoon 2017-03-17 12:50:00\n",
       "52494    morning 2017-10-24 10:37:00\n",
       "55946    morning 2017-11-21 10:35:00\n",
       "62438      night 2017-12-27 01:41:00\n",
       "45788    morning 2017-09-17 07:45:00\n",
       "43458  afternoon 2017-08-05 18:10:00\n",
       "35194  afternoon 2017-07-27 16:59:00\n",
       "20277    morning 2017-04-11 07:45:00"
      ]
     },
     "execution_count": 32,
     "metadata": {},
     "output_type": "execute_result"
    }
   ],
   "source": [
    "df[['period_day','Fecha-I']].sample(10)"
   ]
  },
  {
   "cell_type": "code",
   "execution_count": 33,
   "metadata": {},
   "outputs": [],
   "source": [
    "# list of high_season min_diff delay_15 period_day\n",
    "\n",
    "synthetic_features_names =  ['high_season', 'min_diff', 'delay_15', 'period_day']"
   ]
  },
  {
   "cell_type": "code",
   "execution_count": 34,
   "metadata": {},
   "outputs": [
    {
     "data": {
      "text/html": [
       "<div>\n",
       "<style scoped>\n",
       "    .dataframe tbody tr th:only-of-type {\n",
       "        vertical-align: middle;\n",
       "    }\n",
       "\n",
       "    .dataframe tbody tr th {\n",
       "        vertical-align: top;\n",
       "    }\n",
       "\n",
       "    .dataframe thead th {\n",
       "        text-align: right;\n",
       "    }\n",
       "</style>\n",
       "<table border=\"1\" class=\"dataframe\">\n",
       "  <thead>\n",
       "    <tr style=\"text-align: right;\">\n",
       "      <th></th>\n",
       "      <th>high_season</th>\n",
       "      <th>min_diff</th>\n",
       "      <th>delay_15</th>\n",
       "      <th>period_day</th>\n",
       "    </tr>\n",
       "  </thead>\n",
       "  <tbody>\n",
       "    <tr>\n",
       "      <th>0</th>\n",
       "      <td>1</td>\n",
       "      <td>3.0</td>\n",
       "      <td>0</td>\n",
       "      <td>night</td>\n",
       "    </tr>\n",
       "    <tr>\n",
       "      <th>1</th>\n",
       "      <td>1</td>\n",
       "      <td>9.0</td>\n",
       "      <td>0</td>\n",
       "      <td>night</td>\n",
       "    </tr>\n",
       "    <tr>\n",
       "      <th>2</th>\n",
       "      <td>1</td>\n",
       "      <td>9.0</td>\n",
       "      <td>0</td>\n",
       "      <td>night</td>\n",
       "    </tr>\n",
       "    <tr>\n",
       "      <th>3</th>\n",
       "      <td>1</td>\n",
       "      <td>3.0</td>\n",
       "      <td>0</td>\n",
       "      <td>night</td>\n",
       "    </tr>\n",
       "    <tr>\n",
       "      <th>4</th>\n",
       "      <td>1</td>\n",
       "      <td>-2.0</td>\n",
       "      <td>0</td>\n",
       "      <td>night</td>\n",
       "    </tr>\n",
       "    <tr>\n",
       "      <th>...</th>\n",
       "      <td>...</td>\n",
       "      <td>...</td>\n",
       "      <td>...</td>\n",
       "      <td>...</td>\n",
       "    </tr>\n",
       "    <tr>\n",
       "      <th>68201</th>\n",
       "      <td>1</td>\n",
       "      <td>46.0</td>\n",
       "      <td>1</td>\n",
       "      <td>afternoon</td>\n",
       "    </tr>\n",
       "    <tr>\n",
       "      <th>68202</th>\n",
       "      <td>1</td>\n",
       "      <td>16.0</td>\n",
       "      <td>1</td>\n",
       "      <td>afternoon</td>\n",
       "    </tr>\n",
       "    <tr>\n",
       "      <th>68203</th>\n",
       "      <td>1</td>\n",
       "      <td>40.0</td>\n",
       "      <td>1</td>\n",
       "      <td>afternoon</td>\n",
       "    </tr>\n",
       "    <tr>\n",
       "      <th>68204</th>\n",
       "      <td>1</td>\n",
       "      <td>13.0</td>\n",
       "      <td>0</td>\n",
       "      <td>afternoon</td>\n",
       "    </tr>\n",
       "    <tr>\n",
       "      <th>68205</th>\n",
       "      <td>1</td>\n",
       "      <td>9.0</td>\n",
       "      <td>0</td>\n",
       "      <td>afternoon</td>\n",
       "    </tr>\n",
       "  </tbody>\n",
       "</table>\n",
       "<p>68205 rows × 4 columns</p>\n",
       "</div>"
      ],
      "text/plain": [
       "       high_season  min_diff  delay_15 period_day\n",
       "0                1       3.0         0      night\n",
       "1                1       9.0         0      night\n",
       "2                1       9.0         0      night\n",
       "3                1       3.0         0      night\n",
       "4                1      -2.0         0      night\n",
       "...            ...       ...       ...        ...\n",
       "68201            1      46.0         1  afternoon\n",
       "68202            1      16.0         1  afternoon\n",
       "68203            1      40.0         1  afternoon\n",
       "68204            1      13.0         0  afternoon\n",
       "68205            1       9.0         0  afternoon\n",
       "\n",
       "[68205 rows x 4 columns]"
      ]
     },
     "execution_count": 34,
     "metadata": {},
     "output_type": "execute_result"
    }
   ],
   "source": [
    "synthetic_features = df[synthetic_features_names]\n",
    "\n",
    "synthetic_features"
   ]
  },
  {
   "cell_type": "code",
   "execution_count": 35,
   "metadata": {},
   "outputs": [],
   "source": [
    "df = df.drop(synthetic_features_names,axis=1)  "
   ]
  },
  {
   "cell_type": "code",
   "execution_count": 36,
   "metadata": {},
   "outputs": [],
   "source": [
    "df.to_csv('data/interim/dataset_SCL.csv', index=False)\n",
    "synthetic_features.to_csv('data/interim/synthetic_features_SCL.csv', index=False)"
   ]
  },
  {
   "attachments": {},
   "cell_type": "markdown",
   "metadata": {},
   "source": [
    "### Question 3:\n",
    "\n",
    "What is the behavior of the delay rate across destination, airline, month of the year, day of the week, season, type of flight?What\n",
    "variables would you expect to have the most influence in predicting delays?"
   ]
  },
  {
   "cell_type": "code",
   "execution_count": 37,
   "metadata": {},
   "outputs": [
    {
     "name": "stderr",
     "output_type": "stream",
     "text": [
      "/home/codespace/.python/current/lib/python3.10/site-packages/tqdm/auto.py:22: TqdmWarning: IProgress not found. Please update jupyter and ipywidgets. See https://ipywidgets.readthedocs.io/en/stable/user_install.html\n",
      "  from .autonotebook import tqdm as notebook_tqdm\n"
     ]
    }
   ],
   "source": [
    "from sklearn.model_selection import StratifiedShuffleSplit\n",
    "import sweetviz as sv\n"
   ]
  },
  {
   "cell_type": "code",
   "execution_count": 38,
   "metadata": {},
   "outputs": [],
   "source": [
    "synthetic_features = pd.read_csv('data/interim/synthetic_features_SCL.csv') \n",
    "df = pd.read_csv('data/interim/dataset_SCL.csv')\n"
   ]
  },
  {
   "cell_type": "code",
   "execution_count": 39,
   "metadata": {},
   "outputs": [],
   "source": [
    "# merge on index \n",
    "dataset  = pd.concat([df, synthetic_features], axis=1)\n"
   ]
  },
  {
   "cell_type": "code",
   "execution_count": 40,
   "metadata": {},
   "outputs": [
    {
     "data": {
      "text/html": [
       "<div>\n",
       "<style scoped>\n",
       "    .dataframe tbody tr th:only-of-type {\n",
       "        vertical-align: middle;\n",
       "    }\n",
       "\n",
       "    .dataframe tbody tr th {\n",
       "        vertical-align: top;\n",
       "    }\n",
       "\n",
       "    .dataframe thead th {\n",
       "        text-align: right;\n",
       "    }\n",
       "</style>\n",
       "<table border=\"1\" class=\"dataframe\">\n",
       "  <thead>\n",
       "    <tr style=\"text-align: right;\">\n",
       "      <th></th>\n",
       "      <th>0</th>\n",
       "      <th>1</th>\n",
       "    </tr>\n",
       "  </thead>\n",
       "  <tbody>\n",
       "    <tr>\n",
       "      <th>delay_15</th>\n",
       "      <td>55591</td>\n",
       "      <td>12614</td>\n",
       "    </tr>\n",
       "  </tbody>\n",
       "</table>\n",
       "</div>"
      ],
      "text/plain": [
       "              0      1\n",
       "delay_15  55591  12614"
      ]
     },
     "execution_count": 40,
     "metadata": {},
     "output_type": "execute_result"
    }
   ],
   "source": [
    "synthetic_features['delay_15'].value_counts(dropna=False).to_frame().T"
   ]
  },
  {
   "cell_type": "code",
   "execution_count": 41,
   "metadata": {},
   "outputs": [],
   "source": [
    "\n",
    "# Create the splitter\n",
    "splitter = StratifiedShuffleSplit(n_splits=1, test_size=0.2, random_state=0)\n",
    "\n",
    "# Loop through the splits\n",
    "\n",
    "X,y = dataset.drop(['delay_15'] ,axis=1) , dataset['delay_15'] \n",
    "for train_index, test_index in splitter.split(X, y):\n",
    "    # Get the training and test data\n",
    "    X_train, X_test = X.loc[train_index], X.loc[test_index]\n",
    "    y_train, y_test = y[train_index], y[test_index]\n",
    "    "
   ]
  },
  {
   "cell_type": "code",
   "execution_count": 42,
   "metadata": {},
   "outputs": [],
   "source": [
    "# save X_train, X_test, y_train, y_test to csv files in data/interim folder \n",
    "X_train.to_csv('data/interim/X_train_SCL.csv', index=False)\n",
    "X_test.to_csv('data/interim/X_test_SCL.csv', index=False)\n",
    "y_train.to_csv('data/interim/y_train_SCL.csv', index=False)\n",
    "y_test.to_csv('data/interim/y_test_SCL.csv', index=False)\n"
   ]
  },
  {
   "cell_type": "code",
   "execution_count": 43,
   "metadata": {},
   "outputs": [],
   "source": [
    "## For this analysis only the training data will be used. \n",
    "\n",
    "# to avoid possible error for mutability the previous dataframes will be deleted \n",
    "del X_train, X_test, y_train, y_test, X, y, df, dataset "
   ]
  },
  {
   "cell_type": "code",
   "execution_count": 44,
   "metadata": {},
   "outputs": [],
   "source": [
    "# load the training data \n",
    "\n",
    "X_train = pd.read_csv('data/interim/X_train_SCL.csv')\n",
    "y_train = pd.read_csv('data/interim/y_train_SCL.csv') \n",
    "\n",
    "df_train = pd.concat([X_train, y_train], axis=1) "
   ]
  },
  {
   "attachments": {},
   "cell_type": "markdown",
   "metadata": {},
   "source": [
    "* the delay rate across \n",
    "* destination\n",
    "* airline\n",
    "* month of the year\n",
    "* day of the week\n",
    "* season\n",
    "* type of flight\n",
    "\n",
    "For this plot we will lavarage on the sweetviz library, the complete report can be found in the html file in the reports folder. \n"
   ]
  },
  {
   "cell_type": "code",
   "execution_count": 45,
   "metadata": {},
   "outputs": [],
   "source": [
    "# The column MES_Name is created only for the purpose of the report. \n",
    "df_train['MES_Name'] = df_train['MES'].map({1:'Enero',2:'Febrero',3:'Marzo',4:'Abril',5:'Mayo',6:'Junio',7:'Julio',8:'Agosto',9:'Septiembre',10:'Octubre',11:'Noviembre',12:'Diciembre'})\n"
   ]
  },
  {
   "attachments": {},
   "cell_type": "markdown",
   "metadata": {},
   "source": [
    "df"
   ]
  },
  {
   "cell_type": "code",
   "execution_count": 46,
   "metadata": {},
   "outputs": [
    {
     "name": "stderr",
     "output_type": "stream",
     "text": [
      "/home/codespace/.python/current/lib/python3.10/site-packages/sweetviz/dataframe_report.py:74: FutureWarning: iteritems is deprecated and will be removed in a future version. Use .items instead.\n",
      "  all_source_names = [cur_name for cur_name, cur_series in source_df.iteritems()]\n",
      "/home/codespace/.python/current/lib/python3.10/site-packages/sweetviz/dataframe_report.py:109: FutureWarning: iteritems is deprecated and will be removed in a future version. Use .items instead.\n",
      "  filtered_series_names_in_source = [cur_name for cur_name, cur_series in source_df.iteritems()\n",
      "Feature: delay_15 (TARGET)                   |▊         | [  8%]   00:00 -> (00:00 left)/home/codespace/.python/current/lib/python3.10/site-packages/sweetviz/series_analyzer_cat.py:28: FutureWarning: iteritems is deprecated and will be removed in a future version. Use .items instead.\n",
      "  for item in category_counts.iteritems():\n",
      "Feature: Des-I                               |█▋        | [ 17%]   00:00 -> (00:02 left)/home/codespace/.python/current/lib/python3.10/site-packages/sweetviz/series_analyzer_cat.py:28: FutureWarning: iteritems is deprecated and will be removed in a future version. Use .items instead.\n",
      "  for item in category_counts.iteritems():\n",
      "Feature: Emp-I                               |██▌       | [ 25%]   00:00 -> (00:03 left)/home/codespace/.python/current/lib/python3.10/site-packages/sweetviz/series_analyzer_cat.py:28: FutureWarning: iteritems is deprecated and will be removed in a future version. Use .items instead.\n",
      "  for item in category_counts.iteritems():\n",
      "Feature: Des-O                               |███▎      | [ 33%]   00:01 -> (00:03 left)/home/codespace/.python/current/lib/python3.10/site-packages/sweetviz/series_analyzer_cat.py:28: FutureWarning: iteritems is deprecated and will be removed in a future version. Use .items instead.\n",
      "  for item in category_counts.iteritems():\n",
      "Feature: Emp-O                               |████▏     | [ 42%]   00:01 -> (00:02 left)/home/codespace/.python/current/lib/python3.10/site-packages/sweetviz/series_analyzer_cat.py:28: FutureWarning: iteritems is deprecated and will be removed in a future version. Use .items instead.\n",
      "  for item in category_counts.iteritems():\n",
      "Feature: TIPOVUELO                           |█████     | [ 50%]   00:02 -> (00:02 left)/home/codespace/.python/current/lib/python3.10/site-packages/sweetviz/series_analyzer_cat.py:28: FutureWarning: iteritems is deprecated and will be removed in a future version. Use .items instead.\n",
      "  for item in category_counts.iteritems():\n",
      "Feature: period_day                          |█████▊    | [ 58%]   00:02 -> (00:01 left)/home/codespace/.python/current/lib/python3.10/site-packages/sweetviz/series_analyzer_cat.py:28: FutureWarning: iteritems is deprecated and will be removed in a future version. Use .items instead.\n",
      "  for item in category_counts.iteritems():\n",
      "Feature: high_season                         |██████▋   | [ 67%]   00:02 -> (00:01 left)/home/codespace/.python/current/lib/python3.10/site-packages/sweetviz/series_analyzer_cat.py:28: FutureWarning: iteritems is deprecated and will be removed in a future version. Use .items instead.\n",
      "  for item in category_counts.iteritems():\n",
      "Feature: DIANOM                              |███████▌  | [ 75%]   00:03 -> (00:00 left)/home/codespace/.python/current/lib/python3.10/site-packages/sweetviz/series_analyzer_cat.py:28: FutureWarning: iteritems is deprecated and will be removed in a future version. Use .items instead.\n",
      "  for item in category_counts.iteritems():\n",
      "Feature: MES_Name                            |████████▎ | [ 83%]   00:03 -> (00:00 left)/home/codespace/.python/current/lib/python3.10/site-packages/sweetviz/series_analyzer_cat.py:28: FutureWarning: iteritems is deprecated and will be removed in a future version. Use .items instead.\n",
      "  for item in category_counts.iteritems():\n",
      "Feature: OPERA                               |█████████▏| [ 92%]   00:03 -> (00:00 left)/home/codespace/.python/current/lib/python3.10/site-packages/sweetviz/series_analyzer_cat.py:28: FutureWarning: iteritems is deprecated and will be removed in a future version. Use .items instead.\n",
      "  for item in category_counts.iteritems():\n",
      "Done! Use 'show' commands to display/save.   |██████████| [100%]   00:00 -> (00:00 left)\n"
     ]
    }
   ],
   "source": [
    "my_report = sv.analyze(df_train[['Des-I','Emp-I','Des-O','Emp-O','TIPOVUELO','period_day','high_season','DIANOM','MES_Name','OPERA', 'delay_15']],target_feat='delay_15')"
   ]
  },
  {
   "cell_type": "code",
   "execution_count": 47,
   "metadata": {},
   "outputs": [
    {
     "name": "stdout",
     "output_type": "stream",
     "text": [
      "Report ./reports/EDA_base_report.html was generated! NOTEBOOK/COLAB USERS: the web browser MAY not pop up, regardless, the report IS saved in your notebook/colab files.\n"
     ]
    }
   ],
   "source": [
    "my_report.show_html(filepath='./reports/EDA_base_report.html') "
   ]
  },
  {
   "cell_type": "markdown",
   "metadata": {},
   "source": []
  },
  {
   "attachments": {},
   "cell_type": "markdown",
   "metadata": {},
   "source": [
    "From the image below we can see that there is significant variation in the delay time between the different destinations, hence is a good idea to include this feature in the model.  \n",
    "\n",
    "The main challenge we face to do it right is the high cardinality of the feature. \n",
    "It is not reasonable to create a dummy variable for each destination nor to use an ordinal encoding. \n",
    "At this point we have to good alternatives:\n",
    "1. use a target encoding\n",
    "2. use WOE encoding \n",
    " \n",
    "The high cardinality of the feature is still a problem, because it may lead to overfitting. \n",
    "because of we will bin the feature in groups an then encode it. \n"
   ]
  },
  {
   "attachments": {
    "image.png": {
     "image/png": "[encoded data removed]"
    }
   },
   "cell_type": "markdown",
   "metadata": {},
   "source": [
    "\n",
    "![image.png](attachment:image.png)"
   ]
  },
  {
   "attachments": {},
   "cell_type": "markdown",
   "metadata": {},
   "source": [
    "For the airline we have a similar behavior than with the destination, hence we will use the same approach."
   ]
  },
  {
   "attachments": {
    "image.png": {
     "image/png": "[encoded data removed]"
    }
   },
   "cell_type": "markdown",
   "metadata": {},
   "source": [
    "![image.png](attachment:image.png)"
   ]
  },
  {
   "attachments": {},
   "cell_type": "markdown",
   "metadata": {},
   "source": [
    "**The Opera column provides a similar information than Emp-I and Emp-O, for the moment we will use the same approach of grouping and encoding and decide on alater stage which one to keep**"
   ]
  },
  {
   "attachments": {
    "image.png": {
     "image/png": "[encoded data removed]"
    }
   },
   "cell_type": "markdown",
   "metadata": {},
   "source": [
    "![image.png](attachment:image.png)"
   ]
  },
  {
   "attachments": {},
   "cell_type": "markdown",
   "metadata": {},
   "source": [
    "For the month feature there ara also differeces in the delay_15 distribution.  \n",
    "\n",
    "In particular, the months of December and July have a higher percentage of delays.\n",
    "mayube related to a higher demand of flights in these months. "
   ]
  },
  {
   "attachments": {
    "image.png": {
     "image/png": "[encoded data removed]"
    }
   },
   "cell_type": "markdown",
   "metadata": {},
   "source": [
    "![image.png](attachment:image.png)"
   ]
  },
  {
   "attachments": {},
   "cell_type": "markdown",
   "metadata": {},
   "source": [
    "For the type of flight  the analysis is straighforward, on average the delay is higher for international flights than for domestic flights. "
   ]
  },
  {
   "attachments": {
    "image.png": {
     "image/png": "[encoded data removed]"
    }
   },
   "cell_type": "markdown",
   "metadata": {},
   "source": [
    "![image.png](attachment:image.png)"
   ]
  },
  {
   "attachments": {},
   "cell_type": "markdown",
   "metadata": {},
   "source": [
    "During the high season the delays rate is larger "
   ]
  },
  {
   "attachments": {
    "image.png": {
     "image/png": "[encoded data removed]"
    }
   },
   "cell_type": "markdown",
   "metadata": {},
   "source": [
    "![image.png](attachment:image.png)"
   ]
  },
  {
   "attachments": {},
   "cell_type": "markdown",
   "metadata": {},
   "source": [
    "Regarding the Period of the day, during the morning the rate of delays is smaller hence this is a variable that could be used for the model"
   ]
  },
  {
   "attachments": {
    "image.png": {
     "image/png": "[encoded data removed]"
    }
   },
   "cell_type": "markdown",
   "metadata": {},
   "source": [
    "![image.png](attachment:image.png)"
   ]
  },
  {
   "attachments": {},
   "cell_type": "markdown",
   "metadata": {},
   "source": [
    "For the day of the week we can also see relation with the delay, for this variable we will just make a flag for the days with Longer delay: \n",
    "\n",
    "long_delay_day: Jueves, Viernes, Lunes \n"
   ]
  },
  {
   "attachments": {
    "image.png": {
     "image/png": "[encoded data removed]"
    }
   },
   "cell_type": "markdown",
   "metadata": {},
   "source": [
    "![image.png](attachment:image.png)"
   ]
  },
  {
   "cell_type": "code",
   "execution_count": 46,
   "metadata": {},
   "outputs": [
    {
     "data": {
      "text/plain": [
       "Emp-I    30\n",
       "Emp-O    31\n",
       "OPERA    23\n",
       "dtype: int64"
      ]
     },
     "execution_count": 46,
     "metadata": {},
     "output_type": "execute_result"
    }
   ],
   "source": [
    "# count unique values for each column \n",
    "\n",
    "df_train[['Emp-I','Emp-O','OPERA']].nunique()"
   ]
  },
  {
   "attachments": {},
   "cell_type": "markdown",
   "metadata": {},
   "source": [
    "### Feature Engineering "
   ]
  },
  {
   "cell_type": "code",
   "execution_count": 47,
   "metadata": {},
   "outputs": [],
   "source": [
    "fligths_th = 100\n",
    "\n",
    "\n",
    "main_destination =  df_train['Des-I'].value_counts().loc[lambda x: x > fligths_th].index\n",
    "\n",
    "# create a default dictionary with main_destination as keys if the k is in the list return the same k, if not return 'other' \n",
    "destination_mapping = defaultdict(lambda: 'other')\n",
    "for k in main_destination:\n",
    "    destination_mapping[k] = k\n",
    "\n",
    "\n",
    "# save destination_mapping to as a json file in the data/processed folder \n",
    "import json\n",
    "with open('data/processed/destination_mapping_SCL.json', 'w') as fp:\n",
    "    json.dump(destination_mapping, fp)\n"
   ]
  },
  {
   "cell_type": "code",
   "execution_count": 48,
   "metadata": {},
   "outputs": [],
   "source": [
    "# For the airline we will use the same approach, with the difference that we will have to work with to columns Emp-I and Emp-O. \n",
    "# ideally both shlould be the same, but close to the date of this dataset there was a merge between airlines I'm asuming that's the reason for the discrepancy.\n",
    "# Using both variables in the model does not sound like a great idea, since it will add complexity ahard to justify \n",
    "# but we will create both and see which performs better. \n",
    "\n",
    "\n"
   ]
  },
  {
   "cell_type": "code",
   "execution_count": 49,
   "metadata": {},
   "outputs": [],
   "source": [
    "# select the airlines with more than 100 flights use the value_counts method \n",
    "main_airline_I = df_train['Emp-I'].value_counts().loc[lambda x: x > fligths_th].index\n",
    "\n",
    "# do the same for Emp-O\n",
    "main_airline_O = df_train['Emp-O'].value_counts().loc[lambda x: x > fligths_th].index\n",
    "\n",
    "main_airline = main_airline_I.append(main_airline_O).unique()\n",
    "\n",
    "main_airline\n",
    "\n",
    "# create a default dictionary with main_airline as keys if the k is in the list return the same k, if not return 'other'\n",
    "airline_mapping = defaultdict(lambda: 'other')\n",
    "for k in main_airline:\n",
    "    airline_mapping[k] = k\n",
    "\n",
    "# save airline_mapping to as a json file in the data/processed folder\n",
    "with open('data/processed/airline_mapping_SCL.json', 'w') as fp:\n",
    "    json.dump(airline_mapping, fp)\n",
    "    \n"
   ]
  },
  {
   "cell_type": "code",
   "execution_count": 50,
   "metadata": {},
   "outputs": [],
   "source": [
    "## repeat the process for the OPERA column\n",
    "main_airline_op = df_train['OPERA'].value_counts().loc[lambda x: x > fligths_th].index\n",
    "\n",
    "airline_mapping_op = defaultdict(lambda: 'other')\n",
    "for k in main_airline_op:\n",
    "    airline_mapping_op[k] = k\n",
    "\n",
    "# save airline_mapping to as a json file in the data/processed folder\n",
    "with open('data/processed/airline_mapping_op_SCL.json', 'w') as fp:\n",
    "    json.dump(airline_mapping_op, fp)\n",
    "\n"
   ]
  },
  {
   "cell_type": "code",
   "execution_count": 51,
   "metadata": {},
   "outputs": [
    {
     "data": {
      "text/plain": [
       "Index(['Fecha-I', 'Ori-I', 'Des-I', 'Emp-I', 'Fecha-O', 'Ori-O', 'Des-O',\n",
       "       'Emp-O', 'DIA', 'MES', 'AÑO', 'DIANOM', 'TIPOVUELO', 'OPERA',\n",
       "       'SIGLAORI', 'SIGLADES', 'year', 'month', 'high_season', 'min_diff',\n",
       "       'period_day', 'delay_15', 'MES_Name'],\n",
       "      dtype='object')"
      ]
     },
     "execution_count": 51,
     "metadata": {},
     "output_type": "execute_result"
    }
   ],
   "source": [
    "df_train.columns\n"
   ]
  },
  {
   "cell_type": "code",
   "execution_count": 52,
   "metadata": {},
   "outputs": [],
   "source": [
    "# longer delays this is defined by the analisys of the plots in the EDA report \n",
    "\n",
    "longer_delay_days = ['Jueves','Viernes','Lunes'] \n",
    "# save longer_delay_days to as a json file in the data/processed folder \n",
    "\n",
    "longer_delay_days = {'Lunes': 1,\n",
    " 'Martes': 0,\n",
    " 'Miercoles': 0,\n",
    " 'Jueves': 1,\n",
    " 'Viernes': 1,\n",
    " 'Sabado': 0,\n",
    " 'Domingo': 0}\n",
    " \n",
    "with open('data/processed/longer_delay_days_SCL.json', 'w') as fp:\n",
    "    json.dump(longer_delay_days, fp)\n",
    "\n",
    "\n"
   ]
  },
  {
   "cell_type": "code",
   "execution_count": null,
   "metadata": {},
   "outputs": [],
   "source": []
  },
  {
   "cell_type": "code",
   "execution_count": 53,
   "metadata": {},
   "outputs": [],
   "source": [
    "# longer delay months \n",
    "\n",
    "# 3: Julio ,Octubre, Noviembre, Diciembre\n",
    "# 2: Enero, Agosto, Septiembre, Febrero, Mayo, Junio\n",
    "# 1: Marzo, Abril\n",
    "\n",
    "longer_delay_months= {'Julio': 3,\n",
    " 'Octubre': 3,\n",
    " 'Noviembre': 3,\n",
    " 'Diciembre': 3,\n",
    " 'Enero': 2,\n",
    " 'Agosto': 2,\n",
    " 'Septiembre': 2,\n",
    " 'Febrero': 2,\n",
    " 'Mayo': 2,\n",
    " 'Junio': 2,\n",
    " 'Marzo': 1,\n",
    " 'Abril': 1}\n",
    "\n",
    "longer_delay_months= {7: 3, 10: 3, 11: 3, 12: 3, 1: 2, 8: 2, 9: 2, 2: 2, 5: 2, 6: 2, 3: 1, 4: 1}\n",
    "#save longer_delay_months to as a json file in the data/processed folder\n",
    "\n",
    "with open('data/processed/longer_delay_months_SCL.json', 'w') as fp:\n",
    "    json.dump(longer_delay_months, fp)\n"
   ]
  },
  {
   "cell_type": "code",
   "execution_count": 54,
   "metadata": {},
   "outputs": [],
   "source": [
    "\n",
    "features = ['Des-I', 'Emp-I',   'Des-O',\n",
    "       'Emp-O',  'MES',  'DIANOM', 'TIPOVUELO', 'OPERA',\n",
    "       'SIGLADES',  'month', 'high_season', \n",
    "       'period_day', 'delay_15']\n",
    "       \n",
    "df_train = df_train[features]\n",
    "#def map_columns(df, mapping, columns):\n",
    "#  for col in columns:\n",
    "#    df[col] = df[col].map(mapping)\n",
    "    "
   ]
  },
  {
   "cell_type": "code",
   "execution_count": 55,
   "metadata": {},
   "outputs": [],
   "source": [
    "df_train[features]\n",
    "\n",
    "# map the values in the columns Des-I, Emp-I, Des-O, Emp-O, OPERA using the dictionaries created before\n",
    "df_train['Des-I'] = df_train['Des-I'].map(destination_mapping)\n",
    "df_train['Emp-I'] = df_train['Emp-I'].map(airline_mapping)\n",
    "df_train['Des-O'] = df_train['Des-O'].map(destination_mapping)\n",
    "df_train['Emp-O'] = df_train['Emp-O'].map(airline_mapping)\n",
    "df_train['OPERA'] = df_train['OPERA'].map(airline_mapping_op)\n",
    "\n",
    "\n",
    "    \n",
    "\n"
   ]
  },
  {
   "cell_type": "code",
   "execution_count": null,
   "metadata": {},
   "outputs": [],
   "source": []
  },
  {
   "cell_type": "code",
   "execution_count": 56,
   "metadata": {},
   "outputs": [
    {
     "data": {
      "text/html": [
       "<div>\n",
       "<style scoped>\n",
       "    .dataframe tbody tr th:only-of-type {\n",
       "        vertical-align: middle;\n",
       "    }\n",
       "\n",
       "    .dataframe tbody tr th {\n",
       "        vertical-align: top;\n",
       "    }\n",
       "\n",
       "    .dataframe thead th {\n",
       "        text-align: right;\n",
       "    }\n",
       "</style>\n",
       "<table border=\"1\" class=\"dataframe\">\n",
       "  <thead>\n",
       "    <tr style=\"text-align: right;\">\n",
       "      <th></th>\n",
       "      <th>Des-I</th>\n",
       "      <th>Emp-I</th>\n",
       "      <th>Des-O</th>\n",
       "      <th>Emp-O</th>\n",
       "      <th>MES</th>\n",
       "      <th>DIANOM</th>\n",
       "      <th>TIPOVUELO</th>\n",
       "      <th>OPERA</th>\n",
       "      <th>SIGLADES</th>\n",
       "      <th>month</th>\n",
       "      <th>high_season</th>\n",
       "      <th>period_day</th>\n",
       "      <th>delay_15</th>\n",
       "    </tr>\n",
       "  </thead>\n",
       "  <tbody>\n",
       "    <tr>\n",
       "      <th>0</th>\n",
       "      <td>SPJC</td>\n",
       "      <td>SKU</td>\n",
       "      <td>SPJC</td>\n",
       "      <td>SKU</td>\n",
       "      <td>11</td>\n",
       "      <td>Jueves</td>\n",
       "      <td>I</td>\n",
       "      <td>Sky Airline</td>\n",
       "      <td>Lima</td>\n",
       "      <td>11</td>\n",
       "      <td>0</td>\n",
       "      <td>night</td>\n",
       "      <td>1</td>\n",
       "    </tr>\n",
       "    <tr>\n",
       "      <th>1</th>\n",
       "      <td>SCIE</td>\n",
       "      <td>LAW</td>\n",
       "      <td>SCIE</td>\n",
       "      <td>JMR</td>\n",
       "      <td>4</td>\n",
       "      <td>Jueves</td>\n",
       "      <td>N</td>\n",
       "      <td>Latin American Wings</td>\n",
       "      <td>Concepcion</td>\n",
       "      <td>4</td>\n",
       "      <td>0</td>\n",
       "      <td>afternoon</td>\n",
       "      <td>0</td>\n",
       "    </tr>\n",
       "    <tr>\n",
       "      <th>2</th>\n",
       "      <td>MPTO</td>\n",
       "      <td>CMP</td>\n",
       "      <td>MPTO</td>\n",
       "      <td>CMP</td>\n",
       "      <td>6</td>\n",
       "      <td>Jueves</td>\n",
       "      <td>I</td>\n",
       "      <td>Copa Air</td>\n",
       "      <td>Ciudad de Panama</td>\n",
       "      <td>6</td>\n",
       "      <td>0</td>\n",
       "      <td>night</td>\n",
       "      <td>1</td>\n",
       "    </tr>\n",
       "    <tr>\n",
       "      <th>3</th>\n",
       "      <td>SCTE</td>\n",
       "      <td>LAN</td>\n",
       "      <td>SCTE</td>\n",
       "      <td>LXP</td>\n",
       "      <td>6</td>\n",
       "      <td>Jueves</td>\n",
       "      <td>N</td>\n",
       "      <td>Grupo LATAM</td>\n",
       "      <td>Puerto Montt</td>\n",
       "      <td>6</td>\n",
       "      <td>0</td>\n",
       "      <td>afternoon</td>\n",
       "      <td>1</td>\n",
       "    </tr>\n",
       "    <tr>\n",
       "      <th>4</th>\n",
       "      <td>SBGR</td>\n",
       "      <td>TAM</td>\n",
       "      <td>SBGR</td>\n",
       "      <td>TAM</td>\n",
       "      <td>6</td>\n",
       "      <td>Jueves</td>\n",
       "      <td>I</td>\n",
       "      <td>Grupo LATAM</td>\n",
       "      <td>Sao Paulo</td>\n",
       "      <td>6</td>\n",
       "      <td>0</td>\n",
       "      <td>afternoon</td>\n",
       "      <td>0</td>\n",
       "    </tr>\n",
       "  </tbody>\n",
       "</table>\n",
       "</div>"
      ],
      "text/plain": [
       "  Des-I Emp-I Des-O Emp-O  MES  DIANOM TIPOVUELO                 OPERA  \\\n",
       "0  SPJC   SKU  SPJC   SKU   11  Jueves         I           Sky Airline   \n",
       "1  SCIE   LAW  SCIE   JMR    4  Jueves         N  Latin American Wings   \n",
       "2  MPTO   CMP  MPTO   CMP    6  Jueves         I              Copa Air   \n",
       "3  SCTE   LAN  SCTE   LXP    6  Jueves         N           Grupo LATAM   \n",
       "4  SBGR   TAM  SBGR   TAM    6  Jueves         I           Grupo LATAM   \n",
       "\n",
       "           SIGLADES  month  high_season period_day  delay_15  \n",
       "0              Lima     11            0      night         1  \n",
       "1        Concepcion      4            0  afternoon         0  \n",
       "2  Ciudad de Panama      6            0      night         1  \n",
       "3      Puerto Montt      6            0  afternoon         1  \n",
       "4         Sao Paulo      6            0  afternoon         0  "
      ]
     },
     "execution_count": 56,
     "metadata": {},
     "output_type": "execute_result"
    }
   ],
   "source": [
    "df_train.head()"
   ]
  },
  {
   "cell_type": "code",
   "execution_count": 57,
   "metadata": {},
   "outputs": [],
   "source": [
    "# map the values in the columns DIANOM and  MES\n",
    "df_train['DIANOM'] = df_train['DIANOM'].map(longer_delay_days)\n",
    "df_train['MES'] = df_train['MES'].map(longer_delay_months)\n",
    "\n"
   ]
  },
  {
   "cell_type": "code",
   "execution_count": 58,
   "metadata": {},
   "outputs": [
    {
     "name": "stderr",
     "output_type": "stream",
     "text": [
      "/home/codespace/.python/current/lib/python3.10/site-packages/sweetviz/dataframe_report.py:74: FutureWarning: iteritems is deprecated and will be removed in a future version. Use .items instead.\n",
      "  all_source_names = [cur_name for cur_name, cur_series in source_df.iteritems()]\n",
      "/home/codespace/.python/current/lib/python3.10/site-packages/sweetviz/dataframe_report.py:109: FutureWarning: iteritems is deprecated and will be removed in a future version. Use .items instead.\n",
      "  filtered_series_names_in_source = [cur_name for cur_name, cur_series in source_df.iteritems()\n",
      "Feature: delay_15 (TARGET)                   |▋         | [  7%]   00:00 -> (00:02 left)/home/codespace/.python/current/lib/python3.10/site-packages/sweetviz/series_analyzer_cat.py:28: FutureWarning: iteritems is deprecated and will be removed in a future version. Use .items instead.\n",
      "  for item in category_counts.iteritems():\n",
      "Feature: Des-I                               |█▍        | [ 14%]   00:00 -> (00:03 left)/home/codespace/.python/current/lib/python3.10/site-packages/sweetviz/series_analyzer_cat.py:28: FutureWarning: iteritems is deprecated and will be removed in a future version. Use .items instead.\n",
      "  for item in category_counts.iteritems():\n",
      "Feature: Emp-I                               |██▏       | [ 21%]   00:01 -> (00:04 left)/home/codespace/.python/current/lib/python3.10/site-packages/sweetviz/series_analyzer_cat.py:28: FutureWarning: iteritems is deprecated and will be removed in a future version. Use .items instead.\n",
      "  for item in category_counts.iteritems():\n",
      "Feature: Des-O                               |██▊       | [ 29%]   00:01 -> (00:04 left)/home/codespace/.python/current/lib/python3.10/site-packages/sweetviz/series_analyzer_cat.py:28: FutureWarning: iteritems is deprecated and will be removed in a future version. Use .items instead.\n",
      "  for item in category_counts.iteritems():\n",
      "Feature: Emp-O                               |███▌      | [ 36%]   00:02 -> (00:04 left)/home/codespace/.python/current/lib/python3.10/site-packages/sweetviz/series_analyzer_cat.py:28: FutureWarning: iteritems is deprecated and will be removed in a future version. Use .items instead.\n",
      "  for item in category_counts.iteritems():\n",
      "Feature: MES                                 |████▎     | [ 43%]   00:02 -> (00:03 left)/home/codespace/.python/current/lib/python3.10/site-packages/sweetviz/series_analyzer_cat.py:28: FutureWarning: iteritems is deprecated and will be removed in a future version. Use .items instead.\n",
      "  for item in category_counts.iteritems():\n",
      "Feature: DIANOM                              |█████     | [ 50%]   00:02 -> (00:02 left)/home/codespace/.python/current/lib/python3.10/site-packages/sweetviz/series_analyzer_cat.py:28: FutureWarning: iteritems is deprecated and will be removed in a future version. Use .items instead.\n",
      "  for item in category_counts.iteritems():\n",
      "Feature: TIPOVUELO                           |█████▋    | [ 57%]   00:02 -> (00:01 left)/home/codespace/.python/current/lib/python3.10/site-packages/sweetviz/series_analyzer_cat.py:28: FutureWarning: iteritems is deprecated and will be removed in a future version. Use .items instead.\n",
      "  for item in category_counts.iteritems():\n",
      "Feature: OPERA                               |██████▍   | [ 64%]   00:03 -> (00:01 left)/home/codespace/.python/current/lib/python3.10/site-packages/sweetviz/series_analyzer_cat.py:28: FutureWarning: iteritems is deprecated and will be removed in a future version. Use .items instead.\n",
      "  for item in category_counts.iteritems():\n",
      "Feature: SIGLADES                            |███████▏  | [ 71%]   00:03 -> (00:01 left)/home/codespace/.python/current/lib/python3.10/site-packages/sweetviz/series_analyzer_cat.py:28: FutureWarning: iteritems is deprecated and will be removed in a future version. Use .items instead.\n",
      "  for item in category_counts.iteritems():\n",
      "Feature: month                               |███████▊  | [ 79%]   00:04 -> (00:01 left)/home/codespace/.python/current/lib/python3.10/site-packages/sweetviz/series_analyzer_numeric.py:25: FutureWarning: The 'mad' method is deprecated and will be removed in a future version. To compute the same result, you may do `(df - df.mean()).abs().mean()`.\n",
      "  stats[\"mad\"] = series.mad()\n",
      "Feature: high_season                         |████████▌ | [ 86%]   00:04 -> (00:00 left)/home/codespace/.python/current/lib/python3.10/site-packages/sweetviz/series_analyzer_cat.py:28: FutureWarning: iteritems is deprecated and will be removed in a future version. Use .items instead.\n",
      "  for item in category_counts.iteritems():\n",
      "Feature: period_day                          |█████████▎| [ 93%]   00:05 -> (00:00 left)/home/codespace/.python/current/lib/python3.10/site-packages/sweetviz/series_analyzer_cat.py:28: FutureWarning: iteritems is deprecated and will be removed in a future version. Use .items instead.\n",
      "  for item in category_counts.iteritems():\n",
      "Done! Use 'show' commands to display/save.   |██████████| [100%]   00:00 -> (00:00 left)\n"
     ]
    },
    {
     "name": "stdout",
     "output_type": "stream",
     "text": [
      "Report ./reports/EDA_mod_report.html was generated! NOTEBOOK/COLAB USERS: the web browser MAY not pop up, regardless, the report IS saved in your notebook/colab files.\n"
     ]
    }
   ],
   "source": [
    "\n",
    "my_report = sv.analyze(df_train,target_feat='delay_15')\n",
    "my_report.show_html(filepath='./reports/EDA_mod_report.html') \n"
   ]
  },
  {
   "cell_type": "code",
   "execution_count": 22,
   "metadata": {},
   "outputs": [],
   "source": []
  },
  {
   "attachments": {},
   "cell_type": "markdown",
   "metadata": {},
   "source": [
    "**In the bellow images we can see the variables that were more affected by the mapping:** "
   ]
  },
  {
   "attachments": {},
   "cell_type": "markdown",
   "metadata": {},
   "source": [
    "The variable month now has a linear relation of its value (1,2,3) and the increase in the rate of delays.  \n",
    "\n",
    "It might even be more relevant to the model than the hihg_season variable.  "
   ]
  },
  {
   "attachments": {
    "image-2.png": {
     "image/png": "[encoded data removed]"
    },
    "image.png": {
     "image/png": "[encoded data removed]"
    }
   },
   "cell_type": "markdown",
   "metadata": {},
   "source": [
    "![image.png](attachment:image.png)\n",
    "\n",
    "\n",
    "![image.png](attachment:image-2.png)"
   ]
  },
  {
   "attachments": {},
   "cell_type": "markdown",
   "metadata": {},
   "source": [
    "The day variable also has now a clear relation with the target variable "
   ]
  },
  {
   "attachments": {
    "image.png": {
     "image/png": "[encoded data removed]"
    }
   },
   "cell_type": "markdown",
   "metadata": {},
   "source": [
    "![image.png](attachment:image.png)"
   ]
  },
  {
   "attachments": {},
   "cell_type": "markdown",
   "metadata": {},
   "source": [
    "For the rest of the features is still required to apply a target encoding. "
   ]
  },
  {
   "cell_type": "code",
   "execution_count": null,
   "metadata": {},
   "outputs": [],
   "source": []
  },
  {
   "attachments": {},
   "cell_type": "markdown",
   "metadata": {},
   "source": [
    "Regarding the variables that may have the larget impact on the model: \n",
    "\n",
    "* Mes: I expect this variable to have a large impact on the model. \n",
    "\n",
    "* TIPOVUELO: I expect this variable to have a large impact on the model.\n",
    "\n",
    "* OPERA (And similar): There is a large variance of the delay rate across the airlines, which is a good sign for the model. But they also have a large cardinality and are largely invalanced, so may need further work in order to encode the information propertly. \n",
    "\n",
    "* SIGLADES (And similar): Similarly to the opera variable there is a large variance of the delay rate and a high cardinality, with the advantage of been more balanced that 'OPERA'. The disadvantage is that a large proportion of its information may be already encoded in the variable 'TIPOVUELO'\n"
   ]
  },
  {
   "cell_type": "markdown",
   "metadata": {},
   "source": []
  },
  {
   "cell_type": "code",
   "execution_count": null,
   "metadata": {},
   "outputs": [],
   "source": []
  },
  {
   "cell_type": "code",
   "execution_count": null,
   "metadata": {},
   "outputs": [],
   "source": []
  },
  {
   "cell_type": "code",
   "execution_count": null,
   "metadata": {},
   "outputs": [],
   "source": []
  },
  {
   "cell_type": "code",
   "execution_count": null,
   "metadata": {},
   "outputs": [],
   "source": [
    " "
   ]
  },
  {
   "attachments": {},
   "cell_type": "markdown",
   "metadata": {},
   "source": [
    "# Question 4: \n",
    "\n",
    " Train one or several models (using the algorithm(s) of your choice) to estimate the likelihood of a flight delay.\n",
    "Feel free to generate additional variables and/or supplement with external variables."
   ]
  },
  {
   "cell_type": "code",
   "execution_count": 60,
   "metadata": {},
   "outputs": [],
   "source": [
    "df_train\n",
    "\n",
    "# split the data into train and validation \n",
    "\n",
    "from sklearn.model_selection import train_test_split\n",
    "\n",
    "#ce.fit_transform#(X[, y])\n",
    "import category_encoders as ce\n",
    "\n",
    "woee =  ce.woe.WOEEncoder()\n"
   ]
  },
  {
   "cell_type": "code",
   "execution_count": 61,
   "metadata": {},
   "outputs": [],
   "source": [
    "X = df_train.drop('delay_15', axis=1)\n",
    "y = df_train['delay_15']\n",
    "\n",
    "X_train, X_val, y_train, y_val = train_test_split(X, y, test_size=0.2, random_state=0,stratify=y)\n"
   ]
  },
  {
   "cell_type": "code",
   "execution_count": null,
   "metadata": {},
   "outputs": [],
   "source": []
  },
  {
   "attachments": {
    "image.png": {
     "image/png": "[encoded data removed]"
    }
   },
   "cell_type": "markdown",
   "metadata": {},
   "source": [
    "![image.png](attachment:image.png)"
   ]
  },
  {
   "cell_type": "code",
   "execution_count": null,
   "metadata": {},
   "outputs": [],
   "source": []
  }
 ],
 "metadata": {
  "kernelspec": {
   "display_name": "Python 3",
   "language": "python",
   "name": "python3"
  },
  "language_info": {
   "codemirror_mode": {
    "name": "ipython",
    "version": 3
   },
   "file_extension": ".py",
   "mimetype": "text/x-python",
   "name": "python",
   "nbconvert_exporter": "python",
   "pygments_lexer": "ipython3",
   "version": "3.10.4"
  },
  "orig_nbformat": 4,
  "vscode": {
   "interpreter": {
    "hash": "3ad933181bd8a04b432d3370b9dc3b0662ad032c4dfaa4e4f1596c548f763858"
   }
  }
 },
 "nbformat": 4,
 "nbformat_minor": 2
}
